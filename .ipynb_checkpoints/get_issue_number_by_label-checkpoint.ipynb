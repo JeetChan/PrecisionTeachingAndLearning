{
 "cells": [
  {
   "cell_type": "code",
   "execution_count": null,
   "metadata": {
    "collapsed": true
   },
   "outputs": [],
   "source": [
    "# 仅能输出cricksong发布的最新issue，需要考虑使用循环，将所有的结果保存到list中\n",
    "\n",
    "import json\n",
    "import requests\n",
    "\n",
    "# Authentication for user filing issue (must have read/write access to\n",
    "# repository to add issue to)\n",
    "USERNAME = 'leiyunhe'\n",
    "PASSWORD = 'he18801730209'\n",
    "\n",
    "# The repository to add this issue to\n",
    "REPO_OWNER = 'AIMinder'\n",
    "REPO_NAME = 'Py103'\n",
    "\n",
    "# issue created by creator\n",
    "TIME = '2017-03-01T00:00:00Z'\n",
    "payload = {'labels':LABEL,\n",
    "           'state':STATE，\n",
    "           'since':TIME}\n",
    "\n",
    "def get_github_issue():\n",
    "    url = 'https://api.github.com/repos/%s/%s/issues' % (REPO_OWNER, REPO_NAME)\n",
    "    s = requests.session()\n",
    "    s.auth = (USERNAME,PASSWORD)\n",
    "    r = s.get(url, params = payload)\n",
    "    result = json.loads(r.text)\n",
    "    ls = []\n",
    "    for \n",
    "    issue_id = result[0][\"id\"]\n",
    "\tissue_number = result[0][\"number\"]\n",
    "\treturn (issue_id, issue_number)\n",
    "\n",
    "r = get_github_issue()\n",
    "print(r)"
   ]
  }
 ],
 "metadata": {
  "kernelspec": {
   "display_name": "Python 3",
   "language": "python",
   "name": "python3"
  },
  "language_info": {
   "codemirror_mode": {
    "name": "ipython",
    "version": 3
   },
   "file_extension": ".py",
   "mimetype": "text/x-python",
   "name": "python",
   "nbconvert_exporter": "python",
   "pygments_lexer": "ipython3",
   "version": "3.6.0"
  }
 },
 "nbformat": 4,
 "nbformat_minor": 2
}
