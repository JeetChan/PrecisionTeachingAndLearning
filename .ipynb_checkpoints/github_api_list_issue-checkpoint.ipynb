{
 "cells": [
  {
   "cell_type": "code",
   "execution_count": 19,
   "metadata": {
    "collapsed": false,
    "deletable": true,
    "editable": true
   },
   "outputs": [
    {
     "name": "stdout",
     "output_type": "stream",
     "text": [
      "213575747 7\n"
     ]
    },
    {
     "data": {
      "text/plain": [
       "(213575747, 7)"
      ]
     },
     "execution_count": 19,
     "metadata": {},
     "output_type": "execute_result"
    }
   ],
   "source": [
    "import json\n",
    "import requests\n",
    "\n",
    "# Authentication for user filing issue (must have read/write access to\n",
    "# repository to add issue to)\n",
    "USERNAME = 'leiyunhe'\n",
    "PASSWORD = 'Craney20150421'\n",
    "\n",
    "# The repository to add this issue to\n",
    "REPO_OWNER = 'leiyunhe'\n",
    "REPO_NAME = 'PrecisionTeachingAndLearning'\n",
    "\n",
    "# issue created by creator\n",
    "CREATOR = 'ruibofeng'\n",
    "TIME = '2017-01-01T00:00:00Z'\n",
    "payload = {'creator':CREATOR,\n",
    "\t\t\t'since':TIME}\n",
    "\n",
    "def get_github_issue():\n",
    "\turl = 'https://api.github.com/repos/%s/%s/issues' % (REPO_OWNER, REPO_NAME)\n",
    "\ts = requests.session()\n",
    "\n",
    "\ts.auth = (USERNAME,PASSWORD)\n",
    " #   issue = {'creator':creator,'since':since,'state':state}\n",
    "\tr = s.get(url, params = payload)\n",
    "#\tprint(r.text)\n",
    "#\tprint(r.text[0])\n",
    "\tresult = json.loads(r.text)\n",
    "#\tprint(type(result))\n",
    "#\treturn result[0][0]\n",
    "\t# print(result[0])\n",
    "\tissue_id = result[0][\"id\"]\n",
    "\tissue_number = result[0][\"number\"]\n",
    "\n",
    "\tprint(issue_id,issue_number)\n",
    "\treturn issue_id, issue_number\n",
    "\n",
    "\n",
    "\n",
    "\n",
    "get_github_issue()\n"
   ]
  },
  {
   "cell_type": "code",
   "execution_count": 12,
   "metadata": {
    "collapsed": false,
    "deletable": true,
    "editable": true
   },
   "outputs": [
    {
     "name": "stdout",
     "output_type": "stream",
     "text": [
      "{'login': '13416136446', 'id': 20377303, 'avatar_url': 'https://avatars2.githubusercontent.com/u/20377303?v=3', 'gravatar_id': '', 'url': 'https://api.github.com/users/13416136446', 'html_url': 'https://github.com/13416136446', 'followers_url': 'https://api.github.com/users/13416136446/followers', 'following_url': 'https://api.github.com/users/13416136446/following{/other_user}', 'gists_url': 'https://api.github.com/users/13416136446/gists{/gist_id}', 'starred_url': 'https://api.github.com/users/13416136446/starred{/owner}{/repo}', 'subscriptions_url': 'https://api.github.com/users/13416136446/subscriptions', 'organizations_url': 'https://api.github.com/users/13416136446/orgs', 'repos_url': 'https://api.github.com/users/13416136446/repos', 'events_url': 'https://api.github.com/users/13416136446/events{/privacy}', 'received_events_url': 'https://api.github.com/users/13416136446/received_events', 'type': 'User', 'site_admin': False}\n"
     ]
    }
   ],
   "source": [
    "import json\n",
    "import requests\n",
    "\n",
    "# Authentication for user filing issue (must have read/write access to\n",
    "# repository to add issue to)\n",
    "USERNAME = 'leiyunhe'\n",
    "PASSWORD = 'Craney20150421'\n",
    "\n",
    "# The repository to add this issue to\n",
    "REPO_OWNER = 'AIMinder'\n",
    "REPO_NAME = 'Py103'\n",
    "\n",
    "# issue created by creator\n",
    "CREATOR = 'ruibofeng'\n",
    "TIME = '2017-01-01T00:00:00Z'\n",
    "payload = {'filter':all,\n",
    "\t\t\t'role':all}\n",
    "\n",
    "ORG_NAME = 'AIMINDER'\n",
    "\n",
    "# GET /orgs/:org/members\n",
    "def get_github_member_from_org():\n",
    "\turl = 'https://api.github.com/orgs/%s/members' % (ORG_NAME)\n",
    "\ts = requests.session()\n",
    "\n",
    "\ts.auth = (USERNAME,PASSWORD)\n",
    "\tr = s.get(url, params = payload)\n",
    "#     r =  s.get(url)\n",
    "#\tprint(r.text)\n",
    "#\tprint(r.text[0])\n",
    "\tresult = json.loads(r.text)\n",
    "#\tprint(type(result))\n",
    "\n",
    "#\treturn result[0][0]\n",
    "\tprint(result[0])\n",
    "\n",
    "get_github_member_from_org()\n"
   ]
  },
  {
   "cell_type": "code",
   "execution_count": 24,
   "metadata": {
    "collapsed": false,
    "deletable": true,
    "editable": true
   },
   "outputs": [
    {
     "name": "stdout",
     "output_type": "stream",
     "text": [
      "(210461387, 267)\n"
     ]
    }
   ],
   "source": [
    "# 仅能输出cricksong发布的最新issue，需要考虑使用循环，将所有的结果保存到list中\n",
    "\n",
    "import json\n",
    "import requests\n",
    "\n",
    "# Authentication for user filing issue (must have read/write access to\n",
    "# repository to add issue to)\n",
    "USERNAME = 'leiyunhe'\n",
    "PASSWORD = 'Craney20150421'\n",
    "\n",
    "# The repository to add this issue to\n",
    "REPO_OWNER = 'AIMinder'\n",
    "REPO_NAME = 'Py103'\n",
    "\n",
    "# issue created by creator\n",
    "CREATOR = 'CrickeySong'\n",
    "TIME = '2017-03-01T00:00:00Z'\n",
    "payload = {'creator':CREATOR,\n",
    "\t\t\t'since':TIME}\n",
    "\n",
    "def get_github_issue():\n",
    "\turl = 'https://api.github.com/repos/%s/%s/issues' % (REPO_OWNER, REPO_NAME)\n",
    "\ts = requests.session()\n",
    "\n",
    "\ts.auth = (USERNAME,PASSWORD)\n",
    " #   issue = {'creator':creator,'since':since,'state':state}\n",
    "\tr = s.get(url, params = payload)\n",
    "#\tprint(r.text)\n",
    "#\tprint(r.text[0])\n",
    "\tresult = json.loads(r.text)\n",
    "#\tprint(type(result))\n",
    "#\treturn result[0][0]\n",
    "# \tprint(result)\n",
    "\tissue_id = result[0][\"id\"]\n",
    "\tissue_number = result[0][\"number\"]\n",
    "\treturn (issue_id, issue_number)\n",
    "\n",
    "r = get_github_issue()\n",
    "print(r)"
   ]
  },
  {
   "cell_type": "code",
   "execution_count": 27,
   "metadata": {
    "collapsed": false,
    "deletable": true,
    "editable": true
   },
   "outputs": [
    {
     "ename": "IndentationError",
     "evalue": "unindent does not match any outer indentation level (<ipython-input-27-3410c5bdab11>, line 33)",
     "output_type": "error",
     "traceback": [
      "\u001b[1;36m  File \u001b[1;32m\"<ipython-input-27-3410c5bdab11>\"\u001b[1;36m, line \u001b[1;32m33\u001b[0m\n\u001b[1;33m    for l in result:\u001b[0m\n\u001b[1;37m                    ^\u001b[0m\n\u001b[1;31mIndentationError\u001b[0m\u001b[1;31m:\u001b[0m unindent does not match any outer indentation level\n"
     ]
    }
   ],
   "source": [
    "# 仅能输出cricksong发布的最新issue，需要考虑使用循环，将所有的结果保存到list中\n",
    "\n",
    "import json\n",
    "import requests\n",
    "\n",
    "# Authentication for user filing issue (must have read/write access to\n",
    "# repository to add issue to)\n",
    "USERNAME = 'leiyunhe'\n",
    "PASSWORD = 'Craney20150421'\n",
    "\n",
    "# The repository to add this issue to\n",
    "REPO_OWNER = 'AIMinder'\n",
    "REPO_NAME = 'Py103'\n",
    "\n",
    "# issue created by creator\n",
    "CREATOR = 'CrickeySong'\n",
    "TIME = '2017-03-01T00:00:00Z'\n",
    "payload = {'creator':CREATOR,\n",
    "\t\t\t'since':TIME}\n",
    "\n",
    "def get_github_issue():\n",
    "\turl = 'https://api.github.com/repos/%s/%s/issues' % (REPO_OWNER, REPO_NAME)\n",
    "\ts = requests.session()\n",
    "\n",
    "\ts.auth = (USERNAME,PASSWORD)\n",
    " #   issue = {'creator':creator,'since':since,'state':state}\n",
    "\tr = s.get(url, params = payload)\n",
    "#\tprint(r.text)\n",
    "#\tprint(r.text[0])\n",
    "\tresult = json.loads(r.text)\n",
    "#\tprint(type(result))\n",
    "#\treturn result[0][0]\n",
    "    for l in result:\n",
    "        print(l[\"id\"],l[\"number\"])\n",
    "#         issue_number = l[\"number\"]\n",
    "# \tissue_id = result[0][\"id\"]\n",
    "# \tissue_number = result[0][\"number\"]\n",
    "    \n",
    "# \tprint(issue_id,issue_number)\n",
    "# \treturn (issue_id, issue_number)\n",
    "\n",
    "\n",
    "get_github_issue()\n",
    "# r = get_github_issue()\n",
    "# print(r)\n",
    "    \n"
   ]
  },
  {
   "cell_type": "code",
   "execution_count": null,
   "metadata": {
    "collapsed": true
   },
   "outputs": [],
   "source": []
  },
  {
   "cell_type": "code",
   "execution_count": 28,
   "metadata": {
    "collapsed": false,
    "deletable": true,
    "editable": true
   },
   "outputs": [
    {
     "name": "stdout",
     "output_type": "stream",
     "text": [
      "210461387 267\n",
      "210454026 266\n",
      "210453605 265\n",
      "210453217 264\n",
      "210452648 263\n",
      "208711794 242\n",
      "206970172 221\n"
     ]
    }
   ],
   "source": [
    "# 仅能输出cricksong发布的最新issue，需要考虑使用循环，将所有的结果保存到list中\n",
    "\n",
    "import json\n",
    "import requests\n",
    "\n",
    "# Authentication for user filing issue (must have read/write access to\n",
    "# repository to add issue to)\n",
    "USERNAME = 'leiyunhe'\n",
    "PASSWORD = 'Craney20150421'\n",
    "\n",
    "# The repository to add this issue to\n",
    "REPO_OWNER = 'AIMinder'\n",
    "REPO_NAME = 'Py103'\n",
    "\n",
    "# issue created by creator\n",
    "CREATOR = 'CrickeySong'\n",
    "TIME = '2017-03-01T00:00:00Z'\n",
    "payload = {'creator':CREATOR,\n",
    "\t\t\t'since':TIME}\n",
    "\n",
    "def get_github_issue():\n",
    "    url = 'https://api.github.com/repos/%s/%s/issues' % (REPO_OWNER, REPO_NAME)\n",
    "    s = requests.session()\n",
    "    s.auth = (USERNAME,PASSWORD)\n",
    "    r = s.get(url, params = payload)\n",
    "    result = json.loads(r.text)\n",
    "    for l in result:\n",
    "        print(l[\"id\"],l[\"number\"])\n",
    "\n",
    "get_github_issue()\n",
    "\n",
    "    \n"
   ]
  },
  {
   "cell_type": "code",
   "execution_count": null,
   "metadata": {
    "collapsed": true
   },
   "outputs": [],
   "source": []
  }
 ],
 "metadata": {
  "kernelspec": {
   "display_name": "Python 3",
   "language": "python",
   "name": "python3"
  },
  "language_info": {
   "codemirror_mode": {
    "name": "ipython",
    "version": 3
   },
   "file_extension": ".py",
   "mimetype": "text/x-python",
   "name": "python",
   "nbconvert_exporter": "python",
   "pygments_lexer": "ipython3",
   "version": "3.6.0"
  }
 },
 "nbformat": 4,
 "nbformat_minor": 2
}
