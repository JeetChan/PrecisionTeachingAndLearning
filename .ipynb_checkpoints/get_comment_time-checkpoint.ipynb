{
 "cells": [
  {
   "cell_type": "code",
   "execution_count": 13,
   "metadata": {
    "collapsed": false,
    "deletable": true,
    "editable": true
   },
   "outputs": [
    {
     "name": "stdout",
     "output_type": "stream",
     "text": [
      "{'url': 'https://api.github.com/repos/AIMinder/Py103/issues/286', 'repository_url': 'https://api.github.com/repos/AIMinder/Py103', 'labels_url': 'https://api.github.com/repos/AIMinder/Py103/issues/286/labels{/name}', 'comments_url': 'https://api.github.com/repos/AIMinder/Py103/issues/286/comments', 'events_url': 'https://api.github.com/repos/AIMinder/Py103/issues/286/events', 'html_url': 'https://github.com/AIMinder/Py103/issues/286', 'id': 213760418, 'number': 286, 'title': '结业路演即将开始，来分享你的经验，或聊聊你的困扰吧！', 'user': {'login': 'iamzhuoxuan', 'id': 24438878, 'avatar_url': 'https://avatars2.githubusercontent.com/u/24438878?v=3', 'gravatar_id': '', 'url': 'https://api.github.com/users/iamzhuoxuan', 'html_url': 'https://github.com/iamzhuoxuan', 'followers_url': 'https://api.github.com/users/iamzhuoxuan/followers', 'following_url': 'https://api.github.com/users/iamzhuoxuan/following{/other_user}', 'gists_url': 'https://api.github.com/users/iamzhuoxuan/gists{/gist_id}', 'starred_url': 'https://api.github.com/users/iamzhuoxuan/starred{/owner}{/repo}', 'subscriptions_url': 'https://api.github.com/users/iamzhuoxuan/subscriptions', 'organizations_url': 'https://api.github.com/users/iamzhuoxuan/orgs', 'repos_url': 'https://api.github.com/users/iamzhuoxuan/repos', 'events_url': 'https://api.github.com/users/iamzhuoxuan/events{/privacy}', 'received_events_url': 'https://api.github.com/users/iamzhuoxuan/received_events', 'type': 'User', 'site_admin': False}, 'labels': [], 'state': 'open', 'locked': False, 'assignee': None, 'assignees': [], 'milestone': None, 'comments': 0, 'created_at': '2017-03-13T13:04:32Z', 'updated_at': '2017-03-13T13:04:32Z', 'closed_at': None, 'body': '结业项目不仅需你开发一个可用产品，还需你精心准备结业路演，介绍、演示你的产品，回答教练与同学的提问。每个项目的路演+提问时间总计 20 分钟。\\r\\n\\r\\n针对结业路演，你需做好以下准备工作：\\r\\n\\r\\n* 确定项目展示的形式：结业路演可用资源如下，你可以选择自认为效果最好的方式哦\\r\\n\\t* 可选择在学员微信群，或开智学堂 App Py103 直播间路演\\r\\n\\t\\t* 微信群有哪些功能，你懂的，欢迎任意发挥~\\r\\n\\t\\t* Py103 直播间支持手机直播、PC 桌面内容直播\\r\\n\\t* 不管怎样，都请准备一个 3-5 分钟的视频，介绍你的项目哦，比如 [Py101 的小小书童项目](http://openmindclub.com/my/packs/e3ca1020-c78f-11e6-acaa-4b4af89f71e0/cards/c0461440-c817-11e6-a287-c1f0b56b023b )\\r\\n* 准备结业路演可能被问到的问题\\r\\n* 明确分工，安排相应成员完成以上任务\\r\\n\\r\\n准备**路演**过程中，你会遇到困扰，欢迎你在本 issue 下聊聊你的问题，教练与同学们 @AIMinder/py103stu 将与你一起探讨、解决。\\r\\n\\r\\n也欢迎各位教练与同学，持续在这里分享你准备路演过程中收获的好资料、好经验 ;-)\\r\\n\\r\\n### PS \\r\\n\\r\\n未添加教练的项目小组，请及时将教练添加到小组讨论 IM 群中，以便获得更多指点哦。相关安排参见： [快将你的教练加到结业项目 IM 群中！ · Issue #283](https://github.com/AIMinder/Py103/issues/283) '}\n"
     ]
    },
    {
     "data": {
      "text/plain": [
       "21"
      ]
     },
     "execution_count": 13,
     "metadata": {},
     "output_type": "execute_result"
    }
   ],
   "source": [
    "import json\n",
    "import requests\n",
    "\n",
    "USERNAME = 'leiyunhe'\n",
    "PASSWORD = 'Craney20150421'\n",
    "\n",
    "CREATOR = 'leiyunhe'\n",
    "TIME = '2017-01-01T00:00:00Z'\n",
    "\n",
    "REPO_OWNER = 'AIMinder'\n",
    "REPO_NAME = 'Py103'\n",
    "\n",
    "# 每个函数传递的payload不同，因此需要修改，重新写成几个不同的payload,存在字典中，以备调用。\n",
    "payload = {'since':TIME}\n",
    "def ask_question_issue():\n",
    "    url = 'https://api.github.com/repos/%s/%s/issues' % (REPO_OWNER, REPO_NAME)\n",
    "    s = requests.session()\n",
    "    s.auth = (USERNAME,PASSWORD)\n",
    "    r = s.get(url, params = payload)\n",
    "    result = json.loads(r.text)\n",
    "    #print(result)\n",
    "    print(result[0])\n",
    "    return len(result[0])\n",
    "#     print(len(result[0]))\n",
    "#     ls = []\n",
    "#     for i in range(len(result)):\n",
    "#         issue_url = result[i][\"url\"]\n",
    "#         issue_number = result[i][\"number\"]\n",
    "#         ls[i] = (issue_url,issue_number)\n",
    "#     return ls\n",
    "ask_question_issue()"
   ]
  },
  {
   "cell_type": "code",
   "execution_count": 4,
   "metadata": {
    "collapsed": false,
    "deletable": true,
    "editable": true
   },
   "outputs": [
    {
     "name": "stdout",
     "output_type": "stream",
     "text": [
      "[['https://api.github.com/repos/AIMinder/Py103/issues/comments/284659642', '2017-03-07T08:52:39Z', 'leiyunhe'], ['https://api.github.com/repos/AIMinder/Py103/issues/comments/285842343', '2017-03-11T04:52:03Z', 'Lesley19']]\n"
     ]
    }
   ],
   "source": [
    "import json\n",
    "import requests\n",
    "\n",
    "USERNAME = 'leiyunhe'\n",
    "PASSWORD = 'Craney20150421'\n",
    "\n",
    "CREATOR = 'leiyunhe'\n",
    "TIME = '2017-01-01T00:00:00Z'\n",
    "LABEL = 'task'\n",
    "STATE = 'all'\n",
    "\n",
    "\n",
    "\n",
    "REPO_OWNER = 'AIMinder'\n",
    "REPO_NAME = 'Py103'\n",
    "\n",
    "payload2 = {'labels': LABEL,\n",
    "            'state': STATE}\n",
    "\n",
    "def submit_task_issue(ISSUE_NUMBER):\n",
    "    '''\n",
    "List comments on an issue\n",
    "return: user_name, comments_url, created_at_time\n",
    "DOC  https://developer.github.com/v3/issues/comments/\n",
    "'''\n",
    "    url = 'https://api.github.com/repos/%s/%s/issues/%s/comments' % (REPO_OWNER, REPO_NAME,ISSUE_NUMBER)\n",
    "    s = requests.session()\n",
    "    s.auth = (USERNAME,PASSWORD)\n",
    "    r = s.get(url,params = payload2)\n",
    "    result = json.loads(r.text)\n",
    "    ls = []\n",
    "    for x in result:\n",
    "            # m = [x[\"url\"],x[\"created_at\"],x[\"user\"]]\n",
    "#         m = [x[\"url\"],x[\"created_at\"],x[\"user\"][\"login\"]]\n",
    "        m = (x[\"user\"][\"login\"],x[\"created_at\"])\n",
    "        ls.append(m)\n",
    "    return ls\n",
    "s = submit_task_issue('264')\n",
    "print(s)"
   ]
  },
  {
   "cell_type": "code",
   "execution_count": null,
   "metadata": {
    "collapsed": true
   },
   "outputs": [],
   "source": []
  }
 ],
 "metadata": {
  "kernelspec": {
   "display_name": "Python 3",
   "language": "python",
   "name": "python3"
  },
  "language_info": {
   "codemirror_mode": {
    "name": "ipython",
    "version": 3
   },
   "file_extension": ".py",
   "mimetype": "text/x-python",
   "name": "python",
   "nbconvert_exporter": "python",
   "pygments_lexer": "ipython3",
   "version": "3.6.0"
  }
 },
 "nbformat": 4,
 "nbformat_minor": 2
}
