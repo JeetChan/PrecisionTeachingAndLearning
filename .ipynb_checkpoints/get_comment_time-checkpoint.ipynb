{
 "cells": [
  {
   "cell_type": "code",
   "execution_count": 13,
   "metadata": {
    "collapsed": false,
    "deletable": true,
    "editable": true
   },
   "outputs": [
    {
     "name": "stdout",
     "output_type": "stream",
     "text": [
      "{'url': 'https://api.github.com/repos/AIMinder/Py103/issues/286', 'repository_url': 'https://api.github.com/repos/AIMinder/Py103', 'labels_url': 'https://api.github.com/repos/AIMinder/Py103/issues/286/labels{/name}', 'comments_url': 'https://api.github.com/repos/AIMinder/Py103/issues/286/comments', 'events_url': 'https://api.github.com/repos/AIMinder/Py103/issues/286/events', 'html_url': 'https://github.com/AIMinder/Py103/issues/286', 'id': 213760418, 'number': 286, 'title': '结业路演即将开始，来分享你的经验，或聊聊你的困扰吧！', 'user': {'login': 'iamzhuoxuan', 'id': 24438878, 'avatar_url': 'https://avatars2.githubusercontent.com/u/24438878?v=3', 'gravatar_id': '', 'url': 'https://api.github.com/users/iamzhuoxuan', 'html_url': 'https://github.com/iamzhuoxuan', 'followers_url': 'https://api.github.com/users/iamzhuoxuan/followers', 'following_url': 'https://api.github.com/users/iamzhuoxuan/following{/other_user}', 'gists_url': 'https://api.github.com/users/iamzhuoxuan/gists{/gist_id}', 'starred_url': 'https://api.github.com/users/iamzhuoxuan/starred{/owner}{/repo}', 'subscriptions_url': 'https://api.github.com/users/iamzhuoxuan/subscriptions', 'organizations_url': 'https://api.github.com/users/iamzhuoxuan/orgs', 'repos_url': 'https://api.github.com/users/iamzhuoxuan/repos', 'events_url': 'https://api.github.com/users/iamzhuoxuan/events{/privacy}', 'received_events_url': 'https://api.github.com/users/iamzhuoxuan/received_events', 'type': 'User', 'site_admin': False}, 'labels': [], 'state': 'open', 'locked': False, 'assignee': None, 'assignees': [], 'milestone': None, 'comments': 0, 'created_at': '2017-03-13T13:04:32Z', 'updated_at': '2017-03-13T13:04:32Z', 'closed_at': None, 'body': '结业项目不仅需你开发一个可用产品，还需你精心准备结业路演，介绍、演示你的产品，回答教练与同学的提问。每个项目的路演+提问时间总计 20 分钟。\\r\\n\\r\\n针对结业路演，你需做好以下准备工作：\\r\\n\\r\\n* 确定项目展示的形式：结业路演可用资源如下，你可以选择自认为效果最好的方式哦\\r\\n\\t* 可选择在学员微信群，或开智学堂 App Py103 直播间路演\\r\\n\\t\\t* 微信群有哪些功能，你懂的，欢迎任意发挥~\\r\\n\\t\\t* Py103 直播间支持手机直播、PC 桌面内容直播\\r\\n\\t* 不管怎样，都请准备一个 3-5 分钟的视频，介绍你的项目哦，比如 [Py101 的小小书童项目](http://openmindclub.com/my/packs/e3ca1020-c78f-11e6-acaa-4b4af89f71e0/cards/c0461440-c817-11e6-a287-c1f0b56b023b )\\r\\n* 准备结业路演可能被问到的问题\\r\\n* 明确分工，安排相应成员完成以上任务\\r\\n\\r\\n准备**路演**过程中，你会遇到困扰，欢迎你在本 issue 下聊聊你的问题，教练与同学们 @AIMinder/py103stu 将与你一起探讨、解决。\\r\\n\\r\\n也欢迎各位教练与同学，持续在这里分享你准备路演过程中收获的好资料、好经验 ;-)\\r\\n\\r\\n### PS \\r\\n\\r\\n未添加教练的项目小组，请及时将教练添加到小组讨论 IM 群中，以便获得更多指点哦。相关安排参见： [快将你的教练加到结业项目 IM 群中！ · Issue #283](https://github.com/AIMinder/Py103/issues/283) '}\n"
     ]
    },
    {
     "data": {
      "text/plain": [
       "21"
      ]
     },
     "execution_count": 13,
     "metadata": {},
     "output_type": "execute_result"
    }
   ],
   "source": [
    "import json\n",
    "import requests\n",
    "\n",
    "USERNAME = 'leiyunhe'\n",
    "PASSWORD = 'Craney20150421'\n",
    "\n",
    "CREATOR = 'leiyunhe'\n",
    "TIME = '2017-01-01T00:00:00Z'\n",
    "\n",
    "REPO_OWNER = 'AIMinder'\n",
    "REPO_NAME = 'Py103'\n",
    "\n",
    "# 每个函数传递的payload不同，因此需要修改，重新写成几个不同的payload,存在字典中，以备调用。\n",
    "payload = {'since':TIME}\n",
    "def ask_question_issue():\n",
    "    url = 'https://api.github.com/repos/%s/%s/issues' % (REPO_OWNER, REPO_NAME)\n",
    "    s = requests.session()\n",
    "    s.auth = (USERNAME,PASSWORD)\n",
    "    r = s.get(url, params = payload)\n",
    "    result = json.loads(r.text)\n",
    "    #print(result)\n",
    "    print(result[0])\n",
    "    return len(result[0])\n",
    "#     print(len(result[0]))\n",
    "#     ls = []\n",
    "#     for i in range(len(result)):\n",
    "#         issue_url = result[i][\"url\"]\n",
    "#         issue_number = result[i][\"number\"]\n",
    "#         ls[i] = (issue_url,issue_number)\n",
    "#     return ls\n",
    "ask_question_issue()"
   ]
  },
  {
   "cell_type": "code",
   "execution_count": 8,
   "metadata": {
    "collapsed": false,
    "deletable": true,
    "editable": true
   },
   "outputs": [
    {
     "name": "stdout",
     "output_type": "stream",
     "text": [
      "[{'url': 'https://api.github.com/repos/AIMinder/Py103/issues/comments/284659642', 'html_url': 'https://github.com/AIMinder/Py103/issues/264#issuecomment-284659642', 'issue_url': 'https://api.github.com/repos/AIMinder/Py103/issues/264', 'id': 284659642, 'user': {'login': 'leiyunhe', 'id': 22088422, 'avatar_url': 'https://avatars0.githubusercontent.com/u/22088422?v=3', 'gravatar_id': '', 'url': 'https://api.github.com/users/leiyunhe', 'html_url': 'https://github.com/leiyunhe', 'followers_url': 'https://api.github.com/users/leiyunhe/followers', 'following_url': 'https://api.github.com/users/leiyunhe/following{/other_user}', 'gists_url': 'https://api.github.com/users/leiyunhe/gists{/gist_id}', 'starred_url': 'https://api.github.com/users/leiyunhe/starred{/owner}{/repo}', 'subscriptions_url': 'https://api.github.com/users/leiyunhe/subscriptions', 'organizations_url': 'https://api.github.com/users/leiyunhe/orgs', 'repos_url': 'https://api.github.com/users/leiyunhe/repos', 'events_url': 'https://api.github.com/users/leiyunhe/events{/privacy}', 'received_events_url': 'https://api.github.com/users/leiyunhe/received_events', 'type': 'User', 'site_admin': False}, 'created_at': '2017-03-07T08:52:39Z', 'updated_at': '2017-03-10T08:35:16Z', 'body': '@AIMinder/Py103Stu  雷云鹤 完成chap7任务啦\\r\\n\\r\\n- 任务成果地址：（微信公众号：雷云鹤） 不是微信号名字哦\\r\\n- 任务成果截图：\\r\\n\\r\\n    + 截图1 \\r\\n![](https://github.com/leiyunhe/Py103/blob/master/Chap7/note/pic/wechatresult2.jpg?raw=true)\\r\\n\\r\\n    + 截图2\\r\\n![](https://github.com/leiyunhe/Py103/blob/master/Chap7/note/pic/wechatresult1.jpg?raw=true)\\r\\n\\r\\n- 程序使用说明地址： [代码](https://github.com/leiyunhe/Py103/blob/master/Chap7/project/test.py)\\r\\n- 个人教程地址： \\r\\n    \\r\\n    + [学习总结之血泪汇总](https://github.com/leiyunhe/Py103/blob/master/Chap7/note/LearningSummary.md)\\r\\n    + [教程](https://github.com/leiyunhe/Py103/blob/master/Chap7/note/CodeAnalysis.md)待更新。。。已经拉后腿了。大作业还没开始呢。。。\\r\\n- 感想： \\r\\n\\r\\n    + 2017-3-7，在flask+阿里云服务器部署的坑里，还没爬出来。部署微信应用感觉好高大上呀，超级想做出来。坚持，加油…… \\r\\n    + 结业项目还没开始，心里好焦急……可是从这里chap7爬不出来呀\\r\\n    + 在已经快失去信心的时候，多坚持了一下下，flask 阿里云 Ubuntu nginx gunicorn supervisor ，天哪，坑真的是多啊，等终于做出来了，又是微信的服务器连接，在线借口测试，消息MVP测试，我快要崩溃的时候，又坚持了一下。等做出来后，激动地热泪盈眶啊，终于完成了chap7。感谢@faketooth @fatfox2016 @liangpeili 的无私帮助。向大作业进发！\\r\\n\\r\\n```Change Log```\\r\\n+ 20170307 还没完成，只是占坑\\r\\n+ 20170310 10:30 更新chap7。部署在微信公众号的天气查询程序\\r\\n+ 20170310 16:34 更新学习总结'}, {'url': 'https://api.github.com/repos/AIMinder/Py103/issues/comments/285842343', 'html_url': 'https://github.com/AIMinder/Py103/issues/264#issuecomment-285842343', 'issue_url': 'https://api.github.com/repos/AIMinder/Py103/issues/264', 'id': 285842343, 'user': {'login': 'Lesley19', 'id': 24663600, 'avatar_url': 'https://avatars2.githubusercontent.com/u/24663600?v=3', 'gravatar_id': '', 'url': 'https://api.github.com/users/Lesley19', 'html_url': 'https://github.com/Lesley19', 'followers_url': 'https://api.github.com/users/Lesley19/followers', 'following_url': 'https://api.github.com/users/Lesley19/following{/other_user}', 'gists_url': 'https://api.github.com/users/Lesley19/gists{/gist_id}', 'starred_url': 'https://api.github.com/users/Lesley19/starred{/owner}{/repo}', 'subscriptions_url': 'https://api.github.com/users/Lesley19/subscriptions', 'organizations_url': 'https://api.github.com/users/Lesley19/orgs', 'repos_url': 'https://api.github.com/users/Lesley19/repos', 'events_url': 'https://api.github.com/users/Lesley19/events{/privacy}', 'received_events_url': 'https://api.github.com/users/Lesley19/received_events', 'type': 'User', 'site_admin': False}, 'created_at': '2017-03-11T04:52:03Z', 'updated_at': '2017-03-11T05:00:30Z', 'body': '@AIMinder/py103stu Lesley19 完成chap7任务啦\\r\\n哈哈哈哈终于做出来了\\r\\n最难的部分果然还是sae和wechat部署，只要搞定这两部分天气功能就没什么问题了\\r\\n作为一个运营也有着几千关注的公众号两年的……资深不务正业运营经理……\\r\\n个人觉得自己的作品里最亮点的地方在于\\r\\n公众号的名字好听，恩，名字是万事万物的基础\\r\\nlogo也很好看，恩，拿两个笔刷刷的，0和1，既像开机键，又像google的G\\r\\n\\r\\n等sae认证的时候，突发奇想一晚上搞定了个人域名注册和博客搭建\\r\\n个人域名取自公众号的英文翻译，居然注册到了.com域名，开心\\r\\n程序员朋友说你要转行吗\\r\\n转行当然不会\\r\\n但是真的很有趣啊\\r\\n\\r\\n感谢自己从chap0到chap7都完成了！\\r\\n大作业你好！\\r\\n\\r\\n[代码](https://github.com/Lesley19/Py103/tree/master/Chap7/project)\\r\\n[笔记继续完善中](https://github.com/Lesley19/Py103/tree/master/Chap7/note)\\r\\n![image](https://cloud.githubusercontent.com/assets/24663600/23820665/f25d9b40-0658-11e7-87a0-b6207d48a357.png)\\r\\n'}]\n",
      "[('leiyunhe', '2017-03-07T08:52:39Z'), ('Lesley19', '2017-03-11T04:52:03Z')]\n"
     ]
    }
   ],
   "source": [
    "import json\n",
    "import requests\n",
    "\n",
    "USERNAME = 'leiyunhe'\n",
    "PASSWORD = 'Craney20150421'\n",
    "\n",
    "CREATOR = 'leiyunhe'\n",
    "TIME = '2017-01-01T00:00:00Z'\n",
    "LABEL = 'task'\n",
    "STATE = 'all'\n",
    "\n",
    "\n",
    "\n",
    "REPO_OWNER = 'AIMinder'\n",
    "REPO_NAME = 'Py103'\n",
    "\n",
    "payload2 = {'labels': LABEL,\n",
    "            'state': STATE}\n",
    "\n",
    "def submit_task_issue(ISSUE_NUMBER):\n",
    "    '''\n",
    "List comments on an issue\n",
    "return: user_name, comments_url, created_at_time\n",
    "DOC  https://developer.github.com/v3/issues/comments/\n",
    "'''\n",
    "    url = 'https://api.github.com/repos/%s/%s/issues/%s/comments' % (REPO_OWNER, REPO_NAME,ISSUE_NUMBER)\n",
    "    s = requests.session()\n",
    "    s.auth = (USERNAME,PASSWORD)\n",
    "    r = s.get(url,params = payload2)\n",
    "    result = json.loads(r.text)\n",
    "    print(result)\n",
    "    ls = []\n",
    "    for x in result:\n",
    "            # m = [x[\"url\"],x[\"created_at\"],x[\"user\"]]\n",
    "#         m = [x[\"url\"],x[\"created_at\"],x[\"user\"][\"login\"]]\n",
    "        m = (x[\"user\"][\"login\"],x[\"created_at\"])\n",
    "        ls.append(m)\n",
    "    return ls\n",
    "s = submit_task_issue('264')\n",
    "print(s)"
   ]
  },
  {
   "cell_type": "code",
   "execution_count": 3,
   "metadata": {
    "collapsed": false,
    "deletable": true,
    "editable": true
   },
   "outputs": [
    {
     "name": "stdout",
     "output_type": "stream",
     "text": [
      "Opened database successfully\n",
      "Table created successfully\n",
      "('Lesley19', None, None, None, None, None, None, None)\n",
      "('fengruibo', None, None, None, None, None, None, None)\n",
      "('leiyunhe', None, None, None, None, None, None, None)\n"
     ]
    }
   ],
   "source": [
    "import sqlite3\n",
    "conn = sqlite3.connect('test4.db')\n",
    "print(\"Opened database successfully\")\n",
    "\n",
    "# conn.execute('CREATE TABLE qw (qttime TEXT, city_name TEXT, weather TEXT, temperature TEXT)')\n",
    "conn.execute('CREATE TABLE test4 (github_user_name TEXT, chap1_time TEXT, chap2_time TEXT, chap3_time TEXT, chap4_time TEXT, chap5_time TEXT, chap6_time TEXT,chap7_time TEXT)')\n",
    "print(\"Table created successfully\")\n",
    "\n",
    "c = conn.cursor()\n",
    "for stu in ['leiyunhe','fengruibo','Lesley19']:\n",
    "    c.execute('INSERT INTO test4 (github_user_name) VALUES (?)',(stu,))\n",
    "conn.commit()\n",
    "# insert_into_db()\n",
    "\n",
    "for row in c.execute('SELECT * FROM test4 ORDER by github_user_name'):\n",
    "    print(row)\n",
    "\n",
    "\n",
    "# print(c.fetchall())\n",
    "conn.commit()\n",
    "conn.close()"
   ]
  },
  {
   "cell_type": "code",
   "execution_count": 19,
   "metadata": {
    "collapsed": false
   },
   "outputs": [
    {
     "name": "stdout",
     "output_type": "stream",
     "text": [
      "('leiyunhe', '2017-03-07T08:52:39Z')\n",
      "('Lesley19', '2017-03-11T04:52:03Z')\n"
     ]
    }
   ],
   "source": [
    "import sqlite3\n",
    "import json\n",
    "import requests\n",
    "\n",
    "USERNAME = 'leiyunhe'\n",
    "PASSWORD = 'he18801730209'\n",
    "\n",
    "CREATOR = 'leiyunhe'\n",
    "TIME = '2017-01-01T00:00:00Z'\n",
    "LABEL = 'task'\n",
    "STATE = 'all'\n",
    "\n",
    "\n",
    "\n",
    "REPO_OWNER = 'AIMinder'\n",
    "REPO_NAME = 'Py103'\n",
    "\n",
    "payload2 = {'labels': LABEL,\n",
    "            'state': STATE}\n",
    "\n",
    "def submit_task_issue(ISSUE_NUMBER):\n",
    "    '''\n",
    "List comments on an issue\n",
    "return: user_name, comments_url, created_at_time\n",
    "DOC  https://developer.github.com/v3/issues/comments/\n",
    "'''\n",
    "    url = 'https://api.github.com/repos/%s/%s/issues/%s/comments' % (REPO_OWNER, REPO_NAME,ISSUE_NUMBER)\n",
    "    s = requests.session()\n",
    "    s.auth = (USERNAME,PASSWORD)\n",
    "    r = s.get(url,params = payload2)\n",
    "    result = json.loads(r.text)\n",
    "#     print(result)\n",
    "    ls = []\n",
    "    for x in result:\n",
    "            # m = [x[\"url\"],x[\"created_at\"],x[\"user\"]]\n",
    "#         m = [x[\"url\"],x[\"created_at\"],x[\"user\"][\"login\"]]\n",
    "        m = (x[\"user\"][\"login\"],x[\"created_at\"])\n",
    "        ls.append(m)\n",
    "    return ls\n",
    "\n",
    "\n",
    "ch_num = ['ch1','ch2','ch3','ch4','ch5','ch6','ch7']\n",
    "issue_num = '264'\n",
    "if issue_num:\n",
    "    comments =  submit_task_issue(issue_num)\n",
    "\n",
    "for comment in comments:\n",
    "    print(comment)\n",
    "    conn = sqlite3.connect('test4.db')\n",
    "    c = conn.cursor()\n",
    "    \n",
    "    if 'ch1' in ch_num:\n",
    "        #print(ch_num)\n",
    "        c.execute(\"UPDATE test4 SET chap1_time = ? WHERE github_user_name = ?\", tuple(comment))\n",
    "\n",
    "    elif 'ch2' in ch_num:\n",
    "        c.execute(\"UPDATE test4 SET chap2_time = ? WHERE github_user_name = ?\", tuple(comment))\n",
    "    elif 'ch3' in ch_num:\n",
    "        c.execute(\"UPDATE test4 SET chap3_time = ? WHERE github_user_name = ?\", tuple(comment))\n",
    "    elif 'ch4' in ch_num:\n",
    "        c.execute(\"UPDATE test4 SET chap4_time = ? WHERE github_user_name = ?\", tuple(comment))\n",
    "    elif 'ch5' in ch_num:\n",
    "        c.execute(\"UPDATE test4 SET chap5_time = ? WHERE github_user_name = ?\", tuple(comment))\n",
    "    elif 'ch6' in ch_num:\n",
    "        c.execute(\"UPDATE test4 SET chap6_time = ? WHERE github_user_name = ?\", tuple(comment))\n",
    "    else:\n",
    "        c.execute(\"UPDATE test4 SET chap7_time = ? WHERE github_user_name = ?\", tuple(comment))\n",
    "    conn.commit()"
   ]
  },
  {
   "cell_type": "code",
   "execution_count": 20,
   "metadata": {
    "collapsed": false
   },
   "outputs": [
    {
     "name": "stdout",
     "output_type": "stream",
     "text": [
      "('Lesley19', None, None, None, None, None, None, None)\n",
      "('fengruibo', None, None, None, None, None, None, None)\n",
      "('leiyunhe', None, None, None, None, None, None, None)\n"
     ]
    }
   ],
   "source": [
    "conn = sqlite3.connect('test4.db')\n",
    "c = conn.cursor()\n",
    "for row in c.execute('SELECT * FROM test4 ORDER by github_user_name'):\n",
    "    print(row)\n",
    "conn.commit()\n",
    "conn.close()"
   ]
  },
  {
   "cell_type": "code",
   "execution_count": 26,
   "metadata": {
    "collapsed": false
   },
   "outputs": [
    {
     "name": "stdout",
     "output_type": "stream",
     "text": [
      "('Lesley19', None, None, None, None, None, None, None)\n",
      "('fengruibo', None, None, None, None, None, None, None)\n",
      "('leiyunhe', None, None, None, None, None, '2017-3-18 9:01', None)\n"
     ]
    }
   ],
   "source": [
    "conn = sqlite3.connect('test4.db')\n",
    "c = conn.cursor()\n",
    "c.execute(\"UPDATE test4 SET chap6_time = ? WHERE github_user_name = ?\", ('2017-3-18 9:01','leiyunhe'))\n",
    "\n",
    "for row in c.execute('SELECT * FROM test4 ORDER by github_user_name'):\n",
    "    print(row)\n",
    "conn.commit()\n",
    "conn.close()"
   ]
  },
  {
   "cell_type": "code",
   "execution_count": null,
   "metadata": {
    "collapsed": true
   },
   "outputs": [],
   "source": []
  }
 ],
 "metadata": {
  "kernelspec": {
   "display_name": "Python 3",
   "language": "python",
   "name": "python3"
  },
  "language_info": {
   "codemirror_mode": {
    "name": "ipython",
    "version": 3
   },
   "file_extension": ".py",
   "mimetype": "text/x-python",
   "name": "python",
   "nbconvert_exporter": "python",
   "pygments_lexer": "ipython3",
   "version": "3.6.0"
  }
 },
 "nbformat": 4,
 "nbformat_minor": 2
}
