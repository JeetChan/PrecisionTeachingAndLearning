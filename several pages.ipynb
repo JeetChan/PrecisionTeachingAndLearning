{
 "cells": [
  {
   "cell_type": "code",
   "execution_count": 4,
   "metadata": {
    "collapsed": false
   },
   "outputs": [
    {
     "name": "stdout",
     "output_type": "stream",
     "text": [
      "{'Server': 'GitHub.com', 'Date': 'Tue, 14 Mar 2017 13:38:09 GMT', 'Content-Type': 'application/json; charset=utf-8', 'Transfer-Encoding': 'chunked', 'Status': '200 OK', 'X-RateLimit-Limit': '5000', 'X-RateLimit-Remaining': '4995', 'X-RateLimit-Reset': '1489501753', 'Cache-Control': 'private, max-age=60, s-maxage=60', 'Vary': 'Accept, Authorization, Cookie, X-GitHub-OTP, Accept-Encoding', 'ETag': 'W/\"a34a38830c68c81cba7e36263c639b89\"', 'X-GitHub-Media-Type': 'github.v3; format=json', 'Link': '<https://api.github.com/repositories/76613629/issues?state=all&since=2017-01-01T00%3A00%3A00Z&page=2>; rel=\"next\", <https://api.github.com/repositories/76613629/issues?state=all&since=2017-01-01T00%3A00%3A00Z&page=10>; rel=\"last\"', 'Access-Control-Expose-Headers': 'ETag, Link, X-GitHub-OTP, X-RateLimit-Limit, X-RateLimit-Remaining, X-RateLimit-Reset, X-OAuth-Scopes, X-Accepted-OAuth-Scopes, X-Poll-Interval', 'Access-Control-Allow-Origin': '*', 'Content-Security-Policy': \"default-src 'none'\", 'Strict-Transport-Security': 'max-age=31536000; includeSubdomains; preload', 'X-Content-Type-Options': 'nosniff', 'X-Frame-Options': 'deny', 'X-XSS-Protection': '1; mode=block', 'X-Served-By': 'a51acaae89a7607fd7ee967627be18e4', 'Content-Encoding': 'gzip', 'X-GitHub-Request-Id': 'E087:6D3A:80C0491:A36A227:58C7F240'}\n",
      "<https://api.github.com/repositories/76613629/issues?state=all&since=2017-01-01T00%3A00%3A00Z&page=2>; rel=\"next\", <https://api.github.com/repositories/76613629/issues?state=all&since=2017-01-01T00%3A00%3A00Z&page=10>; rel=\"last\"\n",
      "30\n"
     ]
    }
   ],
   "source": [
    "\n",
    "import json\n",
    "import requests\n",
    "\n",
    "USERNAME = 'leiyunhe'\n",
    "PASSWORD = 'Craney20150421'\n",
    "\n",
    "REPO_OWNER = 'AIMinder'\n",
    "REPO_NAME = 'Py103'\n",
    "\n",
    "LABEL = 'task'\n",
    "STATE = 'all'\n",
    "\n",
    "TIME = '2017-01-01T00:00:00Z'\n",
    "payload1 = {'state':STATE,\n",
    "            'since':TIME}\n",
    "def list_task_issue_number():\n",
    "    url = 'https://api.github.com/repos/%s/%s/issues' % (REPO_OWNER, REPO_NAME)\n",
    "    #url = 'https://api.github.com/orgs/%s/issues' % (ORG_NAME)\n",
    "    s = requests.session()\n",
    "    s.auth = (USERNAME,PASSWORD)\n",
    "    r = s.get(url,params = payload1)\n",
    "    print(r.headers)\n",
    "    m = r.headers\n",
    "    print(r.headers[\"Link\"])\n",
    "    \n",
    "    result = json.loads(r.text)\n",
    "    #print(result)\n",
    "    ls = []\n",
    "    for x in result:\n",
    "        m = [x[\"url\"],x[\"number\"]]\n",
    "        ls.append(m)\n",
    "    return ls\n",
    "\n",
    "r = list_task_issue_number()\n",
    "print(len(r))"
   ]
  },
  {
   "cell_type": "code",
   "execution_count": 5,
   "metadata": {
    "collapsed": true
   },
   "outputs": [],
   "source": [
    "s = \"<http:skdfjasld>;rel=\"next\",<dthkl>;rel=\"last\"\""
   ]
  },
  {
   "cell_type": "code",
   "execution_count": 7,
   "metadata": {
    "collapsed": false
   },
   "outputs": [
    {
     "data": {
      "text/plain": [
       "'http:skdfjasld'"
      ]
     },
     "execution_count": 7,
     "metadata": {},
     "output_type": "execute_result"
    }
   ],
   "source": [
    "s[1:-1]"
   ]
  },
  {
   "cell_type": "code",
   "execution_count": 15,
   "metadata": {
    "collapsed": false
   },
   "outputs": [
    {
     "data": {
      "text/plain": [
       "['<http:skdfjasld>']"
      ]
     },
     "execution_count": 15,
     "metadata": {},
     "output_type": "execute_result"
    }
   ],
   "source": [
    "s.split()"
   ]
  },
  {
   "cell_type": "code",
   "execution_count": 18,
   "metadata": {
    "collapsed": true
   },
   "outputs": [],
   "source": [
    "d = '''<https://api.github.com/repositories/76613629/issues?state=all&since=2017-01-01T00%3A00%3A00Z&page=2>; rel=\"next\", <https://api.github.com/repositories/76613629/issues?state=all&since=2017-01-01T00%3A00%3A00Z&page=10>; rel=\"last\"'''"
   ]
  },
  {
   "cell_type": "code",
   "execution_count": 4,
   "metadata": {
    "collapsed": false,
    "deletable": true,
    "editable": true
   },
   "outputs": [
    {
     "name": "stdout",
     "output_type": "stream",
     "text": [
      "{'Server': 'GitHub.com', 'Date': 'Tue, 14 Mar 2017 13:38:09 GMT', 'Content-Type': 'application/json; charset=utf-8', 'Transfer-Encoding': 'chunked', 'Status': '200 OK', 'X-RateLimit-Limit': '5000', 'X-RateLimit-Remaining': '4995', 'X-RateLimit-Reset': '1489501753', 'Cache-Control': 'private, max-age=60, s-maxage=60', 'Vary': 'Accept, Authorization, Cookie, X-GitHub-OTP, Accept-Encoding', 'ETag': 'W/\"a34a38830c68c81cba7e36263c639b89\"', 'X-GitHub-Media-Type': 'github.v3; format=json', 'Link': '<https://api.github.com/repositories/76613629/issues?state=all&since=2017-01-01T00%3A00%3A00Z&page=2>; rel=\"next\", <https://api.github.com/repositories/76613629/issues?state=all&since=2017-01-01T00%3A00%3A00Z&page=10>; rel=\"last\"', 'Access-Control-Expose-Headers': 'ETag, Link, X-GitHub-OTP, X-RateLimit-Limit, X-RateLimit-Remaining, X-RateLimit-Reset, X-OAuth-Scopes, X-Accepted-OAuth-Scopes, X-Poll-Interval', 'Access-Control-Allow-Origin': '*', 'Content-Security-Policy': \"default-src 'none'\", 'Strict-Transport-Security': 'max-age=31536000; includeSubdomains; preload', 'X-Content-Type-Options': 'nosniff', 'X-Frame-Options': 'deny', 'X-XSS-Protection': '1; mode=block', 'X-Served-By': 'a51acaae89a7607fd7ee967627be18e4', 'Content-Encoding': 'gzip', 'X-GitHub-Request-Id': 'E087:6D3A:80C0491:A36A227:58C7F240'}\n",
      "<https://api.github.com/repositories/76613629/issues?state=all&since=2017-01-01T00%3A00%3A00Z&page=2>; rel=\"next\", <https://api.github.com/repositories/76613629/issues?state=all&since=2017-01-01T00%3A00%3A00Z&page=10>; rel=\"last\"\n",
      "30\n"
     ]
    }
   ],
   "source": [
    "\n",
    "import json\n",
    "import requests\n",
    "\n",
    "USERNAME = 'leiyunhe'\n",
    "PASSWORD = 'Craney20150421'\n",
    "\n",
    "REPO_OWNER = 'AIMinder'\n",
    "REPO_NAME = 'Py103'\n",
    "\n",
    "LABEL = 'task'\n",
    "STATE = 'all'\n",
    "\n",
    "TIME = '2017-01-01T00:00:00Z'\n",
    "payload1 = {'state':STATE,\n",
    "            'since':TIME}\n",
    "def list_task_issue_number():\n",
    "    url = 'https://api.github.com/repos/%s/%s/issues' % (REPO_OWNER, REPO_NAME)\n",
    "    #url = 'https://api.github.com/orgs/%s/issues' % (ORG_NAME)\n",
    "    s = requests.session()\n",
    "    s.auth = (USERNAME,PASSWORD)\n",
    "    r = s.get(url,params = payload1)\n",
    "    print(r.headers)\n",
    "    m = r.headers\n",
    "    print(r.headers[\"Link\"])\n",
    "    \n",
    "    result = json.loads(r.text)\n",
    "    #print(result)\n",
    "    ls = []\n",
    "    for x in result:\n",
    "        m = [x[\"url\"],x[\"number\"]]\n",
    "        ls.append(m)\n",
    "    return ls\n",
    "\n",
    "r = list_task_issue_number()\n",
    "print(len(r))"
   ]
  },
  {
   "cell_type": "code",
   "execution_count": 19,
   "metadata": {
    "collapsed": false
   },
   "outputs": [
    {
     "data": {
      "text/plain": [
       "['<https://api.github.com/repositories/76613629/issues?state=all&since=2017-01-01T00%3A00%3A00Z&page=2>;',\n",
       " 'rel=\"next\",',\n",
       " '<https://api.github.com/repositories/76613629/issues?state=all&since=2017-01-01T00%3A00%3A00Z&page=10>;',\n",
       " 'rel=\"last\"']"
      ]
     },
     "execution_count": 19,
     "metadata": {},
     "output_type": "execute_result"
    }
   ],
   "source": [
    "d.split()"
   ]
  },
  {
   "cell_type": "code",
   "execution_count": 20,
   "metadata": {
    "collapsed": false
   },
   "outputs": [
    {
     "data": {
      "text/plain": [
       "0"
      ]
     },
     "execution_count": 20,
     "metadata": {},
     "output_type": "execute_result"
    }
   ],
   "source": [
    "d.index(\"<\")"
   ]
  },
  {
   "cell_type": "code",
   "execution_count": 21,
   "metadata": {
    "collapsed": false
   },
   "outputs": [
    {
     "data": {
      "text/plain": [
       "100"
      ]
     },
     "execution_count": 21,
     "metadata": {},
     "output_type": "execute_result"
    }
   ],
   "source": [
    "d.index(\">\")"
   ]
  },
  {
   "cell_type": "code",
   "execution_count": 22,
   "metadata": {
    "collapsed": false
   },
   "outputs": [
    {
     "name": "stdout",
     "output_type": "stream",
     "text": [
      "<https://api.github.com/repositories/76613629/issues?state=all&since=2017-01-01T00%3A00%3A00Z&page=2>; rel=\"next\", <https://api.github.com/repositories/76613629/issues?state=all&since=2017-01-01T00%3A00%3A00Z&page=10>; rel=\"last\"\n"
     ]
    }
   ],
   "source": [
    "print(d)"
   ]
  },
  {
   "cell_type": "code",
   "execution_count": 23,
   "metadata": {
    "collapsed": false
   },
   "outputs": [
    {
     "data": {
      "text/plain": [
       "'<https://api.github.com/repositories/76613629/issues?state=all&since=2017-01-01T00%3A00%3A00Z&page=2'"
      ]
     },
     "execution_count": 23,
     "metadata": {},
     "output_type": "execute_result"
    }
   ],
   "source": [
    "d[0:100]"
   ]
  },
  {
   "cell_type": "code",
   "execution_count": 26,
   "metadata": {
    "collapsed": false
   },
   "outputs": [
    {
     "data": {
      "text/plain": [
       "'https://api.github.com/repositories/76613629/issues?state=all&since=2017-01-01T00%3A00%3A00Z&page=2'"
      ]
     },
     "execution_count": 26,
     "metadata": {},
     "output_type": "execute_result"
    }
   ],
   "source": [
    "url1 = d[1:100]"
   ]
  },
  {
   "cell_type": "code",
   "execution_count": null,
   "metadata": {
    "collapsed": true
   },
   "outputs": [],
   "source": []
  },
  {
   "cell_type": "code",
   "execution_count": 31,
   "metadata": {
    "collapsed": false,
    "deletable": true,
    "editable": true
   },
   "outputs": [
    {
     "name": "stdout",
     "output_type": "stream",
     "text": [
      "{'Server': 'GitHub.com', 'Date': 'Tue, 14 Mar 2017 14:14:31 GMT', 'Content-Type': 'application/json; charset=utf-8', 'Transfer-Encoding': 'chunked', 'Status': '200 OK', 'X-RateLimit-Limit': '5000', 'X-RateLimit-Remaining': '4991', 'X-RateLimit-Reset': '1489501753', 'Cache-Control': 'private, max-age=60, s-maxage=60', 'Vary': 'Accept, Authorization, Cookie, X-GitHub-OTP, Accept-Encoding', 'ETag': 'W/\"1cd225d1efa59a681846bf964f478015\"', 'X-GitHub-Media-Type': 'github.v3; format=json', 'Link': '<https://api.github.com/repositories/76613629/issues?state=all&since=2017-01-01T00%3A00%3A00Z&page=1>; rel=\"first\", <https://api.github.com/repositories/76613629/issues?state=all&since=2017-01-01T00%3A00%3A00Z&page=9>; rel=\"prev\"', 'Access-Control-Expose-Headers': 'ETag, Link, X-GitHub-OTP, X-RateLimit-Limit, X-RateLimit-Remaining, X-RateLimit-Reset, X-OAuth-Scopes, X-Accepted-OAuth-Scopes, X-Poll-Interval', 'Access-Control-Allow-Origin': '*', 'Content-Security-Policy': \"default-src 'none'\", 'Strict-Transport-Security': 'max-age=31536000; includeSubdomains; preload', 'X-Content-Type-Options': 'nosniff', 'X-Frame-Options': 'deny', 'X-XSS-Protection': '1; mode=block', 'X-Served-By': '1e9204dbc0447a6f39c3b3c44d87b3f8', 'Content-Encoding': 'gzip', 'X-GitHub-Request-Id': 'E269:6D38:4F93DD8:651A3A1:58C7FAC5'}\n",
      "<https://api.github.com/repositories/76613629/issues?state=all&since=2017-01-01T00%3A00%3A00Z&page=1>; rel=\"first\", <https://api.github.com/repositories/76613629/issues?state=all&since=2017-01-01T00%3A00%3A00Z&page=9>; rel=\"prev\"\n",
      "17\n"
     ]
    }
   ],
   "source": [
    "\n",
    "import json\n",
    "import requests\n",
    "\n",
    "USERNAME = 'leiyunhe'\n",
    "PASSWORD = 'Craney20150421'\n",
    "\n",
    "REPO_OWNER = 'AIMinder'\n",
    "REPO_NAME = 'Py103'\n",
    "\n",
    "LABEL = 'task'\n",
    "STATE = 'all'\n",
    "\n",
    "TIME = '2017-01-01T00:00:00Z'\n",
    "payload1 = {'state':STATE,\n",
    "            'since':TIME}\n",
    "def list_task_issue_number():\n",
    "    url = 'https://api.github.com/repositories/76613629/issues?state=all&since=2017-01-01T00%3A00%3A00Z&page=10'\n",
    "    #url = 'https://api.github.com/orgs/%s/issues' % (ORG_NAME)\n",
    "    s = requests.session()\n",
    "    s.auth = (USERNAME,PASSWORD)\n",
    "    r = s.get(url,params = payload1)\n",
    "    print(r.headers)\n",
    "    m = r.headers\n",
    "    print(r.headers[\"Link\"])\n",
    "    \n",
    "    result = json.loads(r.text)\n",
    "    #print(result)\n",
    "    ls = []\n",
    "    for x in result:\n",
    "        m = [x[\"url\"],x[\"number\"]]\n",
    "        ls.append(m)\n",
    "    return ls\n",
    "\n",
    "r = list_task_issue_number()\n",
    "print(len(r))"
   ]
  },
  {
   "cell_type": "code",
   "execution_count": 4,
   "metadata": {
    "collapsed": false,
    "deletable": true,
    "editable": true
   },
   "outputs": [
    {
     "name": "stdout",
     "output_type": "stream",
     "text": [
      "{'Server': 'GitHub.com', 'Date': 'Tue, 14 Mar 2017 13:38:09 GMT', 'Content-Type': 'application/json; charset=utf-8', 'Transfer-Encoding': 'chunked', 'Status': '200 OK', 'X-RateLimit-Limit': '5000', 'X-RateLimit-Remaining': '4995', 'X-RateLimit-Reset': '1489501753', 'Cache-Control': 'private, max-age=60, s-maxage=60', 'Vary': 'Accept, Authorization, Cookie, X-GitHub-OTP, Accept-Encoding', 'ETag': 'W/\"a34a38830c68c81cba7e36263c639b89\"', 'X-GitHub-Media-Type': 'github.v3; format=json', 'Link': '<https://api.github.com/repositories/76613629/issues?state=all&since=2017-01-01T00%3A00%3A00Z&page=2>; rel=\"next\", <https://api.github.com/repositories/76613629/issues?state=all&since=2017-01-01T00%3A00%3A00Z&page=10>; rel=\"last\"', 'Access-Control-Expose-Headers': 'ETag, Link, X-GitHub-OTP, X-RateLimit-Limit, X-RateLimit-Remaining, X-RateLimit-Reset, X-OAuth-Scopes, X-Accepted-OAuth-Scopes, X-Poll-Interval', 'Access-Control-Allow-Origin': '*', 'Content-Security-Policy': \"default-src 'none'\", 'Strict-Transport-Security': 'max-age=31536000; includeSubdomains; preload', 'X-Content-Type-Options': 'nosniff', 'X-Frame-Options': 'deny', 'X-XSS-Protection': '1; mode=block', 'X-Served-By': 'a51acaae89a7607fd7ee967627be18e4', 'Content-Encoding': 'gzip', 'X-GitHub-Request-Id': 'E087:6D3A:80C0491:A36A227:58C7F240'}\n",
      "<https://api.github.com/repositories/76613629/issues?state=all&since=2017-01-01T00%3A00%3A00Z&page=2>; rel=\"next\", <https://api.github.com/repositories/76613629/issues?state=all&since=2017-01-01T00%3A00%3A00Z&page=10>; rel=\"last\"\n",
      "30\n"
     ]
    }
   ],
   "source": [
    "\n",
    "import json\n",
    "import requests\n",
    "\n",
    "USERNAME = 'leiyunhe'\n",
    "PASSWORD = 'Craney20150421'\n",
    "\n",
    "REPO_OWNER = 'AIMinder'\n",
    "REPO_NAME = 'Py103'\n",
    "\n",
    "LABEL = 'task'\n",
    "STATE = 'all'\n",
    "\n",
    "TIME = '2017-01-01T00:00:00Z'\n",
    "payload1 = {'state':STATE,\n",
    "            'since':TIME}\n",
    "def list_task_issue_number():\n",
    "    \n",
    "    url = 'https://api.github.com/repos/%s/%s/issues' % (REPO_OWNER, REPO_NAME)\n",
    "    #url = 'https://api.github.com/orgs/%s/issues' % (ORG_NAME)\n",
    "    s = requests.session()\n",
    "    s.auth = (USERNAME,PASSWORD)\n",
    "    r = s.get(url,params = payload1)\n",
    "#     print(r.headers)\n",
    "    h = r.headers['Link'].split()\n",
    "    ls = []    \n",
    "    if 'next' in h:\n",
    "#     print(r.headers[\"Link\"])\n",
    "#         h.split()\n",
    "        begin = h.index('<') + 1\n",
    "        end = h.index('>')\n",
    "\n",
    "        url = h[begin:end]\n",
    "        s = requests.session()\n",
    "        s.auth = (USERNAME,PASSWORD)\n",
    "        r = s.get(url,params = payload1)\n",
    "       ls = []\n",
    "    \n",
    "    \n",
    "    return ls\n",
    "\n",
    "r = list_task_issue_number()\n",
    "print(len(r))"
   ]
  }
 ],
 "metadata": {
  "kernelspec": {
   "display_name": "Python 3",
   "language": "python",
   "name": "python3"
  },
  "language_info": {
   "codemirror_mode": {
    "name": "ipython",
    "version": 3
   },
   "file_extension": ".py",
   "mimetype": "text/x-python",
   "name": "python",
   "nbconvert_exporter": "python",
   "pygments_lexer": "ipython3",
   "version": "3.6.0"
  }
 },
 "nbformat": 4,
 "nbformat_minor": 2
}
