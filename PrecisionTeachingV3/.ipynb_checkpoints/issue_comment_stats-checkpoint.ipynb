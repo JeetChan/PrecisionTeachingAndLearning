{
 "cells": [
  {
   "cell_type": "code",
   "execution_count": 80,
   "metadata": {
    "collapsed": false,
    "deletable": true,
    "editable": true
   },
   "outputs": [
    {
     "ename": "ModuleNotFoundError",
     "evalue": "No module named 'flask'",
     "output_type": "error",
     "traceback": [
      "\u001b[1;31m---------------------------------------------------------------------------\u001b[0m",
      "\u001b[1;31mModuleNotFoundError\u001b[0m                       Traceback (most recent call last)",
      "\u001b[1;32m<ipython-input-80-d45ef95fa51c>\u001b[0m in \u001b[0;36m<module>\u001b[1;34m()\u001b[0m\n\u001b[1;32m----> 1\u001b[1;33m \u001b[1;32mfrom\u001b[0m \u001b[0mflask\u001b[0m \u001b[1;32mimport\u001b[0m \u001b[0mFlask\u001b[0m\u001b[1;33m,\u001b[0m\u001b[0mrequest\u001b[0m\u001b[1;33m,\u001b[0m \u001b[0mrender_template\u001b[0m\u001b[1;33m,\u001b[0m\u001b[0mg\u001b[0m\u001b[1;33m\u001b[0m\u001b[0m\n\u001b[0m\u001b[0;32m      2\u001b[0m \u001b[1;32mimport\u001b[0m \u001b[0msqlite3\u001b[0m\u001b[1;33m\u001b[0m\u001b[0m\n\u001b[0;32m      3\u001b[0m \u001b[1;33m\u001b[0m\u001b[0m\n\u001b[0;32m      4\u001b[0m \u001b[1;32mimport\u001b[0m \u001b[0mrequests\u001b[0m\u001b[1;33m\u001b[0m\u001b[0m\n\u001b[0;32m      5\u001b[0m \u001b[1;32mimport\u001b[0m \u001b[0mjson\u001b[0m\u001b[1;33m\u001b[0m\u001b[0m\n",
      "\u001b[1;31mModuleNotFoundError\u001b[0m: No module named 'flask'"
     ]
    }
   ],
   "source": [
    "\n",
    "\n",
    "import requests\n",
    "import json\n",
    "# payload\n",
    "STATE = 'all'\n",
    "payload = {'state':STATE,\n",
    "           'since':TIME\n",
    "          }\n",
    "USERNAME = 'yunhe.lei@gmail.com'\n",
    "PASSWORD = 'he18801730209'\n",
    "\n",
    "TIME = '2017-01-01T00:00:00Z'\n",
    "REPO_OWNER = 'AIMinder'\n",
    "REPO_NAME = 'Py103'\n",
    "\n",
    "def traverse_pages():\n",
    "    '''travesing all pages, return a list including all pages'''\n",
    "    url = 'https://api.github.com/repos/%s/%s/issues' % (REPO_OWNER, REPO_NAME)\n",
    "    s = requests.session()\n",
    "    s.auth = (USERNAME,PASSWORD)\n",
    "    r = s.get(url,params = payload1)\n",
    "    li = r.headers[\"Link\"]\n",
    "    next_url=li[(li.index(\"<\") + 1):li.index(\">\")]\n",
    "    result = json.loads(r.text)\n",
    "    ls = []\n",
    "    ls.append(result)      \n",
    "    while True:\n",
    "        r = s.get(next_url,params = payload1)\n",
    "        result = json.loads(r.text)\n",
    "        ls.append(result)\n",
    "        link = r.headers['Link']\n",
    "        if 'next' not in link:\n",
    "            break\n",
    "        next_url=link[(link.index(\"<\") + 1):link.index(\">\")]\n",
    "    return ls\n",
    "\n",
    "def issues_ls():\n",
    "    issues_ls =[]\n",
    "    url = 'https://api.github.com/repos/%s/%s/issues' % (REPO_OWNER, REPO_NAME)\n",
    "    s = requests.session()\n",
    "    s.auth = (USERNAME,PASSWORD)\n",
    "    r = s.get(url,params = 'payload')\n",
    "    result = json.loads(r.text)\n",
    "#     print(result)\n",
    "    for issue in result:\n",
    "        m = [issue['number'],issue['user']['login'],issue['comments']]\n",
    "        issues_ls.append(m)\n",
    "    print(issues_ls)\n",
    "issue_creator()\n"
   ]
  },
  {
   "cell_type": "code",
   "execution_count": 88,
   "metadata": {
    "collapsed": false,
    "deletable": true,
    "editable": true,
    "scrolled": false
   },
   "outputs": [
    {
     "name": "stdout",
     "output_type": "stream",
     "text": [
      "294\n"
     ]
    }
   ],
   "source": [
    "#!/usr/bin/env python3\n",
    "# -*- coding: utf-8 -*-\n",
    "import json\n",
    "import requests\n",
    "# from flask import g\n",
    "import sqlite3\n",
    "# from utils.const_value import REPO_OWNER, REPO_NAME, USERNAME,PASSWORD,AREA,payload,payload1,payload2,TIME,DATABASE,LABEL,STATE\n",
    "from utils.const_value import DATABASE, REPO_OWNER, REPO_NAME, AREA,payload,payload1,payload2,TIME,LABEL,STATE\n",
    "from login import login\n",
    "STATE = 'all'\n",
    "TIME = '2016-12-20T00:00:00Z'\n",
    "payload5 = {'state':STATE,\n",
    "            'since':TIME}\n",
    "\n",
    "def traverse_pages():\n",
    "    '''travesing all pages, return a list including all pages'''\n",
    "    url = 'https://api.github.com/repos/%s/%s/issues' % (REPO_OWNER, REPO_NAME)\n",
    "    s = requests.session()\n",
    "    s.auth = (USERNAME,PASSWORD)\n",
    "    r = s.get(url,params = payload5)\n",
    "    li = r.headers[\"Link\"]\n",
    "    next_url=li[(li.index(\"<\") + 1):li.index(\">\")]\n",
    "    result = json.loads(r.text)\n",
    "    ls = []\n",
    "    ls.append(result)      \n",
    "    while True:\n",
    "        r = s.get(next_url,params = payload5)\n",
    "        result = json.loads(r.text)\n",
    "        ls.append(result)\n",
    "        link = r.headers['Link']\n",
    "        if 'next' not in link:\n",
    "            break\n",
    "        next_url=link[(link.index(\"<\") + 1):link.index(\">\")]\n",
    "    return ls\n",
    "\n",
    "def get_all_issues():\n",
    "    ls = traverse_pages()\n",
    "    issue_ls = []\n",
    "    for page in ls:\n",
    "        for x in page:\n",
    "            m = [x[\"title\"],x[\"number\"],x['user']['login'],x['comments']]\n",
    "            issue_ls.append(m)\n",
    "    return issue_ls\n",
    "x = get_all_issues()\n",
    "num = 0\n",
    "for x in x:\n",
    "#     print(x)\n",
    "    num += 1\n",
    "print(num)"
   ]
  },
  {
   "cell_type": "code",
   "execution_count": 92,
   "metadata": {
    "collapsed": false,
    "deletable": true,
    "editable": true
   },
   "outputs": [
    {
     "name": "stdout",
     "output_type": "stream",
     "text": [
      "[['sardine2', '2017-03-22T05:57:57Z', '不谋而合，不过我没见具体计划？教练什么的是亮点！'], ['leiyunhe', '2017-03-22T07:38:32Z', '@sardine2 我昨天晚上才突发奇想的，计划细节还没设计好。你有什么实施方案吗？可以贴出来大家一起讨论。'], ['sardine2', '2017-03-23T12:10:49Z', '@leiyunhe 暂时只想到应该至少每两周提交一次作业，其他的什么的还没想好。我这三个月基本没睡好觉，等结业后回过神来好好想想～～']]\n"
     ]
    }
   ],
   "source": [
    "# GET /repos/:owner/:repo/issues/:number/comments\n",
    "ISSUE_NUMBER = '293'\n",
    "def submit_task_issue(ISSUE_NUMBER):\n",
    "    url = 'https://api.github.com/repos/%s/%s/issues/%s/comments' % (REPO_OWNER, REPO_NAME,ISSUE_NUMBER)\n",
    "    s = requests.session()\n",
    "    s.auth = (USERNAME,PASSWORD)\n",
    "    r = s.get(url,params = payload5)\n",
    "    result = json.loads(r.text)\n",
    "    ls = []\n",
    "    for x in result:\n",
    "        m = [x[\"user\"][\"login\"],x[\"created_at\"],x[\"body\"]]\n",
    "        ls.append(m)\n",
    "    return ls\n",
    "m = submit_task_issue('293')\n",
    "print(m)"
   ]
  },
  {
   "cell_type": "code",
   "execution_count": 77,
   "metadata": {
    "collapsed": true,
    "deletable": true,
    "editable": true
   },
   "outputs": [
    {
     "ename": "NameError",
     "evalue": "name 'g' is not defined",
     "output_type": "error",
     "traceback": [
      "\u001b[1;31m---------------------------------------------------------------------------\u001b[0m",
      "\u001b[1;31mNameError\u001b[0m                                 Traceback (most recent call last)",
      "\u001b[1;32m<ipython-input-77-1bc98307fcc9>\u001b[0m in \u001b[0;36m<module>\u001b[1;34m()\u001b[0m\n\u001b[0;32m      8\u001b[0m     \u001b[1;32mreturn\u001b[0m \u001b[0mdb\u001b[0m\u001b[1;33m\u001b[0m\u001b[0m\n\u001b[0;32m      9\u001b[0m \u001b[1;33m\u001b[0m\u001b[0m\n\u001b[1;32m---> 10\u001b[1;33m \u001b[0mc\u001b[0m \u001b[1;33m=\u001b[0m \u001b[0mget_db\u001b[0m\u001b[1;33m(\u001b[0m\u001b[1;33m)\u001b[0m\u001b[1;33m\u001b[0m\u001b[0m\n\u001b[0m",
      "\u001b[1;32m<ipython-input-77-1bc98307fcc9>\u001b[0m in \u001b[0;36mget_db\u001b[1;34m()\u001b[0m\n\u001b[0;32m      1\u001b[0m \u001b[1;32mdef\u001b[0m \u001b[0mget_db\u001b[0m\u001b[1;33m(\u001b[0m\u001b[1;33m)\u001b[0m\u001b[1;33m:\u001b[0m\u001b[1;33m\u001b[0m\u001b[0m\n\u001b[1;32m----> 2\u001b[1;33m     \u001b[0mdb\u001b[0m \u001b[1;33m=\u001b[0m \u001b[0mgetattr\u001b[0m\u001b[1;33m(\u001b[0m\u001b[0mg\u001b[0m\u001b[1;33m,\u001b[0m \u001b[1;34m'_database'\u001b[0m\u001b[1;33m,\u001b[0m \u001b[1;32mNone\u001b[0m\u001b[1;33m)\u001b[0m\u001b[1;33m\u001b[0m\u001b[0m\n\u001b[0m\u001b[0;32m      3\u001b[0m     \u001b[1;32mif\u001b[0m \u001b[0mdb\u001b[0m \u001b[1;32mis\u001b[0m \u001b[1;32mNone\u001b[0m\u001b[1;33m:\u001b[0m\u001b[1;33m\u001b[0m\u001b[0m\n\u001b[0;32m      4\u001b[0m         \u001b[0mdb\u001b[0m \u001b[1;33m=\u001b[0m \u001b[0mg\u001b[0m\u001b[1;33m.\u001b[0m\u001b[0m_database\u001b[0m \u001b[1;33m=\u001b[0m \u001b[0msqlite3\u001b[0m\u001b[1;33m.\u001b[0m\u001b[0mconnect\u001b[0m\u001b[1;33m(\u001b[0m\u001b[0mDATABASE\u001b[0m\u001b[1;33m)\u001b[0m\u001b[1;33m\u001b[0m\u001b[0m\n\u001b[0;32m      5\u001b[0m         \u001b[1;31m# db = g._database = sqlite3.connect(DATABASE)\u001b[0m\u001b[1;33m\u001b[0m\u001b[1;33m\u001b[0m\u001b[0m\n",
      "\u001b[1;31mNameError\u001b[0m: name 'g' is not defined"
     ]
    }
   ],
   "source": [
    "def get_db():\n",
    "    db = getattr(g, '_database', None)\n",
    "    if db is None:\n",
    "        db = g._database = sqlite3.connect(DATABASE)\n",
    "        # db = g._database = sqlite3.connect(DATABASE)\n",
    "\n",
    "    db.row_factory = sqlite3.Row\n",
    "    return db\n",
    "\n",
    "c = get_db()"
   ]
  },
  {
   "cell_type": "code",
   "execution_count": 3,
   "metadata": {
    "collapsed": false,
    "deletable": true,
    "editable": true
   },
   "outputs": [
    {
     "name": "stdout",
     "output_type": "stream",
     "text": [
      "<sqlite3.Cursor object at 0x0485F660>\n",
      "<class 'list'>\n",
      "[('293', 'leiyunhe', '3', \"['sardine2:2017-03-22T05:57:57Z', 'leiyunhe:2017-03-22T07:38:32Z', 'sardine2:2017-03-23T12:10:49Z']\"), ('280', 'leiyunhe', '0', '[]'), ('147', 'leiyunhe', '4', \"['faketooth:2017-01-10T03:28:00Z', 'ZoomQuiet:2017-01-10T10:29:42Z', 'leiyunhe:2017-01-11T01:32:16Z', 'leiyunhe:2017-01-11T14:28:31Z']\"), ('13', 'leiyunhe', '3', \"['ishanshan:2017-01-03T10:06:49Z', 'leiyunhe:2017-01-03T11:54:15Z', 'ishanshan:2017-01-03T15:03:02Z']\")]\n"
     ]
    }
   ],
   "source": [
    "import sqlite3\n",
    "DATABASE = 'database'\n",
    "conn = sqlite3.connect(DATABASE)\n",
    "c = conn.cursor()\n",
    "m = c.execute('SELECT * FROM issue_info where issue_creator = ?',['leiyunhe'])\n",
    "print(m)\n",
    "r = m.fetchall()\n",
    "print(type(r))\n",
    "print (r)\n",
    "# for row in m:\n",
    "# #     print(row)\n",
    "#     print(row)\n"
   ]
  },
  {
   "cell_type": "code",
   "execution_count": 12,
   "metadata": {
    "collapsed": false,
    "deletable": true,
    "editable": true
   },
   "outputs": [
    {
     "data": {
      "text/plain": [
       "(('293',\n",
       "  'leiyunhe',\n",
       "  '3',\n",
       "  \"['sardine2:2017-03-22T05:57:57Z', 'leiyunhe:2017-03-22T07:38:32Z', 'sardine2:2017-03-23T12:10:49Z']\"),\n",
       " ('280', 'leiyunhe', '0', '[]'))"
      ]
     },
     "execution_count": 12,
     "metadata": {},
     "output_type": "execute_result"
    }
   ],
   "source": [
    "r[0],r[1],"
   ]
  },
  {
   "cell_type": "code",
   "execution_count": 9,
   "metadata": {
    "collapsed": false
   },
   "outputs": [
    {
     "data": {
      "text/plain": [
       "'293'"
      ]
     },
     "execution_count": 9,
     "metadata": {},
     "output_type": "execute_result"
    }
   ],
   "source": [
    "r[0][0]"
   ]
  },
  {
   "cell_type": "code",
   "execution_count": 10,
   "metadata": {
    "collapsed": false
   },
   "outputs": [
    {
     "data": {
      "text/plain": [
       "'leiyunhe'"
      ]
     },
     "execution_count": 10,
     "metadata": {},
     "output_type": "execute_result"
    }
   ],
   "source": [
    "r[0][1]"
   ]
  },
  {
   "cell_type": "code",
   "execution_count": 28,
   "metadata": {
    "collapsed": false,
    "scrolled": true
   },
   "outputs": [
    {
     "name": "stdout",
     "output_type": "stream",
     "text": [
      "[\"['sardine2:2017-03-22T05:57:57Z'\", \" 'leiyunhe:2017-03-22T07:38:32Z'\", \" 'sardine2:2017-03-23T12:10:49Z']\"]\n"
     ]
    }
   ],
   "source": [
    "s = r[0][3].split(\",\")\n",
    "print(s)"
   ]
  },
  {
   "cell_type": "code",
   "execution_count": 29,
   "metadata": {
    "collapsed": false,
    "scrolled": true
   },
   "outputs": [
    {
     "data": {
      "text/plain": [
       "\"['sardine2:2017-03-22T05:57:57Z'\""
      ]
     },
     "execution_count": 29,
     "metadata": {},
     "output_type": "execute_result"
    }
   ],
   "source": [
    "s[0]"
   ]
  },
  {
   "cell_type": "code",
   "execution_count": 30,
   "metadata": {
    "collapsed": false
   },
   "outputs": [
    {
     "name": "stdout",
     "output_type": "stream",
     "text": [
      "1\n"
     ]
    }
   ],
   "source": [
    "num = 0\n",
    "if 'sardine' in s[0]:\n",
    "    num += 1\n",
    "print(num)"
   ]
  },
  {
   "cell_type": "code",
   "execution_count": 33,
   "metadata": {
    "collapsed": false
   },
   "outputs": [
    {
     "name": "stdout",
     "output_type": "stream",
     "text": [
      "8\n"
     ]
    }
   ],
   "source": [
    "\n",
    "num =0\n",
    "for comment in r:\n",
    "    if 'leiyunhe' in comment[1]:\n",
    "        num += 1\n",
    "    s = comment[3].split(\",\")\n",
    "    for item in s:\n",
    "        if 'leiyunhe' in item:\n",
    "            num += 1\n",
    "print(num)\n",
    "    #     print(item)"
   ]
  },
  {
   "cell_type": "code",
   "execution_count": 58,
   "metadata": {
    "collapsed": false
   },
   "outputs": [],
   "source": [
    "# https://github.com/leiyunhe/PrecisionTeachingAndLearning\n",
    "    \n",
    "#     GET /repos/:owner/:repo/contents/:path\n",
    "import requests\n",
    "import json\n",
    "# url = 'https://api.github.com/repos/leiyunhe/PrecisionTeachingAndLearning/contents/README.md'\n",
    "url = 'https://api.github.com/repos/leiyunhe/PrecisionTeachingAndLearning/contents/'\n",
    "s = requests.session()\n",
    "r = s.get(url)\n",
    "result = json.loads(r.text)\n",
    "# print(result)"
   ]
  },
  {
   "cell_type": "code",
   "execution_count": 83,
   "metadata": {
    "collapsed": false
   },
   "outputs": [
    {
     "ename": "TypeError",
     "evalue": "string indices must be integers",
     "output_type": "error",
     "traceback": [
      "\u001b[1;31m---------------------------------------------------------------------------\u001b[0m",
      "\u001b[1;31mTypeError\u001b[0m                                 Traceback (most recent call last)",
      "\u001b[1;32m<ipython-input-83-7330b731aa56>\u001b[0m in \u001b[0;36m<module>\u001b[1;34m()\u001b[0m\n\u001b[0;32m      9\u001b[0m \u001b[0mls\u001b[0m \u001b[1;33m=\u001b[0m \u001b[1;33m[\u001b[0m\u001b[1;33m]\u001b[0m\u001b[1;33m\u001b[0m\u001b[0m\n\u001b[0;32m     10\u001b[0m \u001b[1;32mfor\u001b[0m \u001b[0mdata\u001b[0m \u001b[1;32min\u001b[0m \u001b[0mresult\u001b[0m\u001b[1;33m:\u001b[0m\u001b[1;33m\u001b[0m\u001b[0m\n\u001b[1;32m---> 11\u001b[1;33m     \u001b[0mfilename\u001b[0m \u001b[1;33m=\u001b[0m \u001b[0mdata\u001b[0m\u001b[1;33m[\u001b[0m\u001b[1;34m'name'\u001b[0m\u001b[1;33m]\u001b[0m\u001b[1;33m\u001b[0m\u001b[0m\n\u001b[0m\u001b[0;32m     12\u001b[0m     \u001b[1;32mif\u001b[0m \u001b[0mfilename\u001b[0m\u001b[1;33m[\u001b[0m\u001b[1;33m-\u001b[0m\u001b[1;36m3\u001b[0m\u001b[1;33m:\u001b[0m\u001b[1;33m]\u001b[0m \u001b[1;33m==\u001b[0m \u001b[1;34m'.py'\u001b[0m\u001b[1;33m:\u001b[0m\u001b[1;33m\u001b[0m\u001b[0m\n\u001b[0;32m     13\u001b[0m         \u001b[0mprint\u001b[0m\u001b[1;33m(\u001b[0m\u001b[0mfilename\u001b[0m\u001b[1;33m)\u001b[0m\u001b[1;33m\u001b[0m\u001b[0m\n",
      "\u001b[1;31mTypeError\u001b[0m: string indices must be integers"
     ]
    }
   ],
   "source": [
    "import requests\n",
    "import json\n",
    "\n",
    "url = 'https://api.github.com/repos/leiyunhe/PrecisionTeachingAndLearning/contents/'\n",
    "s = requests.session()\n",
    "r = s.get(url)\n",
    "result = json.loads(r.text)\n",
    "\n",
    "ls = []\n",
    "for data in result:\n",
    "    filename = data['name']\n",
    "    if filename[-3:] == '.py':\n",
    "        print(filename)\n",
    "        ls.append(filename)\n",
    "    else:\n",
    "        pass\n",
    "    \n",
    "    if data['type'] == 'dir':\n",
    "#         print(1)\n",
    "        print(filename)\n",
    "        \n",
    "        url = 'https://api.github.com/repos/leiyunhe/PrecisionTeachingAndLearning/contents/%s' % (filename)\n",
    "        s = requests.session()\n",
    "        r = s.get(url)\n",
    "#         print(r)\n",
    "        result = json.loads(r.text)\n",
    "        \n",
    "        for data in result:\n",
    "            filename = data['name']\n",
    "            if filename[-3:] == '.py':\n",
    "                print(filename)\n",
    "                ls.append(filename)\n",
    "            else:\n",
    "                pass\n",
    "print(ls)\n",
    "        "
   ]
  },
  {
   "cell_type": "code",
   "execution_count": null,
   "metadata": {
    "collapsed": true
   },
   "outputs": [],
   "source": []
  }
 ],
 "metadata": {
  "kernelspec": {
   "display_name": "Python 3",
   "language": "python",
   "name": "python3"
  },
  "language_info": {
   "codemirror_mode": {
    "name": "ipython",
    "version": 3
   },
   "file_extension": ".py",
   "mimetype": "text/x-python",
   "name": "python",
   "nbconvert_exporter": "python",
   "pygments_lexer": "ipython3",
   "version": "3.6.0"
  }
 },
 "nbformat": 4,
 "nbformat_minor": 2
}
