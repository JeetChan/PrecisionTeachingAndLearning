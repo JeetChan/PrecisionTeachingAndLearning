{
 "cells": [
  {
   "cell_type": "code",
   "execution_count": 3,
   "metadata": {
    "collapsed": false,
    "deletable": true,
    "editable": true
   },
   "outputs": [
    {
     "name": "stdout",
     "output_type": "stream",
     "text": [
      "请输入您的github用户名和密码：\n",
      "用户名：leiyunhe\n",
      "密码：he18801730209\n"
     ]
    },
    {
     "data": {
      "text/plain": [
       "('leiyunhe', 'he18801730209')"
      ]
     },
     "execution_count": 3,
     "metadata": {},
     "output_type": "execute_result"
    }
   ],
   "source": [
    "#!/usr/bin/env python3\n",
    "# -*- coding: utf-8 -*-\n",
    "def login():\n",
    "    print(\"请输入您的github用户名和密码：\")\n",
    "    USERNAME = input(\"用户名：\")\n",
    "    PASSWORD = input(\"密码：\")\n",
    "    return (USERNAME, PASSWORD)\n",
    "\n",
    "login()\n"
   ]
  },
  {
   "cell_type": "code",
   "execution_count": 1,
   "metadata": {
    "collapsed": false,
    "deletable": true,
    "editable": true
   },
   "outputs": [
    {
     "name": "stdout",
     "output_type": "stream",
     "text": [
      "password: ········\n",
      "aaa\n"
     ]
    }
   ],
   "source": [
    "import getpass\n",
    "pwd = getpass.getpass('password: ')\n",
    "print(pwd)"
   ]
  },
  {
   "cell_type": "code",
   "execution_count": 4,
   "metadata": {
    "collapsed": false,
    "deletable": true,
    "editable": true
   },
   "outputs": [
    {
     "name": "stdout",
     "output_type": "stream",
     "text": [
      "请输入您的github用户名和密码：\n",
      "用户名：leiyunhe\n",
      "密码：········\n"
     ]
    }
   ],
   "source": [
    "#!/usr/bin/env python3\n",
    "# -*- coding: utf-8 -*-\n",
    "import getpass\n",
    "def login():\n",
    "    print(\"请输入您的github用户名和密码：\")\n",
    "    USERNAME = input(\"用户名：\")\n",
    "    PASSWORD = getpass.getpass(\"密码：\")\n",
    "    return (USERNAME, PASSWORD)\n",
    "f = login()\n"
   ]
  },
  {
   "cell_type": "code",
   "execution_count": 5,
   "metadata": {
    "collapsed": false,
    "deletable": true,
    "editable": true
   },
   "outputs": [
    {
     "data": {
      "text/plain": [
       "'leiyunhe'"
      ]
     },
     "execution_count": 5,
     "metadata": {},
     "output_type": "execute_result"
    }
   ],
   "source": [
    "f[0]"
   ]
  },
  {
   "cell_type": "code",
   "execution_count": 6,
   "metadata": {
    "collapsed": false,
    "deletable": true,
    "editable": true
   },
   "outputs": [
    {
     "data": {
      "text/plain": [
       "'123'"
      ]
     },
     "execution_count": 6,
     "metadata": {},
     "output_type": "execute_result"
    }
   ],
   "source": [
    "f[1]"
   ]
  },
  {
   "cell_type": "code",
   "execution_count": 8,
   "metadata": {
    "collapsed": false,
    "deletable": true,
    "editable": true
   },
   "outputs": [
    {
     "name": "stdout",
     "output_type": "stream",
     "text": [
      "message\n"
     ]
    },
    {
     "ename": "TypeError",
     "evalue": "string indices must be integers",
     "output_type": "error",
     "traceback": [
      "\u001b[1;31m---------------------------------------------------------------------------\u001b[0m",
      "\u001b[1;31mTypeError\u001b[0m                                 Traceback (most recent call last)",
      "\u001b[1;32m<ipython-input-8-1dfc922b222e>\u001b[0m in \u001b[0;36m<module>\u001b[1;34m()\u001b[0m\n\u001b[0;32m     86\u001b[0m                     \u001b[0mcomment_num\u001b[0m\u001b[1;33m[\u001b[0m\u001b[0musername\u001b[0m\u001b[1;33m]\u001b[0m \u001b[1;33m+=\u001b[0m \u001b[1;36m1\u001b[0m\u001b[1;33m\u001b[0m\u001b[0m\n\u001b[0;32m     87\u001b[0m     \u001b[1;32mreturn\u001b[0m \u001b[0mcomment_num\u001b[0m\u001b[1;33m\u001b[0m\u001b[0m\n\u001b[1;32m---> 88\u001b[1;33m \u001b[0mr\u001b[0m \u001b[1;33m=\u001b[0m \u001b[0mget_user_issue_comment\u001b[0m\u001b[1;33m(\u001b[0m\u001b[1;33m)\u001b[0m\u001b[1;33m\u001b[0m\u001b[0m\n\u001b[0m\u001b[0;32m     89\u001b[0m \u001b[0mprint\u001b[0m\u001b[1;33m(\u001b[0m\u001b[0mr\u001b[0m\u001b[1;33m)\u001b[0m\u001b[1;33m\u001b[0m\u001b[0m\n",
      "\u001b[1;32m<ipython-input-8-1dfc922b222e>\u001b[0m in \u001b[0;36mget_user_issue_comment\u001b[1;34m()\u001b[0m\n\u001b[0;32m     80\u001b[0m     \u001b[1;32mfor\u001b[0m \u001b[0missue\u001b[0m \u001b[1;32min\u001b[0m \u001b[0missues\u001b[0m\u001b[1;33m:\u001b[0m\u001b[1;33m\u001b[0m\u001b[0m\n\u001b[0;32m     81\u001b[0m         \u001b[1;32mfor\u001b[0m \u001b[0mnumber\u001b[0m \u001b[1;32min\u001b[0m \u001b[0missue\u001b[0m\u001b[1;33m:\u001b[0m\u001b[1;33m\u001b[0m\u001b[0m\n\u001b[1;32m---> 82\u001b[1;33m             \u001b[0mcomments\u001b[0m \u001b[1;33m=\u001b[0m \u001b[0msubmit_task_issue\u001b[0m\u001b[1;33m(\u001b[0m\u001b[0mnumber\u001b[0m\u001b[1;33m)\u001b[0m\u001b[1;33m\u001b[0m\u001b[0m\n\u001b[0m\u001b[0;32m     83\u001b[0m             \u001b[1;32mfor\u001b[0m \u001b[0mcomment\u001b[0m \u001b[1;32min\u001b[0m \u001b[0mcomments\u001b[0m\u001b[1;33m:\u001b[0m\u001b[1;33m\u001b[0m\u001b[0m\n\u001b[0;32m     84\u001b[0m \u001b[1;31m#                 if username in comment[0]:\u001b[0m\u001b[1;33m\u001b[0m\u001b[1;33m\u001b[0m\u001b[0m\n",
      "\u001b[1;32m<ipython-input-8-1dfc922b222e>\u001b[0m in \u001b[0;36msubmit_task_issue\u001b[1;34m(ISSUE_NUMBER)\u001b[0m\n\u001b[0;32m     69\u001b[0m     \u001b[1;32mfor\u001b[0m \u001b[0mx\u001b[0m \u001b[1;32min\u001b[0m \u001b[0mresult\u001b[0m\u001b[1;33m:\u001b[0m\u001b[1;33m\u001b[0m\u001b[0m\n\u001b[0;32m     70\u001b[0m         \u001b[0mprint\u001b[0m\u001b[1;33m(\u001b[0m\u001b[0mx\u001b[0m\u001b[1;33m)\u001b[0m\u001b[1;33m\u001b[0m\u001b[0m\n\u001b[1;32m---> 71\u001b[1;33m         \u001b[0mm\u001b[0m \u001b[1;33m=\u001b[0m \u001b[1;33m[\u001b[0m\u001b[0mx\u001b[0m\u001b[1;33m[\u001b[0m\u001b[1;34m\"user\"\u001b[0m\u001b[1;33m]\u001b[0m\u001b[1;33m[\u001b[0m\u001b[1;34m\"login\"\u001b[0m\u001b[1;33m]\u001b[0m\u001b[1;33m,\u001b[0m\u001b[0mx\u001b[0m\u001b[1;33m[\u001b[0m\u001b[1;34m\"created_at\"\u001b[0m\u001b[1;33m]\u001b[0m\u001b[1;33m,\u001b[0m\u001b[0mx\u001b[0m\u001b[1;33m[\u001b[0m\u001b[1;34m\"body\"\u001b[0m\u001b[1;33m]\u001b[0m\u001b[1;33m]\u001b[0m\u001b[1;33m\u001b[0m\u001b[0m\n\u001b[0m\u001b[0;32m     72\u001b[0m         \u001b[0mls\u001b[0m\u001b[1;33m.\u001b[0m\u001b[0mappend\u001b[0m\u001b[1;33m(\u001b[0m\u001b[0mm\u001b[0m\u001b[1;33m)\u001b[0m\u001b[1;33m\u001b[0m\u001b[0m\n\u001b[0;32m     73\u001b[0m     \u001b[1;32mreturn\u001b[0m \u001b[0mls\u001b[0m\u001b[1;33m\u001b[0m\u001b[0m\n",
      "\u001b[1;31mTypeError\u001b[0m: string indices must be integers"
     ]
    }
   ],
   "source": [
    "#!/usr/bin/env python3\n",
    "# -*- coding: utf-8 -*-\n",
    "import json\n",
    "import requests\n",
    "# from flask import g\n",
    "import sqlite3\n",
    "# # from utils.const_value import REPO_OWNER, REPO_NAME, USERNAME,PASSWORD,AREA,payload,payload1,payload2,TIME,DATABASE,LABEL,STATE\n",
    "# from utils.const_value import DATABASE, REPO_OWNER, REPO_NAME, AREA,payload,payload1,payload2,TIME,LABEL,STATE\n",
    "# from login import login\n",
    "TIME = '2017-01-01T00:00:00Z'\n",
    "REPO_OWNER = 'AIMinder'\n",
    "REPO_NAME = 'Py103'\n",
    "DATABASE = 'database'\n",
    "PAGE = 'index2.html'\n",
    "\n",
    "LABEL = 'task'\n",
    "STATE = 'all'\n",
    "\n",
    "AREA = ['北京','长三角','珠三角','其他']\n",
    "USERNAME = 'yunhe.lei@gmail.com'\n",
    "PASSWORD = 'he18801730209'\n",
    "payload1 = {'state':STATE,\n",
    "            'labels': LABEL,\n",
    "            'since':TIME}\n",
    "payload2 = {'labels': LABEL,\n",
    "            'state': STATE}\n",
    "def traverse_pages():\n",
    "    '''travesing all pages, return a list including all pages'''\n",
    "    url = 'https://api.github.com/repos/%s/%s/issues' % (REPO_OWNER, REPO_NAME)\n",
    "    s = requests.session()\n",
    "    s.auth = (USERNAME,PASSWORD)\n",
    "    r = s.get(url,params = payload1)\n",
    "    li = r.headers[\"Link\"]\n",
    "    next_url=li[(li.index(\"<\") + 1):li.index(\">\")]\n",
    "    result = json.loads(r.text)\n",
    "    ls = []\n",
    "    ls.append(result)      \n",
    "    while True:\n",
    "        r = s.get(next_url,params = payload1)\n",
    "        result = json.loads(r.text)\n",
    "        ls.append(result)\n",
    "        link = r.headers['Link']\n",
    "        if 'next' not in link:\n",
    "            break\n",
    "        next_url=link[(link.index(\"<\") + 1):link.index(\">\")]\n",
    "    return ls\n",
    "\n",
    "def get_all_issues():\n",
    "    ls = traverse_pages()\n",
    "    issue_ls = []\n",
    "    for page in ls:\n",
    "        for x in page:\n",
    "            m = [x[\"title\"],x[\"number\"]]\n",
    "            issue_ls.append(m)\n",
    "    print(issue_ls)\n",
    "    return issue_ls\n",
    "\n",
    "def submit_task_issue(ISSUE_NUMBER):\n",
    "    '''\n",
    "    List comments on an issue\n",
    "    return: user_name, comments_url, created_at_time\n",
    "    DOC  https://developer.github.com/v3/issues/comments/\n",
    "    '''\n",
    "    url = 'https://api.github.com/repos/%s/%s/issues/%s/comments' % (REPO_OWNER, REPO_NAME,ISSUE_NUMBER)\n",
    "    s = requests.session()\n",
    "    s.auth = (USERNAME,PASSWORD)\n",
    "    r = s.get(url,params = payload2)\n",
    "    result = json.loads(r.text)\n",
    "    ls = []\n",
    "    for x in result:\n",
    "        print(x)\n",
    "        m = [x[\"user\"][\"login\"],x[\"created_at\"],x[\"body\"]]\n",
    "        ls.append(m)\n",
    "    return ls\n",
    "    print(ls)\n",
    "\n",
    "def get_user_issue_comment():\n",
    "\n",
    "    comment_num = {}\n",
    "    issues = get_all_issues()\n",
    "    for issue in issues:\n",
    "        for number in issue:\n",
    "            comments = submit_task_issue(number)\n",
    "            for comment in comments:\n",
    "#                 if username in comment[0]:\n",
    "                if 'leiyunhe' in comment[0]:\n",
    "                    comment_num[username] += 1\n",
    "    return comment_num\n",
    "r = get_user_issue_comment()\n",
    "print(r)\n"
   ]
  },
  {
   "cell_type": "code",
   "execution_count": null,
   "metadata": {
    "collapsed": true
   },
   "outputs": [],
   "source": []
  }
 ],
 "metadata": {
  "kernelspec": {
   "display_name": "Python 3",
   "language": "python",
   "name": "python3"
  },
  "language_info": {
   "codemirror_mode": {
    "name": "ipython",
    "version": 3
   },
   "file_extension": ".py",
   "mimetype": "text/x-python",
   "name": "python",
   "nbconvert_exporter": "python",
   "pygments_lexer": "ipython3",
   "version": "3.6.0"
  }
 },
 "nbformat": 4,
 "nbformat_minor": 2
}
