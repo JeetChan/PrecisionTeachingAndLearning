{
 "cells": [
  {
   "cell_type": "code",
   "execution_count": 23,
   "metadata": {
    "collapsed": false
   },
   "outputs": [
    {
     "name": "stdout",
     "output_type": "stream",
     "text": [
      "<requests.sessions.Session object at 0x01B31930>\n",
      "leiyunhe [{'w': 1481414400, 'a': 0, 'd': 0, 'c': 0}, {'w': 1482019200, 'a': 0, 'd': 0, 'c': 0}, {'w': 1482624000, 'a': 0, 'd': 0, 'c': 0}, {'w': 1483228800, 'a': 1068, 'd': 329, 'c': 40}, {'w': 1483833600, 'a': 951, 'd': 421, 'c': 37}, {'w': 1484438400, 'a': 5203, 'd': 1178, 'c': 10}, {'w': 1485043200, 'a': 3263, 'd': 67, 'c': 7}, {'w': 1485648000, 'a': 31, 'd': 1, 'c': 1}, {'w': 1486252800, 'a': 474, 'd': 17, 'c': 6}, {'w': 1486857600, 'a': 961, 'd': 110, 'c': 7}, {'w': 1487462400, 'a': 380, 'd': 219, 'c': 7}, {'w': 1488067200, 'a': 1423, 'd': 3166, 'c': 15}, {'w': 1488672000, 'a': 1163, 'd': 660, 'c': 11}, {'w': 1489276800, 'a': 0, 'd': 0, 'c': 0}, {'w': 1489881600, 'a': 103, 'd': 4, 'c': 2}, {'w': 1490486400, 'a': 0, 'd': 0, 'c': 0}]\n",
      "15020 6172 143\n"
     ]
    }
   ],
   "source": [
    "import requests\n",
    "import json\n",
    "# GET /repos/:owner/:repo/stats/contributors\n",
    "url = 'https://api.github.com/repos/leiyunhe/Py103/stats/contributors'\n",
    "s = requests.session()\n",
    "print(s)\n",
    "s.auth = ('leiyunhe','he18801730209')\n",
    "r = s.get(url)\n",
    "result = json.loads(r.text)\n",
    "# print(result)\n",
    "addition = deletion = commits = 0\n",
    "for item in result:\n",
    "#     print(item['weeks'])\n",
    "    if item['author']['login'] == 'leiyunhe':\n",
    "        print(item['author']['login'],item[\"weeks\"])\n",
    "        for m in item[\"weeks\"]:\n",
    "            addition += m['a']\n",
    "            deletion += m['d']\n",
    "            commits += m['c']\n",
    "#     print(item['weeks'][0])\n",
    "#     for data in item:\n",
    "#         print(data)\n",
    "#         add += int(data['a'])\n",
    "print(add,delete,commits)"
   ]
  },
  {
   "cell_type": "code",
   "execution_count": null,
   "metadata": {
    "collapsed": true
   },
   "outputs": [],
   "source": []
  }
 ],
 "metadata": {
  "kernelspec": {
   "display_name": "Python 3",
   "language": "python",
   "name": "python3"
  },
  "language_info": {
   "codemirror_mode": {
    "name": "ipython",
    "version": 3
   },
   "file_extension": ".py",
   "mimetype": "text/x-python",
   "name": "python",
   "nbconvert_exporter": "python",
   "pygments_lexer": "ipython3",
   "version": "3.6.0"
  }
 },
 "nbformat": 4,
 "nbformat_minor": 2
}
