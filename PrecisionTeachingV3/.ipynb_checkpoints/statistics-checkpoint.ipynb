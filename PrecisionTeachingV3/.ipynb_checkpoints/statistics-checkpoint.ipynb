{
 "cells": [
  {
   "cell_type": "code",
   "execution_count": 3,
   "metadata": {
    "collapsed": false,
    "deletable": true,
    "editable": true
   },
   "outputs": [
    {
     "name": "stdout",
     "output_type": "stream",
     "text": [
      "<requests.sessions.Session object at 0x01229790>\n",
      "1 3 {'total': 1, 'weeks': [{'w': 1481414400, 'a': 0, 'd': 0, 'c': 0}, {'w': 1482019200, 'a': 0, 'd': 0, 'c': 0}, {'w': 1482624000, 'a': 0, 'd': 0, 'c': 0}, {'w': 1483228800, 'a': 92, 'd': 0, 'c': 1}, {'w': 1483833600, 'a': 0, 'd': 0, 'c': 0}, {'w': 1484438400, 'a': 0, 'd': 0, 'c': 0}, {'w': 1485043200, 'a': 0, 'd': 0, 'c': 0}, {'w': 1485648000, 'a': 0, 'd': 0, 'c': 0}, {'w': 1486252800, 'a': 0, 'd': 0, 'c': 0}, {'w': 1486857600, 'a': 0, 'd': 0, 'c': 0}, {'w': 1487462400, 'a': 0, 'd': 0, 'c': 0}, {'w': 1488067200, 'a': 0, 'd': 0, 'c': 0}, {'w': 1488672000, 'a': 0, 'd': 0, 'c': 0}, {'w': 1489276800, 'a': 0, 'd': 0, 'c': 0}, {'w': 1489881600, 'a': 0, 'd': 0, 'c': 0}, {'w': 1490486400, 'a': 0, 'd': 0, 'c': 0}], 'author': {'login': 'sunoonlee', 'id': 14834396, 'avatar_url': 'https://avatars0.githubusercontent.com/u/14834396?v=3', 'gravatar_id': '', 'url': 'https://api.github.com/users/sunoonlee', 'html_url': 'https://github.com/sunoonlee', 'followers_url': 'https://api.github.com/users/sunoonlee/followers', 'following_url': 'https://api.github.com/users/sunoonlee/following{/other_user}', 'gists_url': 'https://api.github.com/users/sunoonlee/gists{/gist_id}', 'starred_url': 'https://api.github.com/users/sunoonlee/starred{/owner}{/repo}', 'subscriptions_url': 'https://api.github.com/users/sunoonlee/subscriptions', 'organizations_url': 'https://api.github.com/users/sunoonlee/orgs', 'repos_url': 'https://api.github.com/users/sunoonlee/repos', 'events_url': 'https://api.github.com/users/sunoonlee/events{/privacy}', 'received_events_url': 'https://api.github.com/users/sunoonlee/received_events', 'type': 'User', 'site_admin': False}}\n",
      "1 3 {'total': 1, 'weeks': [{'w': 1481414400, 'a': 2, 'd': 0, 'c': 1}, {'w': 1482019200, 'a': 0, 'd': 0, 'c': 0}, {'w': 1482624000, 'a': 0, 'd': 0, 'c': 0}, {'w': 1483228800, 'a': 0, 'd': 0, 'c': 0}, {'w': 1483833600, 'a': 0, 'd': 0, 'c': 0}, {'w': 1484438400, 'a': 0, 'd': 0, 'c': 0}, {'w': 1485043200, 'a': 0, 'd': 0, 'c': 0}, {'w': 1485648000, 'a': 0, 'd': 0, 'c': 0}, {'w': 1486252800, 'a': 0, 'd': 0, 'c': 0}, {'w': 1486857600, 'a': 0, 'd': 0, 'c': 0}, {'w': 1487462400, 'a': 0, 'd': 0, 'c': 0}, {'w': 1488067200, 'a': 0, 'd': 0, 'c': 0}, {'w': 1488672000, 'a': 0, 'd': 0, 'c': 0}, {'w': 1489276800, 'a': 0, 'd': 0, 'c': 0}, {'w': 1489881600, 'a': 0, 'd': 0, 'c': 0}, {'w': 1490486400, 'a': 0, 'd': 0, 'c': 0}], 'author': {'login': 'omclub', 'id': 22190291, 'avatar_url': 'https://avatars1.githubusercontent.com/u/22190291?v=3', 'gravatar_id': '', 'url': 'https://api.github.com/users/omclub', 'html_url': 'https://github.com/omclub', 'followers_url': 'https://api.github.com/users/omclub/followers', 'following_url': 'https://api.github.com/users/omclub/following{/other_user}', 'gists_url': 'https://api.github.com/users/omclub/gists{/gist_id}', 'starred_url': 'https://api.github.com/users/omclub/starred{/owner}{/repo}', 'subscriptions_url': 'https://api.github.com/users/omclub/subscriptions', 'organizations_url': 'https://api.github.com/users/omclub/orgs', 'repos_url': 'https://api.github.com/users/omclub/repos', 'events_url': 'https://api.github.com/users/omclub/events{/privacy}', 'received_events_url': 'https://api.github.com/users/omclub/received_events', 'type': 'User', 'site_admin': False}}\n",
      "1 3 {'total': 2, 'weeks': [{'w': 1481414400, 'a': 0, 'd': 0, 'c': 0}, {'w': 1482019200, 'a': 0, 'd': 0, 'c': 0}, {'w': 1482624000, 'a': 5410, 'd': 2705, 'c': 2}, {'w': 1483228800, 'a': 0, 'd': 0, 'c': 0}, {'w': 1483833600, 'a': 0, 'd': 0, 'c': 0}, {'w': 1484438400, 'a': 0, 'd': 0, 'c': 0}, {'w': 1485043200, 'a': 0, 'd': 0, 'c': 0}, {'w': 1485648000, 'a': 0, 'd': 0, 'c': 0}, {'w': 1486252800, 'a': 0, 'd': 0, 'c': 0}, {'w': 1486857600, 'a': 0, 'd': 0, 'c': 0}, {'w': 1487462400, 'a': 0, 'd': 0, 'c': 0}, {'w': 1488067200, 'a': 0, 'd': 0, 'c': 0}, {'w': 1488672000, 'a': 0, 'd': 0, 'c': 0}, {'w': 1489276800, 'a': 0, 'd': 0, 'c': 0}, {'w': 1489881600, 'a': 0, 'd': 0, 'c': 0}, {'w': 1490486400, 'a': 0, 'd': 0, 'c': 0}], 'author': {'login': 'CrickeySong', 'id': 20220119, 'avatar_url': 'https://avatars3.githubusercontent.com/u/20220119?v=3', 'gravatar_id': '', 'url': 'https://api.github.com/users/CrickeySong', 'html_url': 'https://github.com/CrickeySong', 'followers_url': 'https://api.github.com/users/CrickeySong/followers', 'following_url': 'https://api.github.com/users/CrickeySong/following{/other_user}', 'gists_url': 'https://api.github.com/users/CrickeySong/gists{/gist_id}', 'starred_url': 'https://api.github.com/users/CrickeySong/starred{/owner}{/repo}', 'subscriptions_url': 'https://api.github.com/users/CrickeySong/subscriptions', 'organizations_url': 'https://api.github.com/users/CrickeySong/orgs', 'repos_url': 'https://api.github.com/users/CrickeySong/repos', 'events_url': 'https://api.github.com/users/CrickeySong/events{/privacy}', 'received_events_url': 'https://api.github.com/users/CrickeySong/received_events', 'type': 'User', 'site_admin': False}}\n",
      "1 3 {'total': 4, 'weeks': [{'w': 1481414400, 'a': 0, 'd': 0, 'c': 0}, {'w': 1482019200, 'a': 50, 'd': 0, 'c': 1}, {'w': 1482624000, 'a': 11, 'd': 2, 'c': 2}, {'w': 1483228800, 'a': 2561, 'd': 3, 'c': 1}, {'w': 1483833600, 'a': 0, 'd': 0, 'c': 0}, {'w': 1484438400, 'a': 0, 'd': 0, 'c': 0}, {'w': 1485043200, 'a': 0, 'd': 0, 'c': 0}, {'w': 1485648000, 'a': 0, 'd': 0, 'c': 0}, {'w': 1486252800, 'a': 0, 'd': 0, 'c': 0}, {'w': 1486857600, 'a': 0, 'd': 0, 'c': 0}, {'w': 1487462400, 'a': 0, 'd': 0, 'c': 0}, {'w': 1488067200, 'a': 0, 'd': 0, 'c': 0}, {'w': 1488672000, 'a': 0, 'd': 0, 'c': 0}, {'w': 1489276800, 'a': 0, 'd': 0, 'c': 0}, {'w': 1489881600, 'a': 0, 'd': 0, 'c': 0}, {'w': 1490486400, 'a': 0, 'd': 0, 'c': 0}], 'author': {'login': 'ishanshan', 'id': 8518968, 'avatar_url': 'https://avatars0.githubusercontent.com/u/8518968?v=3', 'gravatar_id': '', 'url': 'https://api.github.com/users/ishanshan', 'html_url': 'https://github.com/ishanshan', 'followers_url': 'https://api.github.com/users/ishanshan/followers', 'following_url': 'https://api.github.com/users/ishanshan/following{/other_user}', 'gists_url': 'https://api.github.com/users/ishanshan/gists{/gist_id}', 'starred_url': 'https://api.github.com/users/ishanshan/starred{/owner}{/repo}', 'subscriptions_url': 'https://api.github.com/users/ishanshan/subscriptions', 'organizations_url': 'https://api.github.com/users/ishanshan/orgs', 'repos_url': 'https://api.github.com/users/ishanshan/repos', 'events_url': 'https://api.github.com/users/ishanshan/events{/privacy}', 'received_events_url': 'https://api.github.com/users/ishanshan/received_events', 'type': 'User', 'site_admin': False}}\n",
      "1 3 {'total': 143, 'weeks': [{'w': 1481414400, 'a': 0, 'd': 0, 'c': 0}, {'w': 1482019200, 'a': 0, 'd': 0, 'c': 0}, {'w': 1482624000, 'a': 0, 'd': 0, 'c': 0}, {'w': 1483228800, 'a': 1068, 'd': 329, 'c': 40}, {'w': 1483833600, 'a': 951, 'd': 421, 'c': 37}, {'w': 1484438400, 'a': 5203, 'd': 1178, 'c': 10}, {'w': 1485043200, 'a': 3263, 'd': 67, 'c': 7}, {'w': 1485648000, 'a': 31, 'd': 1, 'c': 1}, {'w': 1486252800, 'a': 474, 'd': 17, 'c': 6}, {'w': 1486857600, 'a': 961, 'd': 110, 'c': 7}, {'w': 1487462400, 'a': 380, 'd': 219, 'c': 7}, {'w': 1488067200, 'a': 1423, 'd': 3166, 'c': 15}, {'w': 1488672000, 'a': 1163, 'd': 660, 'c': 11}, {'w': 1489276800, 'a': 0, 'd': 0, 'c': 0}, {'w': 1489881600, 'a': 103, 'd': 4, 'c': 2}, {'w': 1490486400, 'a': 0, 'd': 0, 'c': 0}], 'author': {'login': 'leiyunhe', 'id': 22088422, 'avatar_url': 'https://avatars0.githubusercontent.com/u/22088422?v=3', 'gravatar_id': '', 'url': 'https://api.github.com/users/leiyunhe', 'html_url': 'https://github.com/leiyunhe', 'followers_url': 'https://api.github.com/users/leiyunhe/followers', 'following_url': 'https://api.github.com/users/leiyunhe/following{/other_user}', 'gists_url': 'https://api.github.com/users/leiyunhe/gists{/gist_id}', 'starred_url': 'https://api.github.com/users/leiyunhe/starred{/owner}{/repo}', 'subscriptions_url': 'https://api.github.com/users/leiyunhe/subscriptions', 'organizations_url': 'https://api.github.com/users/leiyunhe/orgs', 'repos_url': 'https://api.github.com/users/leiyunhe/repos', 'events_url': 'https://api.github.com/users/leiyunhe/events{/privacy}', 'received_events_url': 'https://api.github.com/users/leiyunhe/received_events', 'type': 'User', 'site_admin': False}}\n",
      "leiyunhe [{'w': 1481414400, 'a': 0, 'd': 0, 'c': 0}, {'w': 1482019200, 'a': 0, 'd': 0, 'c': 0}, {'w': 1482624000, 'a': 0, 'd': 0, 'c': 0}, {'w': 1483228800, 'a': 1068, 'd': 329, 'c': 40}, {'w': 1483833600, 'a': 951, 'd': 421, 'c': 37}, {'w': 1484438400, 'a': 5203, 'd': 1178, 'c': 10}, {'w': 1485043200, 'a': 3263, 'd': 67, 'c': 7}, {'w': 1485648000, 'a': 31, 'd': 1, 'c': 1}, {'w': 1486252800, 'a': 474, 'd': 17, 'c': 6}, {'w': 1486857600, 'a': 961, 'd': 110, 'c': 7}, {'w': 1487462400, 'a': 380, 'd': 219, 'c': 7}, {'w': 1488067200, 'a': 1423, 'd': 3166, 'c': 15}, {'w': 1488672000, 'a': 1163, 'd': 660, 'c': 11}, {'w': 1489276800, 'a': 0, 'd': 0, 'c': 0}, {'w': 1489881600, 'a': 103, 'd': 4, 'c': 2}, {'w': 1490486400, 'a': 0, 'd': 0, 'c': 0}]\n",
      "15020 6172 143\n"
     ]
    }
   ],
   "source": [
    "import requests\n",
    "import json\n",
    "# GET /repos/:owner/:repo/stats/contributors\n",
    "url = 'https://api.github.com/repos/leiyunhe/Py103/stats/contributors'\n",
    "s = requests.session()\n",
    "print(s)\n",
    "s.auth = ('leiyunhe','he18801730209')\n",
    "r = s.get(url)\n",
    "result = json.loads(r.text)\n",
    "# print(result)\n",
    "addition = deletion = commits = 0\n",
    "for item in result:\n",
    "#     print(item['weeks'])\n",
    "    print(1,3,item)\n",
    "    if item['author']['login'] == 'leiyunhe':\n",
    "        print(item['author']['login'],item[\"weeks\"])\n",
    "        for m in item[\"weeks\"]:\n",
    "            addition += m['a']\n",
    "            deletion += m['d']\n",
    "            commits += m['c']\n",
    "#     print(item['weeks'][0])\n",
    "#     for data in item:\n",
    "#         print(data)\n",
    "#         add += int(data['a'])\n",
    "print(addition,deletion,commits)"
   ]
  },
  {
   "cell_type": "code",
   "execution_count": 28,
   "metadata": {
    "collapsed": false,
    "deletable": true,
    "editable": true
   },
   "outputs": [
    {
     "name": "stdout",
     "output_type": "stream",
     "text": [
      "<requests.sessions.Session object at 0x01B474D0>\n",
      "fatfox2016 [{'w': 1481414400, 'a': 0, 'd': 0, 'c': 0}, {'w': 1482019200, 'a': 0, 'd': 0, 'c': 0}, {'w': 1482624000, 'a': 0, 'd': 0, 'c': 0}, {'w': 1483228800, 'a': 2922, 'd': 3, 'c': 6}, {'w': 1483833600, 'a': 819, 'd': 266, 'c': 22}, {'w': 1484438400, 'a': 3531, 'd': 135, 'c': 16}, {'w': 1485043200, 'a': 1152, 'd': 58, 'c': 7}, {'w': 1485648000, 'a': 2449, 'd': 320, 'c': 2}, {'w': 1486252800, 'a': 4041, 'd': 3713, 'c': 12}, {'w': 1486857600, 'a': 2391, 'd': 676, 'c': 7}, {'w': 1487462400, 'a': 3354, 'd': 2038, 'c': 6}, {'w': 1488067200, 'a': 1015, 'd': 440, 'c': 5}]\n",
      "21674 7649 83\n"
     ]
    }
   ],
   "source": [
    "import requests\n",
    "import json\n",
    "# GET /repos/:owner/:repo/stats/contributors\n",
    "url = 'https://api.github.com/repos/fatfox2016/Py103/stats/contributors'\n",
    "s = requests.session()\n",
    "print(s)\n",
    "s.auth = ('leiyunhe','he18801730209')\n",
    "r = s.get(url)\n",
    "result = json.loads(r.text)\n",
    "# print(result)\n",
    "addition = deletion = commits = 0\n",
    "for item in result:\n",
    "#     print(item['weeks'])\n",
    "    if item['author']['login'] == 'fatfox2016':\n",
    "        print(item['author']['login'],item[\"weeks\"])\n",
    "        for m in item[\"weeks\"]:\n",
    "            addition += m['a']\n",
    "            deletion += m['d']\n",
    "            commits += m['c']\n",
    "#     print(item['weeks'][0])\n",
    "#     for data in item:\n",
    "#         print(data)\n",
    "#         add += int(data['a'])\n",
    "print(addition,deletion,commits)"
   ]
  },
  {
   "cell_type": "code",
   "execution_count": 4,
   "metadata": {
    "collapsed": false,
    "deletable": true,
    "editable": true
   },
   "outputs": [
    {
     "name": "stdout",
     "output_type": "stream",
     "text": [
      "<requests.sessions.Session object at 0x011D9C10>\n"
     ]
    },
    {
     "ename": "TypeError",
     "evalue": "string indices must be integers",
     "output_type": "error",
     "traceback": [
      "\u001b[1;31m---------------------------------------------------------------------------\u001b[0m",
      "\u001b[1;31mTypeError\u001b[0m                                 Traceback (most recent call last)",
      "\u001b[1;32m<ipython-input-4-f8bc7ef2ad96>\u001b[0m in \u001b[0;36m<module>\u001b[1;34m()\u001b[0m\n\u001b[0;32m     28\u001b[0m \u001b[0mUSER\u001b[0m \u001b[1;33m=\u001b[0m \u001b[1;34m'alexhooo'\u001b[0m\u001b[1;33m\u001b[0m\u001b[0m\n\u001b[0;32m     29\u001b[0m \u001b[1;31m# USER = 'leiyunhe'\u001b[0m\u001b[1;33m\u001b[0m\u001b[1;33m\u001b[0m\u001b[0m\n\u001b[1;32m---> 30\u001b[1;33m \u001b[0mx\u001b[0m \u001b[1;33m=\u001b[0m \u001b[0mstatics\u001b[0m\u001b[1;33m(\u001b[0m\u001b[0mUSER\u001b[0m\u001b[1;33m)\u001b[0m\u001b[1;33m\u001b[0m\u001b[0m\n\u001b[0m\u001b[0;32m     31\u001b[0m \u001b[1;32mif\u001b[0m \u001b[0mx\u001b[0m\u001b[1;33m:\u001b[0m\u001b[1;33m\u001b[0m\u001b[0m\n\u001b[0;32m     32\u001b[0m     \u001b[0mprint\u001b[0m\u001b[1;33m(\u001b[0m\u001b[1;34m\"succeed\"\u001b[0m\u001b[1;33m)\u001b[0m\u001b[1;33m\u001b[0m\u001b[0m\n",
      "\u001b[1;32m<ipython-input-4-f8bc7ef2ad96>\u001b[0m in \u001b[0;36mstatics\u001b[1;34m(USER)\u001b[0m\n\u001b[0;32m     13\u001b[0m     \u001b[1;32mfor\u001b[0m \u001b[0mitem\u001b[0m \u001b[1;32min\u001b[0m \u001b[0mresult\u001b[0m\u001b[1;33m:\u001b[0m\u001b[1;33m\u001b[0m\u001b[0m\n\u001b[0;32m     14\u001b[0m     \u001b[1;31m#     print(item['weeks'])\u001b[0m\u001b[1;33m\u001b[0m\u001b[1;33m\u001b[0m\u001b[0m\n\u001b[1;32m---> 15\u001b[1;33m         \u001b[1;32mif\u001b[0m \u001b[0mitem\u001b[0m\u001b[1;33m[\u001b[0m\u001b[1;34m'author'\u001b[0m\u001b[1;33m]\u001b[0m\u001b[1;33m[\u001b[0m\u001b[1;34m'login'\u001b[0m\u001b[1;33m]\u001b[0m \u001b[1;33m==\u001b[0m \u001b[0mUSER\u001b[0m\u001b[1;33m:\u001b[0m\u001b[1;33m\u001b[0m\u001b[0m\n\u001b[0m\u001b[0;32m     16\u001b[0m             \u001b[0mprint\u001b[0m\u001b[1;33m(\u001b[0m\u001b[0mitem\u001b[0m\u001b[1;33m[\u001b[0m\u001b[1;34m'author'\u001b[0m\u001b[1;33m]\u001b[0m\u001b[1;33m[\u001b[0m\u001b[1;34m'login'\u001b[0m\u001b[1;33m]\u001b[0m\u001b[1;33m,\u001b[0m\u001b[0mitem\u001b[0m\u001b[1;33m[\u001b[0m\u001b[1;34m\"weeks\"\u001b[0m\u001b[1;33m]\u001b[0m\u001b[1;33m)\u001b[0m\u001b[1;33m\u001b[0m\u001b[0m\n\u001b[0;32m     17\u001b[0m             \u001b[1;32mfor\u001b[0m \u001b[0mm\u001b[0m \u001b[1;32min\u001b[0m \u001b[0mitem\u001b[0m\u001b[1;33m[\u001b[0m\u001b[1;34m\"weeks\"\u001b[0m\u001b[1;33m]\u001b[0m\u001b[1;33m:\u001b[0m\u001b[1;33m\u001b[0m\u001b[0m\n",
      "\u001b[1;31mTypeError\u001b[0m: string indices must be integers"
     ]
    }
   ],
   "source": [
    "def statics(USER):\n",
    "    import requests\n",
    "    import json\n",
    "    # GET /repos/:owner/:repo/stats/contributors\n",
    "    url = 'https://api.github.com/repos/%s/Py103/stats/contributors' % (USER)\n",
    "    s = requests.session()\n",
    "    print(s)\n",
    "    s.auth = (USERNAME,PASSWORD)\n",
    "    r = s.get(url)\n",
    "    result = json.loads(r.text)\n",
    "    # print(result)\n",
    "    addition = deletion = commits = 0\n",
    "    for item in result:\n",
    "    #     print(item['weeks'])\n",
    "        if item['author']['login']== USER:\n",
    "            print(item['author']['login'],item[\"weeks\"])\n",
    "            for m in item[\"weeks\"]:\n",
    "                addition += m['a']\n",
    "                deletion += m['d']\n",
    "                commits += m['c']\n",
    "        else:\n",
    "            pass\n",
    "    #     print(item['weeks'][0])\n",
    "    #     for data in item:\n",
    "    #         print(data)\n",
    "    #         add += int(data['a'])\n",
    "    print(addition,deletion,commits)\n",
    "USERNAME='leiyunhe'\n",
    "PASSWORD='he18801730209'\n",
    "USER = 'alexhooo'\n",
    "# USER = 'leiyunhe'\n",
    "x = statics(USER)\n",
    "if x:\n",
    "    print(\"succeed\")\n",
    "else:\n",
    "    pass"
   ]
  },
  {
   "cell_type": "code",
   "execution_count": null,
   "metadata": {
    "collapsed": true,
    "deletable": true,
    "editable": true
   },
   "outputs": [],
   "source": []
  }
 ],
 "metadata": {
  "kernelspec": {
   "display_name": "Python 3",
   "language": "python",
   "name": "python3"
  },
  "language_info": {
   "codemirror_mode": {
    "name": "ipython",
    "version": 3
   },
   "file_extension": ".py",
   "mimetype": "text/x-python",
   "name": "python",
   "nbconvert_exporter": "python",
   "pygments_lexer": "ipython3",
   "version": "3.6.0"
  }
 },
 "nbformat": 4,
 "nbformat_minor": 2
}
