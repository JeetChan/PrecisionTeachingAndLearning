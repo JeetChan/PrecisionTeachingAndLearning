{
 "cells": [
  {
   "cell_type": "code",
   "execution_count": 13,
   "metadata": {
    "collapsed": false,
    "deletable": true,
    "editable": true
   },
   "outputs": [
    {
     "name": "stdout",
     "output_type": "stream",
     "text": [
      "{'url': 'https://api.github.com/repos/AIMinder/Py103/issues/286', 'repository_url': 'https://api.github.com/repos/AIMinder/Py103', 'labels_url': 'https://api.github.com/repos/AIMinder/Py103/issues/286/labels{/name}', 'comments_url': 'https://api.github.com/repos/AIMinder/Py103/issues/286/comments', 'events_url': 'https://api.github.com/repos/AIMinder/Py103/issues/286/events', 'html_url': 'https://github.com/AIMinder/Py103/issues/286', 'id': 213760418, 'number': 286, 'title': '结业路演即将开始，来分享你的经验，或聊聊你的困扰吧！', 'user': {'login': 'iamzhuoxuan', 'id': 24438878, 'avatar_url': 'https://avatars2.githubusercontent.com/u/24438878?v=3', 'gravatar_id': '', 'url': 'https://api.github.com/users/iamzhuoxuan', 'html_url': 'https://github.com/iamzhuoxuan', 'followers_url': 'https://api.github.com/users/iamzhuoxuan/followers', 'following_url': 'https://api.github.com/users/iamzhuoxuan/following{/other_user}', 'gists_url': 'https://api.github.com/users/iamzhuoxuan/gists{/gist_id}', 'starred_url': 'https://api.github.com/users/iamzhuoxuan/starred{/owner}{/repo}', 'subscriptions_url': 'https://api.github.com/users/iamzhuoxuan/subscriptions', 'organizations_url': 'https://api.github.com/users/iamzhuoxuan/orgs', 'repos_url': 'https://api.github.com/users/iamzhuoxuan/repos', 'events_url': 'https://api.github.com/users/iamzhuoxuan/events{/privacy}', 'received_events_url': 'https://api.github.com/users/iamzhuoxuan/received_events', 'type': 'User', 'site_admin': False}, 'labels': [], 'state': 'open', 'locked': False, 'assignee': None, 'assignees': [], 'milestone': None, 'comments': 0, 'created_at': '2017-03-13T13:04:32Z', 'updated_at': '2017-03-13T13:04:32Z', 'closed_at': None, 'body': '结业项目不仅需你开发一个可用产品，还需你精心准备结业路演，介绍、演示你的产品，回答教练与同学的提问。每个项目的路演+提问时间总计 20 分钟。\\r\\n\\r\\n针对结业路演，你需做好以下准备工作：\\r\\n\\r\\n* 确定项目展示的形式：结业路演可用资源如下，你可以选择自认为效果最好的方式哦\\r\\n\\t* 可选择在学员微信群，或开智学堂 App Py103 直播间路演\\r\\n\\t\\t* 微信群有哪些功能，你懂的，欢迎任意发挥~\\r\\n\\t\\t* Py103 直播间支持手机直播、PC 桌面内容直播\\r\\n\\t* 不管怎样，都请准备一个 3-5 分钟的视频，介绍你的项目哦，比如 [Py101 的小小书童项目](http://openmindclub.com/my/packs/e3ca1020-c78f-11e6-acaa-4b4af89f71e0/cards/c0461440-c817-11e6-a287-c1f0b56b023b )\\r\\n* 准备结业路演可能被问到的问题\\r\\n* 明确分工，安排相应成员完成以上任务\\r\\n\\r\\n准备**路演**过程中，你会遇到困扰，欢迎你在本 issue 下聊聊你的问题，教练与同学们 @AIMinder/py103stu 将与你一起探讨、解决。\\r\\n\\r\\n也欢迎各位教练与同学，持续在这里分享你准备路演过程中收获的好资料、好经验 ;-)\\r\\n\\r\\n### PS \\r\\n\\r\\n未添加教练的项目小组，请及时将教练添加到小组讨论 IM 群中，以便获得更多指点哦。相关安排参见： [快将你的教练加到结业项目 IM 群中！ · Issue #283](https://github.com/AIMinder/Py103/issues/283) '}\n"
     ]
    },
    {
     "data": {
      "text/plain": [
       "21"
      ]
     },
     "execution_count": 13,
     "metadata": {},
     "output_type": "execute_result"
    }
   ],
   "source": [
    "import json\n",
    "import requests\n",
    "\n",
    "USERNAME = 'leiyunhe'\n",
    "PASSWORD = 'Craney20150421'\n",
    "\n",
    "CREATOR = 'leiyunhe'\n",
    "TIME = '2017-01-01T00:00:00Z'\n",
    "\n",
    "REPO_OWNER = 'AIMinder'\n",
    "REPO_NAME = 'Py103'\n",
    "\n",
    "# 每个函数传递的payload不同，因此需要修改，重新写成几个不同的payload,存在字典中，以备调用。\n",
    "payload = {'since':TIME}\n",
    "def ask_question_issue():\n",
    "    url = 'https://api.github.com/repos/%s/%s/issues' % (REPO_OWNER, REPO_NAME)\n",
    "    s = requests.session()\n",
    "    s.auth = (USERNAME,PASSWORD)\n",
    "    r = s.get(url, params = payload)\n",
    "    result = json.loads(r.text)\n",
    "    #print(result)\n",
    "    print(result[0])\n",
    "    return len(result[0])\n",
    "#     print(len(result[0]))\n",
    "#     ls = []\n",
    "#     for i in range(len(result)):\n",
    "#         issue_url = result[i][\"url\"]\n",
    "#         issue_number = result[i][\"number\"]\n",
    "#         ls[i] = (issue_url,issue_number)\n",
    "#     return ls\n",
    "ask_question_issue()"
   ]
  },
  {
   "cell_type": "code",
   "execution_count": 3,
   "metadata": {
    "collapsed": false,
    "deletable": true,
    "editable": true
   },
   "outputs": [
    {
     "name": "stdout",
     "output_type": "stream",
     "text": [
      "[{'url': 'https://api.github.com/repos/AIMinder/Py103/issues/comments/271271096', 'html_url': 'https://github.com/AIMinder/Py103/issues/138#issuecomment-271271096', 'issue_url': 'https://api.github.com/repos/AIMinder/Py103/issues/138', 'id': 271271096, 'user': {'login': 'shippomiru', 'id': 24562448, 'avatar_url': 'https://avatars1.githubusercontent.com/u/24562448?v=3', 'gravatar_id': '', 'url': 'https://api.github.com/users/shippomiru', 'html_url': 'https://github.com/shippomiru', 'followers_url': 'https://api.github.com/users/shippomiru/followers', 'following_url': 'https://api.github.com/users/shippomiru/following{/other_user}', 'gists_url': 'https://api.github.com/users/shippomiru/gists{/gist_id}', 'starred_url': 'https://api.github.com/users/shippomiru/starred{/owner}{/repo}', 'subscriptions_url': 'https://api.github.com/users/shippomiru/subscriptions', 'organizations_url': 'https://api.github.com/users/shippomiru/orgs', 'repos_url': 'https://api.github.com/users/shippomiru/repos', 'events_url': 'https://api.github.com/users/shippomiru/events{/privacy}', 'received_events_url': 'https://api.github.com/users/shippomiru/received_events', 'type': 'User', 'site_admin': False}, 'created_at': '2017-01-09T12:17:57Z', 'updated_at': '2017-01-15T01:32:57Z', 'body': '@AIMinder/Py103Stu  shippo完成 ch1 任务啦\\r\\n\\r\\n- [任务成果](https://github.com/shippomiru/Py103/tree/master/Chap1/project)\\r\\n<img width=\"333\" alt=\"preview\" src=\"https://cloud.githubusercontent.com/assets/24562448/21767240/d40391d4-d6ad-11e6-908e-3f8b83792a3a.png\">\\r\\n\\r\\n- [个人教程](https://github.com/shippomiru/Py103/tree/master/Chap1/note)\\r\\n\\r\\n#### 任务步骤拆解\\r\\n- [x] 阅读卡片链接，了解相关知识点\\r\\n- [x] 获取文件：git fetch？pull？\\r\\n- [x] 读取文件：file.readline()\\r\\n- [x] 改写数据：for、dict（怎么改写成字典？）（判断key在dict中的方法？）\\r\\n- [x] 和用户交互（如何不断提问？）（如何终止循环？）\\r\\n- [x] 历史查询数据（字典有记录吗？或者直接记录用户输入值？）\\r\\n- [x] 转换成中文：unicode、UTF-8\\r\\n\\r\\n#### 跟进\\r\\n1.13\\r\\n- 增加#coding:utf-8\\r\\n- 从yanzhiw的代码里学会用while True开启无限循环\\r\\n- 加上file.close()\\r\\n- 更新笔记\\r\\n\\r\\n1.14 \\r\\n本来想赶在答疑之前提问来着，因为git pull/fetch/merge等远程命令一直没弄明白\\r\\n结果一边描述问题一边自行就把它给**解决了**!\\r\\n印证了大妈的教诲：\\r\\n> 提问实际上是逼着你把自己的问题结构化描述一遍。\\r\\n> 当你获得了一个正确的问题的时候，解决方案也就呼之欲出了。  \\r\\n\\r\\ngit 远程操作不明白的小伙伴可以参考以下两篇文章，讲解很清楚：\\r\\n- [Fetching a Remote | GitHub Help Center](https://help.github.com/articles/fetching-a-remote/)\\r\\n- [Git远程操作详解 | 阮一峰](http://www.ruanyifeng.com/blog/2014/06/git_remote.html)\\r\\n  \\r\\n如果在合并过程中出现冲突，可以参考这篇：\\r\\n- [解决冲突 | 廖雪峰](http://www.liaoxuefeng.com/wiki/0013739516305929606dd18361248578c67b8067c8c017b000/001375840202368c74be33fbd884e71b570f2cc3c0d1dcf000)\\r\\n  \\r\\n附上我的折腾过程！\\r\\n- [How to Use Git Pull](https://github.com/shippomiru/Py103/blob/master/Chap1/note/04-git-pull.md)'}, {'url': 'https://api.github.com/repos/AIMinder/Py103/issues/comments/271277754', 'html_url': 'https://github.com/AIMinder/Py103/issues/138#issuecomment-271277754', 'issue_url': 'https://api.github.com/repos/AIMinder/Py103/issues/138', 'id': 271277754, 'user': {'login': 'yanzhiw', 'id': 20264060, 'avatar_url': 'https://avatars0.githubusercontent.com/u/20264060?v=3', 'gravatar_id': '', 'url': 'https://api.github.com/users/yanzhiw', 'html_url': 'https://github.com/yanzhiw', 'followers_url': 'https://api.github.com/users/yanzhiw/followers', 'following_url': 'https://api.github.com/users/yanzhiw/following{/other_user}', 'gists_url': 'https://api.github.com/users/yanzhiw/gists{/gist_id}', 'starred_url': 'https://api.github.com/users/yanzhiw/starred{/owner}{/repo}', 'subscriptions_url': 'https://api.github.com/users/yanzhiw/subscriptions', 'organizations_url': 'https://api.github.com/users/yanzhiw/orgs', 'repos_url': 'https://api.github.com/users/yanzhiw/repos', 'events_url': 'https://api.github.com/users/yanzhiw/events{/privacy}', 'received_events_url': 'https://api.github.com/users/yanzhiw/received_events', 'type': 'User', 'site_admin': False}, 'created_at': '2017-01-09T12:55:26Z', 'updated_at': '2017-01-10T01:01:53Z', 'body': '@AIMinder/py103stu yanzhiw（刘和宇）完成 ch1 任务啦！\\r\\n - 任务成果\\r\\n[yanzhiw 的作业](https://github.com/yanzhiw/Py103/tree/master/Chap1/project)\\r\\n\\r\\n - 截图：\\r\\n![作业](http://ojf2yfe6b.bkt.clouddn.com/001.png)\\r\\n\\r\\n- 程序使用说明文档\\r\\n\\r\\n[文档](https://github.com/yanzhiw/Py103/blob/master/Chap1/project/README.md))\\r\\n\\r\\n- 个人教程地址\\r\\n\\r\\n[yanzhiw 的笔记](https://github.com/yanzhiw/Py103/tree/master/Chap1/note)\\r\\n\\r\\n[gitbook教程搞定](https://www.gitbook.com/book/yanzhiw/teach-myself-python-by-liu)-20170110\\r\\n感谢@ishanshan 的鼓励~~小伙伴们可以去我的gitbook留（tu）言（cao）了。\\r\\n\\r\\n- 感想\\r\\n\\r\\n至此，花了大约10小时（包括看正则表达式的时间），我完成了这个任务。 以下是我的一些体会： \\r\\n\\r\\n\\r\\n**分解问题，寻求MVP** \\r\\n\\r\\n我把任务拿到手后，先把任务分解了。同时通过卡片，大概知道了这个任务的要点在哪里，比如，解码；比如，对dict特性的掌握。这样，我在分解任务的时候，就可以给出相应的时间的进度，并且在有突发事件的时候，可以调整任务序列，保证完成一个MVP。\\r\\n\\r\\n**问一个好问题** \\r\\n\\r\\n把问题最小化也是一个好的方法。比如在has_key那个问题上，其实我是问了一个坏问题。我如果问的是python3中如何判断某个键在字典中存在？，相信不会走弯路。 当然，这和我信奉“我遇到的问题别人肯定也遇到过”有关。因为我信奉这个原则，所以遇到事情更多是去看别人怎么做的。\\r\\n\\r\\n**print是个好东东** \\r\\n\\r\\n说了那么多道的东东，再来说一下术方面的经验吧！如果某个变量出错，不妨在每一行加入print(变量)，再自己用脑子或者纸笔跑一遍，这样大部分时候就知道哪里出问题了。\\r\\n\\r\\n至于更多的坑和我的一些思考，都写在了note文件里啦！感觉自己要虚脱了，不过好爽。\\r\\n'}, {'url': 'https://api.github.com/repos/AIMinder/Py103/issues/comments/271278368', 'html_url': 'https://github.com/AIMinder/Py103/issues/138#issuecomment-271278368', 'issue_url': 'https://api.github.com/repos/AIMinder/Py103/issues/138', 'id': 271278368, 'user': {'login': 'Davidfupenghao', 'id': 22276636, 'avatar_url': 'https://avatars2.githubusercontent.com/u/22276636?v=3', 'gravatar_id': '', 'url': 'https://api.github.com/users/Davidfupenghao', 'html_url': 'https://github.com/Davidfupenghao', 'followers_url': 'https://api.github.com/users/Davidfupenghao/followers', 'following_url': 'https://api.github.com/users/Davidfupenghao/following{/other_user}', 'gists_url': 'https://api.github.com/users/Davidfupenghao/gists{/gist_id}', 'starred_url': 'https://api.github.com/users/Davidfupenghao/starred{/owner}{/repo}', 'subscriptions_url': 'https://api.github.com/users/Davidfupenghao/subscriptions', 'organizations_url': 'https://api.github.com/users/Davidfupenghao/orgs', 'repos_url': 'https://api.github.com/users/Davidfupenghao/repos', 'events_url': 'https://api.github.com/users/Davidfupenghao/events{/privacy}', 'received_events_url': 'https://api.github.com/users/Davidfupenghao/received_events', 'type': 'User', 'site_admin': False}, 'created_at': '2017-01-09T12:58:47Z', 'updated_at': '2017-01-11T13:23:09Z', 'body': '@AIMinder/py103stu   David Fu完成 ch1 任务啦\\r\\n\\r\\n- 任务成果地址：https://github.com/Davidfupenghao/Py103/tree/master/Chap1/project\\r\\n- 任务成果截图：\\r\\n![image](https://cloud.githubusercontent.com/assets/22276636/21850092/edd138d6-d843-11e6-8f0b-f0ff58b39b50.png)\\r\\n\\r\\n- 程序使用说明地址： https://github.com/Davidfupenghao/Py103/blob/master/Chap1/project/README.md\\r\\n- 个人教程地址： https://davidfupenghao.gitbooks.io/py103/content/ch1.html\\r\\n- 感想： \\r\\n看了各位的代码，感觉自己还是有很多没考虑到的地方，所以更新了程序代码，把之前的一些问题进行了完善。\\r\\n这次的任务就有一些难点了，首先是获取天气文件，其次是逻辑方面，另外就是如何将程序更完善的运行。\\r\\n现在感觉到要完成一个程序需要考虑到很多的事情，永远不知道用户是谁，或者是什么。。。。。\\r\\n所以将每种可能的情况都尽量考虑到、兼容到，并尽量减少用户负担，我觉得才是一种正确的方式。'}, {'url': 'https://api.github.com/repos/AIMinder/Py103/issues/comments/271293390', 'html_url': 'https://github.com/AIMinder/Py103/issues/138#issuecomment-271293390', 'issue_url': 'https://api.github.com/repos/AIMinder/Py103/issues/138', 'id': 271293390, 'user': {'login': 'tcfh2016', 'id': 17757622, 'avatar_url': 'https://avatars1.githubusercontent.com/u/17757622?v=3', 'gravatar_id': '', 'url': 'https://api.github.com/users/tcfh2016', 'html_url': 'https://github.com/tcfh2016', 'followers_url': 'https://api.github.com/users/tcfh2016/followers', 'following_url': 'https://api.github.com/users/tcfh2016/following{/other_user}', 'gists_url': 'https://api.github.com/users/tcfh2016/gists{/gist_id}', 'starred_url': 'https://api.github.com/users/tcfh2016/starred{/owner}{/repo}', 'subscriptions_url': 'https://api.github.com/users/tcfh2016/subscriptions', 'organizations_url': 'https://api.github.com/users/tcfh2016/orgs', 'repos_url': 'https://api.github.com/users/tcfh2016/repos', 'events_url': 'https://api.github.com/users/tcfh2016/events{/privacy}', 'received_events_url': 'https://api.github.com/users/tcfh2016/received_events', 'type': 'User', 'site_admin': False}, 'created_at': '2017-01-09T14:11:21Z', 'updated_at': '2017-01-09T14:11:21Z', 'body': '年轻人们，你们不要这么用功好不？？搞定我现在睡觉都睡不好，总担心跟不上你们的节奏了。。。\\r\\n\\r\\n！！！'}, {'url': 'https://api.github.com/repos/AIMinder/Py103/issues/comments/271337983', 'html_url': 'https://github.com/AIMinder/Py103/issues/138#issuecomment-271337983', 'issue_url': 'https://api.github.com/repos/AIMinder/Py103/issues/138', 'id': 271337983, 'user': {'login': 'Leohb', 'id': 24680667, 'avatar_url': 'https://avatars2.githubusercontent.com/u/24680667?v=3', 'gravatar_id': '', 'url': 'https://api.github.com/users/Leohb', 'html_url': 'https://github.com/Leohb', 'followers_url': 'https://api.github.com/users/Leohb/followers', 'following_url': 'https://api.github.com/users/Leohb/following{/other_user}', 'gists_url': 'https://api.github.com/users/Leohb/gists{/gist_id}', 'starred_url': 'https://api.github.com/users/Leohb/starred{/owner}{/repo}', 'subscriptions_url': 'https://api.github.com/users/Leohb/subscriptions', 'organizations_url': 'https://api.github.com/users/Leohb/orgs', 'repos_url': 'https://api.github.com/users/Leohb/repos', 'events_url': 'https://api.github.com/users/Leohb/events{/privacy}', 'received_events_url': 'https://api.github.com/users/Leohb/received_events', 'type': 'User', 'site_admin': False}, 'created_at': '2017-01-09T16:50:11Z', 'updated_at': '2017-01-16T15:17:33Z', 'body': '@AIMinder/py103stu Leohb 完成Ch1任务啦啦啦\\r\\n- [代码献上](https://github.com/Leohb/Py103/tree/master/Chap1/project)\\r\\n- [笔记](https://github.com/Leohb/Py103/blob/master/Chap1/note/README.md)\\r\\n先凑合看吧，刚搭完hexo+github.io的博客，还在折腾主题中。。。慢慢将笔记往里挪。\\r\\n- [Blog框架](https://leohb.github.io/)\\r\\n或者可以去gitbook ->>> [Leo的gitbook](https://www.gitbook.com/book/leohb/notebook/details)\\r\\n- 有个问题，笔记里2.2 与2.3 我先自己找找资料，若是解决不了再去发issue~\\r\\n- 有小伙伴看到了 知道的也可以直接告诉我呀\\r\\n- 效果图 ->>>>\\r\\n![image](https://cloud.githubusercontent.com/assets/24680667/21775977/472a1df2-d6d3-11e6-9727-e1c69772e416.png)\\r\\n现在更新到 **V2.0** 啦，欢迎大家来踩坑呀！\\r\\n\\r\\n---\\r\\n\\r\\n`faketooth`: 我来催个债: 个人笔记的2.2/2.3章节提到的疑问，尚未发出issue，也没有提供结论'}, {'url': 'https://api.github.com/repos/AIMinder/Py103/issues/comments/271479902', 'html_url': 'https://github.com/AIMinder/Py103/issues/138#issuecomment-271479902', 'issue_url': 'https://api.github.com/repos/AIMinder/Py103/issues/138', 'id': 271479902, 'user': {'login': 'Yifan127', 'id': 16537324, 'avatar_url': 'https://avatars1.githubusercontent.com/u/16537324?v=3', 'gravatar_id': '', 'url': 'https://api.github.com/users/Yifan127', 'html_url': 'https://github.com/Yifan127', 'followers_url': 'https://api.github.com/users/Yifan127/followers', 'following_url': 'https://api.github.com/users/Yifan127/following{/other_user}', 'gists_url': 'https://api.github.com/users/Yifan127/gists{/gist_id}', 'starred_url': 'https://api.github.com/users/Yifan127/starred{/owner}{/repo}', 'subscriptions_url': 'https://api.github.com/users/Yifan127/subscriptions', 'organizations_url': 'https://api.github.com/users/Yifan127/orgs', 'repos_url': 'https://api.github.com/users/Yifan127/repos', 'events_url': 'https://api.github.com/users/Yifan127/events{/privacy}', 'received_events_url': 'https://api.github.com/users/Yifan127/received_events', 'type': 'User', 'site_admin': False}, 'created_at': '2017-01-10T03:53:13Z', 'updated_at': '2017-01-10T22:58:36Z', 'body': '@AIMinder/Py103Stu  [Yifan]完成 ch1 任务啦\\r\\n\\r\\n- 任务成果地址：[weather_report](https://github.com/Yifan127/Py103/blob/master/Chap1/project/weather_report.py)\\r\\n- 任务成果截图：\\r\\n![image](https://cloud.githubusercontent.com/assets/16537324/21828422/400b1ef4-d7f5-11e6-81bf-bac688299197.png)\\r\\n- 个人教程地址： [Gitbook ch1 practice](https://yifan127.gitbooks.io/python-learning-notes/content/ch1-project-practice.html)\\r\\n- 感想： \\r\\n\\r\\n1. 首先感谢开智君为第二个任务提供了诸多线索，本来看到任务时有点一头雾水，但是看了几张卡片，发现好多提示，比如：\\r\\n* 先要读取文件\\r\\n* 再存入dict\\r\\n* 接下来会掉进中文字符处理的坑\\r\\n* 写help让程序user friendly\\r\\n* 怎样让程序优雅的退出...\\r\\n所以，不知道如果没有提示，我是不是能顺利完成任务。\\r\\n2. 花了1.5个半天写任务，1.5个半天写个人教程，发现写任务最花时间解决和考虑的问题是：\\r\\n2.1 怎样读取和显示中文，看了很多文章，最棒的是这篇[字符编码和解码的前世今生](http://ajucs.com/2015/11/10/Python-character-encoding-explained.html)，看完豁然开朗\\r\\n2.2 程序的设计\\r\\n* 怎样划分function才算合理\\r\\n* 先写主程序，再实现各个function\\r\\n* 先写function，再写主程序\\r\\n* 混合写\\r\\n\\r\\n这个任务里我发现我是混合写：\\r\\n* 先完成了1个function，实现读取文件再把数据存入dictionary\\r\\n* 再完成第2个function，实现输入城市，输出天气，并存入历史记录\\r\\n* 写主程序，调用上面2个function\\r\\n* 完成第三个function，打印历史记录并退出\\r\\n* 完成第四个function，help\\r\\n* 再完善主程序，增加调用上面2个新增的function\\r\\n\\r\\n3. 写不下去就不写，去休息！\\r\\n在我卡住时，发现越想越短路。反而是散个步，吃个饭，喝个茶，睡个觉回来后，更有效率，就好像塞在脑袋里的一团麻被清空了，换了思路找到出口。\\r\\n4. 把作业分解成小任务，再把小任务分解成小练习，可以收获更多。\\r\\n比如：\\r\\n作业：查看天气\\r\\n小任务：读取文件\\r\\n小练习：用不同方法读取文件，比较read(), readline(), readlines()的区别。\\r\\n5. 更详细记录解题过程，这条是ch0任务时，教练给我的建议。\\r\\n5.1 这条建议非常好，开始嫌麻烦，不想记录太多，但是发现有些不记下来还真忘了。**所以，很多你以为自己会的，是当时的自己会的，不代表以后的自己也是会的**，开智的口号是：教6个月前的自己学python，那我再加一句，教6个月以后的自己学python。（哈哈：）好像我很健忘）\\r\\n5.2 我完成任务时属于单线程思维，不想在coding和写教程之间来回切换，所以我是选择先coding，再写教程。这样的好处就是在写教程的时候，可以整体的看一遍自己遇到的问题，系统的重新理顺。\\r\\n5.3 为了完成任务，通常以解决问题为目的而跳过一些信息。所以，在coding完成后，利用写教学笔记的时间，阅读并练习这些扩展信息，会有很多收获。\\r\\n6. 写教学笔记是review code的好机会，发现几处可以改进的地方，使code更优雅，更简洁，更高效。并且可以给code加上注释，让自己和他人更易读。\\r\\n\\r\\n'}, {'url': 'https://api.github.com/repos/AIMinder/Py103/issues/comments/271502173', 'html_url': 'https://github.com/AIMinder/Py103/issues/138#issuecomment-271502173', 'issue_url': 'https://api.github.com/repos/AIMinder/Py103/issues/138', 'id': 271502173, 'user': {'login': 'leiyunhe', 'id': 22088422, 'avatar_url': 'https://avatars0.githubusercontent.com/u/22088422?v=3', 'gravatar_id': '', 'url': 'https://api.github.com/users/leiyunhe', 'html_url': 'https://github.com/leiyunhe', 'followers_url': 'https://api.github.com/users/leiyunhe/followers', 'following_url': 'https://api.github.com/users/leiyunhe/following{/other_user}', 'gists_url': 'https://api.github.com/users/leiyunhe/gists{/gist_id}', 'starred_url': 'https://api.github.com/users/leiyunhe/starred{/owner}{/repo}', 'subscriptions_url': 'https://api.github.com/users/leiyunhe/subscriptions', 'organizations_url': 'https://api.github.com/users/leiyunhe/orgs', 'repos_url': 'https://api.github.com/users/leiyunhe/repos', 'events_url': 'https://api.github.com/users/leiyunhe/events{/privacy}', 'received_events_url': 'https://api.github.com/users/leiyunhe/received_events', 'type': 'User', 'site_admin': False}, 'created_at': '2017-01-10T07:07:00Z', 'updated_at': '2017-01-12T00:50:51Z', 'body': '@AIMinder/Py103Stu  雷云鹤完成 ch1 任务啦\\r\\n\\r\\n- 任务成果地址：https://github.com/leiyunhe/Py103/blob/master/Chap1/project/1w-query.py\\t\\r\\n- 任务成果截图：\\r\\n![](https://github.com/leiyunhe/Py103/blob/master/Chap1/note/pic/test%20screenshot.png?raw=true)\\r\\n- 程序使用说明地址：\\r\\nhttps://github.com/leiyunhe/Py103/blob/master/Chap1/project/README.md\\r\\n- 个人教程地址： \\r\\n https://leiyunhe.gitbooks.io/learnpythonnotes/content/\\r\\n\\r\\n- 感想： \\r\\n\\r\\n    + 认识到看官方文档的重要性。官方文档一定要反复看，看不懂也要看，看着看着就看懂了。\\r\\n    + 看小伙伴们的作业，能够对自己有启发，从而为今后的学习和改进提供新的思路和优化的方向。\\r\\n    + 遇到问题，写issue求助的过程，是最自己梳理问题非常有益，这个过程需要付出很多时间，但收获也非常大。\\r\\n    + 不能逃避任何问题，遇到技术难点，一点要想办法解决掉，否则还会成为前进路上的拦路虎。\\r\\n    + 课程提供的所有资料都要至少刷一遍，否则（像我一样的小白）根本不知道都有些什么基本概念、函数和功能，对于解决问题就会没有概念。当刷过课程提供的学习资料后，作业中的很多问题就能更容易找到思路。\\r\\n    + 反复折腾了三天后，终于把gitbook的问题解决掉了，虽然最终发现自己犯了很多低级错误，但在解决问题的过程中收获非常大。默默回去，继续学习课程参考资料，锻炼编程思维，养成正确的姿势。'}, {'url': 'https://api.github.com/repos/AIMinder/Py103/issues/comments/271510236', 'html_url': 'https://github.com/AIMinder/Py103/issues/138#issuecomment-271510236', 'issue_url': 'https://api.github.com/repos/AIMinder/Py103/issues/138', 'id': 271510236, 'user': {'login': 'HerbertAChen', 'id': 23018128, 'avatar_url': 'https://avatars1.githubusercontent.com/u/23018128?v=3', 'gravatar_id': '', 'url': 'https://api.github.com/users/HerbertAChen', 'html_url': 'https://github.com/HerbertAChen', 'followers_url': 'https://api.github.com/users/HerbertAChen/followers', 'following_url': 'https://api.github.com/users/HerbertAChen/following{/other_user}', 'gists_url': 'https://api.github.com/users/HerbertAChen/gists{/gist_id}', 'starred_url': 'https://api.github.com/users/HerbertAChen/starred{/owner}{/repo}', 'subscriptions_url': 'https://api.github.com/users/HerbertAChen/subscriptions', 'organizations_url': 'https://api.github.com/users/HerbertAChen/orgs', 'repos_url': 'https://api.github.com/users/HerbertAChen/repos', 'events_url': 'https://api.github.com/users/HerbertAChen/events{/privacy}', 'received_events_url': 'https://api.github.com/users/HerbertAChen/received_events', 'type': 'User', 'site_admin': False}, 'created_at': '2017-01-10T08:02:08Z', 'updated_at': '2017-01-10T08:02:08Z', 'body': '厉害！'}, {'url': 'https://api.github.com/repos/AIMinder/Py103/issues/comments/271627629', 'html_url': 'https://github.com/AIMinder/Py103/issues/138#issuecomment-271627629', 'issue_url': 'https://api.github.com/repos/AIMinder/Py103/issues/138', 'id': 271627629, 'user': {'login': 'betterMax', 'id': 23434996, 'avatar_url': 'https://avatars3.githubusercontent.com/u/23434996?v=3', 'gravatar_id': '', 'url': 'https://api.github.com/users/betterMax', 'html_url': 'https://github.com/betterMax', 'followers_url': 'https://api.github.com/users/betterMax/followers', 'following_url': 'https://api.github.com/users/betterMax/following{/other_user}', 'gists_url': 'https://api.github.com/users/betterMax/gists{/gist_id}', 'starred_url': 'https://api.github.com/users/betterMax/starred{/owner}{/repo}', 'subscriptions_url': 'https://api.github.com/users/betterMax/subscriptions', 'organizations_url': 'https://api.github.com/users/betterMax/orgs', 'repos_url': 'https://api.github.com/users/betterMax/repos', 'events_url': 'https://api.github.com/users/betterMax/events{/privacy}', 'received_events_url': 'https://api.github.com/users/betterMax/received_events', 'type': 'User', 'site_admin': False}, 'created_at': '2017-01-10T16:43:06Z', 'updated_at': '2017-01-15T15:37:45Z', 'body': '@AIMinder/Py103Stu  betterMax完成 ch1 任务啦\\r\\n\\r\\n- 任务成果地址：https://github.com/betterMax/Py103/blob/master/Chap1/project/weather_v4_history.py\\r\\n- 任务成果截图：![result](https://cl.ly/1x393Q381T3G/Result_1.jpg)\\r\\n- 程序使用说明地址： https://github.com/betterMax/Py103/blob/master/Chap1/project/README.md\\r\\n- 个人教程地址： https://github.com/betterMax/Py103/blob/master/Chap1/note/README.md\\r\\n- 感想： \\r\\n1. 周三凌晨完成的作业，但是到今天周日才补齐了笔记，中间整整四天都没有坚持最初的学习节奏：每天至少码1个小时。学习节奏很重要，尽可能一天都不要断，要加强if...then...的练习。\\r\\n2. 中间几天沉迷于开智平台和阳老blog当中各种新奇的知识，只是单纯的阅读却没有最小行动的产生，也忘记了输出才是最大的输入，这个习惯也要改。看完之后一定要产生卡片，多少不论。\\r\\n3. 对python基本的代码熟悉很重要，下周要昨晚LPTHW剩下的题目，并且看完chap1当中所有优秀作业和chap0中优秀学员的chap1的作业，看看自己的代码是否有升级的可能，了解其他编码的方式，并记录下来。'}, {'url': 'https://api.github.com/repos/AIMinder/Py103/issues/comments/271645623', 'html_url': 'https://github.com/AIMinder/Py103/issues/138#issuecomment-271645623', 'issue_url': 'https://api.github.com/repos/AIMinder/Py103/issues/138', 'id': 271645623, 'user': {'login': 'goldandelion', 'id': 24683622, 'avatar_url': 'https://avatars3.githubusercontent.com/u/24683622?v=3', 'gravatar_id': '', 'url': 'https://api.github.com/users/goldandelion', 'html_url': 'https://github.com/goldandelion', 'followers_url': 'https://api.github.com/users/goldandelion/followers', 'following_url': 'https://api.github.com/users/goldandelion/following{/other_user}', 'gists_url': 'https://api.github.com/users/goldandelion/gists{/gist_id}', 'starred_url': 'https://api.github.com/users/goldandelion/starred{/owner}{/repo}', 'subscriptions_url': 'https://api.github.com/users/goldandelion/subscriptions', 'organizations_url': 'https://api.github.com/users/goldandelion/orgs', 'repos_url': 'https://api.github.com/users/goldandelion/repos', 'events_url': 'https://api.github.com/users/goldandelion/events{/privacy}', 'received_events_url': 'https://api.github.com/users/goldandelion/received_events', 'type': 'User', 'site_admin': False}, 'created_at': '2017-01-10T17:47:21Z', 'updated_at': '2017-01-10T17:55:01Z', 'body': '初稿：https://github.com/goldandelion/Py103/blob/master/Chap1/project/weather.py\\r\\n教程：暂缺\\r\\n终于没bug了，请允许我撞墙十分钟，满血了再回来继续~\\r\\n<img width=\"1280\" alt=\"2017-01-11 1 53 20\" src=\"https://cloud.githubusercontent.com/assets/24683622/21817899/c5acb8b0-d7a0-11e6-93e4-265b307c18e2.png\">\\r\\n\\r\\n\\r\\n'}, {'url': 'https://api.github.com/repos/AIMinder/Py103/issues/comments/271743228', 'html_url': 'https://github.com/AIMinder/Py103/issues/138#issuecomment-271743228', 'issue_url': 'https://api.github.com/repos/AIMinder/Py103/issues/138', 'id': 271743228, 'user': {'login': 'NBR-hugh', 'id': 22027884, 'avatar_url': 'https://avatars0.githubusercontent.com/u/22027884?v=3', 'gravatar_id': '', 'url': 'https://api.github.com/users/NBR-hugh', 'html_url': 'https://github.com/NBR-hugh', 'followers_url': 'https://api.github.com/users/NBR-hugh/followers', 'following_url': 'https://api.github.com/users/NBR-hugh/following{/other_user}', 'gists_url': 'https://api.github.com/users/NBR-hugh/gists{/gist_id}', 'starred_url': 'https://api.github.com/users/NBR-hugh/starred{/owner}{/repo}', 'subscriptions_url': 'https://api.github.com/users/NBR-hugh/subscriptions', 'organizations_url': 'https://api.github.com/users/NBR-hugh/orgs', 'repos_url': 'https://api.github.com/users/NBR-hugh/repos', 'events_url': 'https://api.github.com/users/NBR-hugh/events{/privacy}', 'received_events_url': 'https://api.github.com/users/NBR-hugh/received_events', 'type': 'User', 'site_admin': False}, 'created_at': '2017-01-11T00:38:27Z', 'updated_at': '2017-01-11T00:38:27Z', 'body': '长三角地区的同学进度都好快啊！\\r\\n'}, {'url': 'https://api.github.com/repos/AIMinder/Py103/issues/comments/271776023', 'html_url': 'https://github.com/AIMinder/Py103/issues/138#issuecomment-271776023', 'issue_url': 'https://api.github.com/repos/AIMinder/Py103/issues/138', 'id': 271776023, 'user': {'login': 'chuanwj', 'id': 9463341, 'avatar_url': 'https://avatars1.githubusercontent.com/u/9463341?v=3', 'gravatar_id': '', 'url': 'https://api.github.com/users/chuanwj', 'html_url': 'https://github.com/chuanwj', 'followers_url': 'https://api.github.com/users/chuanwj/followers', 'following_url': 'https://api.github.com/users/chuanwj/following{/other_user}', 'gists_url': 'https://api.github.com/users/chuanwj/gists{/gist_id}', 'starred_url': 'https://api.github.com/users/chuanwj/starred{/owner}{/repo}', 'subscriptions_url': 'https://api.github.com/users/chuanwj/subscriptions', 'organizations_url': 'https://api.github.com/users/chuanwj/orgs', 'repos_url': 'https://api.github.com/users/chuanwj/repos', 'events_url': 'https://api.github.com/users/chuanwj/events{/privacy}', 'received_events_url': 'https://api.github.com/users/chuanwj/received_events', 'type': 'User', 'site_admin': False}, 'created_at': '2017-01-11T04:37:36Z', 'updated_at': '2017-01-11T04:37:36Z', 'body': '@AIMinder/py103stu   **Corey 完成 ch1 任务啦**\\r\\n\\r\\n* [仓库地址](https://github.com/chuanwj/Py103/tree/master/Chap1/project)\\r\\n* [在Python2.7中使用中文](https://github.com/chuanwj/Py103/blob/master/chap1-use-chinese-in-pythonmd.md)\\r\\n\\r\\n* 感想：\\r\\n       中文显示碰到了很多问题，先在Pyscripter中尝试总是不成功，然后转用PyCharm，轻松搞定。但是在CMD中运行又不行，原来j是PyCharm与CMD对待中文输入的编码方式不同，碰到的小问题都整理到笔记了\\r\\n:crayon: \\r\\n\\r\\n* 实现效果：\\r\\n![image](https://cloud.githubusercontent.com/assets/9463341/21740975/8b8d5700-d504-11e6-8de8-694e1afa74ca.png)\\r\\n\\r\\n'}, {'url': 'https://api.github.com/repos/AIMinder/Py103/issues/comments/271884441', 'html_url': 'https://github.com/AIMinder/Py103/issues/138#issuecomment-271884441', 'issue_url': 'https://api.github.com/repos/AIMinder/Py103/issues/138', 'id': 271884441, 'user': {'login': 'draachen', 'id': 22258122, 'avatar_url': 'https://avatars1.githubusercontent.com/u/22258122?v=3', 'gravatar_id': '', 'url': 'https://api.github.com/users/draachen', 'html_url': 'https://github.com/draachen', 'followers_url': 'https://api.github.com/users/draachen/followers', 'following_url': 'https://api.github.com/users/draachen/following{/other_user}', 'gists_url': 'https://api.github.com/users/draachen/gists{/gist_id}', 'starred_url': 'https://api.github.com/users/draachen/starred{/owner}{/repo}', 'subscriptions_url': 'https://api.github.com/users/draachen/subscriptions', 'organizations_url': 'https://api.github.com/users/draachen/orgs', 'repos_url': 'https://api.github.com/users/draachen/repos', 'events_url': 'https://api.github.com/users/draachen/events{/privacy}', 'received_events_url': 'https://api.github.com/users/draachen/received_events', 'type': 'User', 'site_admin': False}, 'created_at': '2017-01-11T14:37:57Z', 'updated_at': '2017-01-14T11:07:14Z', 'body': '@AIMinder/py103stu Ramsey 完成 ch1 任务啦\\r\\n\\r\\n- 任务成果地址：[weather_query.py](https://github.com/draachen/Py103/blob/master/Chap1/project/weather_query.py)\\r\\n- 任务成果截图：[Task_Image](https://github.com/draachen/Py103/blob/master/Chap1/project/Task_Image.PNG)\\r\\n- 个人教程地址：[Gitbook教程](https://draachen.gitbooks.io/ramsey-pythonista-road/content/)\\r\\n <br />\\r\\n任务过程：\\r\\n\\r\\n- 学习[Git远程操作](http://www.ruanyifeng.com/blog/2014/06/git_remote.html)将weather_info从远程抓取到本地。\\r\\n- 编程过程中，遇到的第一个问题就是，CLI界面无法正常显示中文，参考[文件读写](http://www.liaoxuefeng.com/wiki/0014316089557264a6b348958f449949df42a6d3a2e542c000/001431917715991ef1ebc19d15a4afdace1169a464eecc2000)章节后将问题解决；\\r\\n- 搭建程序过程中，先完成简单的help，quit小模块，然后翻之前的笔记，将字典，列表的知识回顾了一下，完成了version0.1版本的weather_query程序，实现了所要求的功能。\\r\\n<br />\\r\\n个人感想：\\r\\n\\r\\n写程序的时候，本打算先将廖雪峰Py3教程看一遍，但是其实完成此任务并不需要所有的知识点，所以还是选择硬着头皮往下写程序，结合自己的笔记及参考资料，然后用到了哪个知识点就去翻哪个知识点，这种“有需求才去学”的模式可能是更符合未来的学习模式吧。\\r\\n<br />\\r\\n--先把作业交了，再继续奋斗--'}, {'url': 'https://api.github.com/repos/AIMinder/Py103/issues/comments/272057665', 'html_url': 'https://github.com/AIMinder/Py103/issues/138#issuecomment-272057665', 'issue_url': 'https://api.github.com/repos/AIMinder/Py103/issues/138', 'id': 272057665, 'user': {'login': 'leiyunhe', 'id': 22088422, 'avatar_url': 'https://avatars0.githubusercontent.com/u/22088422?v=3', 'gravatar_id': '', 'url': 'https://api.github.com/users/leiyunhe', 'html_url': 'https://github.com/leiyunhe', 'followers_url': 'https://api.github.com/users/leiyunhe/followers', 'following_url': 'https://api.github.com/users/leiyunhe/following{/other_user}', 'gists_url': 'https://api.github.com/users/leiyunhe/gists{/gist_id}', 'starred_url': 'https://api.github.com/users/leiyunhe/starred{/owner}{/repo}', 'subscriptions_url': 'https://api.github.com/users/leiyunhe/subscriptions', 'organizations_url': 'https://api.github.com/users/leiyunhe/orgs', 'repos_url': 'https://api.github.com/users/leiyunhe/repos', 'events_url': 'https://api.github.com/users/leiyunhe/events{/privacy}', 'received_events_url': 'https://api.github.com/users/leiyunhe/received_events', 'type': 'User', 'site_admin': False}, 'created_at': '2017-01-12T02:21:26Z', 'updated_at': '2017-01-12T02:24:48Z', 'body': '@shippomiru @yanzhiw 我看文档说，打开文件后，应该在结束时关闭文件 f.close() ,或者直接用 with open(\"\\')  as f:，就避免了需要close的麻烦。'}, {'url': 'https://api.github.com/repos/AIMinder/Py103/issues/comments/272063688', 'html_url': 'https://github.com/AIMinder/Py103/issues/138#issuecomment-272063688', 'issue_url': 'https://api.github.com/repos/AIMinder/Py103/issues/138', 'id': 272063688, 'user': {'login': 'Yzlovekid', 'id': 18223956, 'avatar_url': 'https://avatars1.githubusercontent.com/u/18223956?v=3', 'gravatar_id': '', 'url': 'https://api.github.com/users/Yzlovekid', 'html_url': 'https://github.com/Yzlovekid', 'followers_url': 'https://api.github.com/users/Yzlovekid/followers', 'following_url': 'https://api.github.com/users/Yzlovekid/following{/other_user}', 'gists_url': 'https://api.github.com/users/Yzlovekid/gists{/gist_id}', 'starred_url': 'https://api.github.com/users/Yzlovekid/starred{/owner}{/repo}', 'subscriptions_url': 'https://api.github.com/users/Yzlovekid/subscriptions', 'organizations_url': 'https://api.github.com/users/Yzlovekid/orgs', 'repos_url': 'https://api.github.com/users/Yzlovekid/repos', 'events_url': 'https://api.github.com/users/Yzlovekid/events{/privacy}', 'received_events_url': 'https://api.github.com/users/Yzlovekid/received_events', 'type': 'User', 'site_admin': False}, 'created_at': '2017-01-12T03:05:25Z', 'updated_at': '2017-01-12T03:05:25Z', 'body': '@AIMinder/py103stu   yzlovekid完成 ch1 任务啦\\r\\n\\r\\n- [任务成果](https://github.com/Yzlovekid/Py103/blob/master/Chap1/project/demo_weather_v1.py)\\t\\r\\n- [任务成果截图](https://github.com/Yzlovekid/Py103/blob/master/Chap1/project/weather.png)\\r\\n- [程序使用说明](https://github.com/Yzlovekid/Py103/blob/master/Chap1/project/README.md)\\r\\n- [个人教程](https://github.com/Yzlovekid/Learn-Python_Note/blob/master/011117-学习日记.md)\\r\\n\\r\\n- 感想： \\r\\n这次作业主要完成了这么几个事儿：\\r\\n1）获得了用git把本地和远程仓库同步（pull and push）的技能；（35%的时间）\\r\\n2）获得了如何把克隆的仓库更新同步到本地的技能；（30%时间）\\r\\n3）熟悉了CLI的基本操作----这个可谓是比原来有了大大的进展，至少不再抵触（5%时间）\\r\\n4）完成了一个小小的程序（15%时间）\\r\\n5）网络搜索如何解决问题（15%时间）\\r\\n\\r\\n作业之前，可能看到要写的小程序还是有思路的，但如何把这些仓库进行同步和如何从网上得到一个文件，我是毫无概念，甚至在最初我连要如何向网络求助都不知道（不知道我要搜什么，连各种名字也是一脸蒙），最后是卡面背面的提示给了很多帮助。也是广搜了各种网络资料，以及借助别的小伙伴提的问题，知道了自己在干什么，以及可以怎么尝试实现（现在想 就是同步而已。。。。）\\r\\n\\r\\n作业里遇到了非常多问题，总结下来，都是typo，少了个s，没把地址输正确，但又因为不熟悉不了解，不能很快地找到关键问题，就折腾了很久。\\r\\n\\r\\n最终在程序上没有遇到太大的困难，即使出错了，本身给的提示就有很大的帮助。\\r\\n\\r\\n遗留问题：\\r\\n1）其实是上周的，我还是没有实现gitbook和github双推.......\\r\\n2）继续完善程序……\\r\\n3）整理笔记和教程（有时候解决问题的时候想这个很有必要记下来，但一解决，又觉得原来这么直白，似乎都写不下来那个解决问题的过程了）\\r\\n\\r\\n本周得到的小提示：\\r\\n1）卡面背面充分利用\\r\\n2）随时记，不然真的随时忘'}, {'url': 'https://api.github.com/repos/AIMinder/Py103/issues/comments/272080510', 'html_url': 'https://github.com/AIMinder/Py103/issues/138#issuecomment-272080510', 'issue_url': 'https://api.github.com/repos/AIMinder/Py103/issues/138', 'id': 272080510, 'user': {'login': 'yanzhiw', 'id': 20264060, 'avatar_url': 'https://avatars0.githubusercontent.com/u/20264060?v=3', 'gravatar_id': '', 'url': 'https://api.github.com/users/yanzhiw', 'html_url': 'https://github.com/yanzhiw', 'followers_url': 'https://api.github.com/users/yanzhiw/followers', 'following_url': 'https://api.github.com/users/yanzhiw/following{/other_user}', 'gists_url': 'https://api.github.com/users/yanzhiw/gists{/gist_id}', 'starred_url': 'https://api.github.com/users/yanzhiw/starred{/owner}{/repo}', 'subscriptions_url': 'https://api.github.com/users/yanzhiw/subscriptions', 'organizations_url': 'https://api.github.com/users/yanzhiw/orgs', 'repos_url': 'https://api.github.com/users/yanzhiw/repos', 'events_url': 'https://api.github.com/users/yanzhiw/events{/privacy}', 'received_events_url': 'https://api.github.com/users/yanzhiw/received_events', 'type': 'User', 'site_admin': False}, 'created_at': '2017-01-12T05:36:46Z', 'updated_at': '2017-01-12T05:36:46Z', 'body': '感谢@leiyunhe 的提醒，这个的确是疏忽了，因为是一次性工程，没想到也没在测试上发现这个问题。已经更新了，再次感谢。\\r\\n\\r\\n昨天试着构建了一个基于API的查询系统，测试可以用。大家有兴趣可以看看我的代码和gitbook。\\r\\n\\r\\n[gitbook：use api](https://yanzhiw.gitbooks.io/teach-myself-python-by-liu/content/W1/use-api.html)\\r\\n[代码地址](https://github.com/yanzhiw/Py103/blob/master/Chap1/project/weather_check_0.02.py)'}, {'url': 'https://api.github.com/repos/AIMinder/Py103/issues/comments/272103325', 'html_url': 'https://github.com/AIMinder/Py103/issues/138#issuecomment-272103325', 'issue_url': 'https://api.github.com/repos/AIMinder/Py103/issues/138', 'id': 272103325, 'user': {'login': 'Liumang', 'id': 24549506, 'avatar_url': 'https://avatars2.githubusercontent.com/u/24549506?v=3', 'gravatar_id': '', 'url': 'https://api.github.com/users/Liumang', 'html_url': 'https://github.com/Liumang', 'followers_url': 'https://api.github.com/users/Liumang/followers', 'following_url': 'https://api.github.com/users/Liumang/following{/other_user}', 'gists_url': 'https://api.github.com/users/Liumang/gists{/gist_id}', 'starred_url': 'https://api.github.com/users/Liumang/starred{/owner}{/repo}', 'subscriptions_url': 'https://api.github.com/users/Liumang/subscriptions', 'organizations_url': 'https://api.github.com/users/Liumang/orgs', 'repos_url': 'https://api.github.com/users/Liumang/repos', 'events_url': 'https://api.github.com/users/Liumang/events{/privacy}', 'received_events_url': 'https://api.github.com/users/Liumang/received_events', 'type': 'User', 'site_admin': False}, 'created_at': '2017-01-12T08:28:03Z', 'updated_at': '2017-01-12T08:28:03Z', 'body': '@AIMinder/py103stu Liumang 完成 ch1 任务啦！\\r\\n\\r\\n[任务仓库](https://github.com/Liumang/Py103/blob/master/Chap1/project/weather_search.py)\\r\\n\\r\\n个人教程晚上开始写，容我消化半天。\\r\\n下图为项目运行时的实现效果图。\\r\\n![image](https://cloud.githubusercontent.com/assets/24549506/21881880/0c93c55a-d8e3-11e6-8e8f-a6b7742ac5e0.png)\\r\\n\\r\\nch1总结：\\r\\n1. 回顾过程\\r\\n从1wd0拿到ch1的任务要求开始，我还是先根据自己的节奏，把任务拆解。\\r\\n    * 4个功能：输入城市名、help、history、quit，返回相应的内容。\\r\\n    * 怎么读取weather_info.txt？\\r\\n    * 文档里的两列数据怎么设置变量？\\r\\n    * 如果输入以上4个功能对应的字符之外的内容，应该怎么报错？功能是否一样？\\r\\n    * 输入history返回的历史查询信息如何保存？如何调取？\\r\\n\\r\\n这么一拆，我的懵逼值从100%降到了80%，至少学到现在，读取文件我知道怎么操作！那么就按照拆解的细节，一条一条攻克吧。\\r\\n\\r\\n2. 注意点\\r\\n    * 最重要的依旧是**卡片卡片卡片**！还是要仔细看官方文档，不懂的地方自己翻译，再配合度娘反馈的一些内容，合力理解需要学习的知识点。\\r\\n    * 其次就是做好**每一个想法的总结和记录**，这点非！常！重！要！接触一门新的语言，总会有很多想法，可行的、不可行的、未经尝试的、需要教练提点的，等等。`很多想法往往是在一瞬间产生，如果不对这些想法做好记录，就很容易造成思路上的混乱。`\\r\\n    * 然后就是思考的过程，一定要建立在一个大的框架上。拿ch1任务来说，在确定了项目框架方向是正确的之后，一定是基于拆解后的各个point进行对应的思考。\\r\\n    * 最后，得到上面的结论后，就是最重要的，上手敲代码！\\r\\n\\r\\n> 比如说：“输入城市名、help、history、quit，返回相应的内容”，这个point是需要我输入相应的字符后返回给我对应的内容，那么是不是可以用循环？while？if？想到这些了就抓紧记录下来！\\r\\n\\r\\n3. 自我状态\\r\\n与上周相比，状态依旧保持地不错，走在三人小队的前面，努力踩坑爬坑，小群里帮助另外俩同学一起往前走。碰到解决不了的问题就先放一放，过了半天还是解决不了就及时请教教练寻求帮助。本周末前努力把LPTHW的全部练习都做完，毕竟…做完只是第一步，还需要不停review，最后能独立完成项目才是真正理解透所有知识点的表现。\\r\\n'}, {'url': 'https://api.github.com/repos/AIMinder/Py103/issues/comments/272154621', 'html_url': 'https://github.com/AIMinder/Py103/issues/138#issuecomment-272154621', 'issue_url': 'https://api.github.com/repos/AIMinder/Py103/issues/138', 'id': 272154621, 'user': {'login': 'Ricardotang', 'id': 7656591, 'avatar_url': 'https://avatars3.githubusercontent.com/u/7656591?v=3', 'gravatar_id': '', 'url': 'https://api.github.com/users/Ricardotang', 'html_url': 'https://github.com/Ricardotang', 'followers_url': 'https://api.github.com/users/Ricardotang/followers', 'following_url': 'https://api.github.com/users/Ricardotang/following{/other_user}', 'gists_url': 'https://api.github.com/users/Ricardotang/gists{/gist_id}', 'starred_url': 'https://api.github.com/users/Ricardotang/starred{/owner}{/repo}', 'subscriptions_url': 'https://api.github.com/users/Ricardotang/subscriptions', 'organizations_url': 'https://api.github.com/users/Ricardotang/orgs', 'repos_url': 'https://api.github.com/users/Ricardotang/repos', 'events_url': 'https://api.github.com/users/Ricardotang/events{/privacy}', 'received_events_url': 'https://api.github.com/users/Ricardotang/received_events', 'type': 'User', 'site_admin': False}, 'created_at': '2017-01-12T12:46:56Z', 'updated_at': '2017-01-12T12:46:56Z', 'body': '@AIMinder/Py103Stu  Ricardotang完成 ch1 任务啦\\r\\n\\r\\n- [任务成果地址](https://github.com/Ricardotang/Py103/tree/master/Chap1/project)\\t\\r\\n- 任务成果截图：\\r\\n<img width=\"730\" alt=\"result\" src=\"https://cloud.githubusercontent.com/assets/7656591/21889669/11d320c0-d905-11e6-90d4-c3e7e8251e78.png\">\\r\\n\\r\\n- [个人教程地址](https://github.com/Ricardotang/Py103/tree/master/Chap1/note)\\r\\n- 感想：这次的练习的基本思路卡片里已经明确给出了，所以在分解问题时很迅速。未知部分是字典的使用，跳出循环的判断。字典的使用通过查询文档很快解决了。循环条件的判断是通过尝试找到的，在尝试中找到了多个方法，break，return和while后面的判断条件都可以实现。\\r\\n出现的比较重要的问题是：\\r\\n\\r\\n1. 在读完文件之后没有关闭文件。这个问题的主要原因是没有仔细的考虑问题解决的步骤，在程序设计时出现了问题。而且在运行时并不会报错，很容易就忽略了。\\r\\n2. 错误的缩进。python通过缩进来判断程序的逻辑的。这个错误可以通过练习和控制函数长度来减少。\\r\\n\\r\\n'}, {'url': 'https://api.github.com/repos/AIMinder/Py103/issues/comments/272156883', 'html_url': 'https://github.com/AIMinder/Py103/issues/138#issuecomment-272156883', 'issue_url': 'https://api.github.com/repos/AIMinder/Py103/issues/138', 'id': 272156883, 'user': {'login': 'VyGiBe', 'id': 24772277, 'avatar_url': 'https://avatars2.githubusercontent.com/u/24772277?v=3', 'gravatar_id': '', 'url': 'https://api.github.com/users/VyGiBe', 'html_url': 'https://github.com/VyGiBe', 'followers_url': 'https://api.github.com/users/VyGiBe/followers', 'following_url': 'https://api.github.com/users/VyGiBe/following{/other_user}', 'gists_url': 'https://api.github.com/users/VyGiBe/gists{/gist_id}', 'starred_url': 'https://api.github.com/users/VyGiBe/starred{/owner}{/repo}', 'subscriptions_url': 'https://api.github.com/users/VyGiBe/subscriptions', 'organizations_url': 'https://api.github.com/users/VyGiBe/orgs', 'repos_url': 'https://api.github.com/users/VyGiBe/repos', 'events_url': 'https://api.github.com/users/VyGiBe/events{/privacy}', 'received_events_url': 'https://api.github.com/users/VyGiBe/received_events', 'type': 'User', 'site_admin': False}, 'created_at': '2017-01-12T12:58:27Z', 'updated_at': '2017-01-13T18:45:22Z', 'body': '@AIMinder/Py103Stu  VyGiBe完成 ch1 任务啦\\r\\n\\r\\n- 任务成果地址：[1w_task.py](https://github.com/VyGiBe/Py103/blob/master/Chap1/project/1w_task.py)\\t\\r\\n- 任务成果截图：\\r\\n- ![效果图](http://p1.bqimg.com/4851/34c239ffb31f8a56.png)\\r\\n- 程序使用说明地址：[README.md](https://github.com/VyGiBe/Py103/blob/master/Chap1/project/README.md)\\r\\n- 个人教程地址：[chap1note](https://vygibe.gitbooks.io/pyhthonnote/content/04Py103/chap1note.html)\\r\\n# 感想： \\r\\n   1. 可先交代码，教程整理之后补上(早就写好代码了= =)。\\r\\n      - 正确姿势应该是边做边整理教程。\\r\\n   2. 基本的闭环结构。\\r\\n      - 阅读记录卡包内容\\r\\n      - 详细记录任务要求\\r\\n      - 分析任务，使用@wangjunyu 提及的《怎样解题》中的方法。\\r\\n      - 编写测试程序的同时，回顾旧知识，学习新知识，完成第一个MVP，同时记录学习和探索过程。\\r\\n      - 反思：\\r\\n          - 如果让我重来一次，我会选择什么样的方式？和之前有什么不同？为什么会有不同？这样的不同是否更有效？\\r\\n          - 其他的方面我有没有注意到？\\r\\n'}, {'url': 'https://api.github.com/repos/AIMinder/Py103/issues/comments/272165963', 'html_url': 'https://github.com/AIMinder/Py103/issues/138#issuecomment-272165963', 'issue_url': 'https://api.github.com/repos/AIMinder/Py103/issues/138', 'id': 272165963, 'user': {'login': 'JonasCynical', 'id': 24691751, 'avatar_url': 'https://avatars1.githubusercontent.com/u/24691751?v=3', 'gravatar_id': '', 'url': 'https://api.github.com/users/JonasCynical', 'html_url': 'https://github.com/JonasCynical', 'followers_url': 'https://api.github.com/users/JonasCynical/followers', 'following_url': 'https://api.github.com/users/JonasCynical/following{/other_user}', 'gists_url': 'https://api.github.com/users/JonasCynical/gists{/gist_id}', 'starred_url': 'https://api.github.com/users/JonasCynical/starred{/owner}{/repo}', 'subscriptions_url': 'https://api.github.com/users/JonasCynical/subscriptions', 'organizations_url': 'https://api.github.com/users/JonasCynical/orgs', 'repos_url': 'https://api.github.com/users/JonasCynical/repos', 'events_url': 'https://api.github.com/users/JonasCynical/events{/privacy}', 'received_events_url': 'https://api.github.com/users/JonasCynical/received_events', 'type': 'User', 'site_admin': False}, 'created_at': '2017-01-12T13:43:14Z', 'updated_at': '2017-01-12T13:43:14Z', 'body': '@AIMinder/py103stu Jonas完成 ch1 任务啦\\r\\n\\r\\n- [代码](https://github.com/JonasCynical/Py103/blob/master/Chap1/project/weather.py)\\r\\n- 截图 ![](http://p1.bpimg.com/567571/576299b9675df473.png)\\r\\n- 教程（占坑）\\r\\n\\r\\n最大的难点就是一开始完全不知道如何读取`weather_info.txt`里的内容，一头雾水，后来google + 翻作业才慢慢搞懂。插曲是`pull`的时候不知道怎么搞了个分支，导致`push`的时候因为没有合并分支一直失败，不过也看了各家教程解决了~ 明天填坑 ~'}, {'url': 'https://api.github.com/repos/AIMinder/Py103/issues/comments/272166701', 'html_url': 'https://github.com/AIMinder/Py103/issues/138#issuecomment-272166701', 'issue_url': 'https://api.github.com/repos/AIMinder/Py103/issues/138', 'id': 272166701, 'user': {'login': 'CallingCrab', 'id': 24758667, 'avatar_url': 'https://avatars2.githubusercontent.com/u/24758667?v=3', 'gravatar_id': '', 'url': 'https://api.github.com/users/CallingCrab', 'html_url': 'https://github.com/CallingCrab', 'followers_url': 'https://api.github.com/users/CallingCrab/followers', 'following_url': 'https://api.github.com/users/CallingCrab/following{/other_user}', 'gists_url': 'https://api.github.com/users/CallingCrab/gists{/gist_id}', 'starred_url': 'https://api.github.com/users/CallingCrab/starred{/owner}{/repo}', 'subscriptions_url': 'https://api.github.com/users/CallingCrab/subscriptions', 'organizations_url': 'https://api.github.com/users/CallingCrab/orgs', 'repos_url': 'https://api.github.com/users/CallingCrab/repos', 'events_url': 'https://api.github.com/users/CallingCrab/events{/privacy}', 'received_events_url': 'https://api.github.com/users/CallingCrab/received_events', 'type': 'User', 'site_admin': False}, 'created_at': '2017-01-12T13:46:44Z', 'updated_at': '2017-01-22T16:30:04Z', 'body': '@AIMinder/py103stu xilu完成ch1任务啦\\r\\n- 任务成果地址：[成果](https://github.com/CallingCrab/Py103/blob/master/Chap1/project/weather_search.py)\\t\\r\\n- 任务成果截图：![图片](https://github.com/CallingCrab/Py103/blob/master/Chap1/project/result.png?raw=true)\\r\\n- 个人教程地址： [教程](https://callingcrab.gitbooks.io/programming-on-bed/content/gitbook/2.1weather-search.html)\\r\\n- 感想： 啊啊啊啊啊啊，允许我再次咆哮，终于完成了第一个mvp，太激动了。\\r\\n    \\r\\n    冷静一下记录下心路历程：\\r\\n\\r\\n    - 首先拿到任务后比较懵逼，在尽量不看卡包提示的情况自己思考了一下主要程序部分应该怎么做，流程应该是：从网站抓取数据，形成数据库 > 用户输入检索关键词 > 从库中抽取相应的数据输出\\r\\n\\r\\n    - 阅读卡包提示后发现原来课程组已经提供了数据啦，那么流程就变成了从文件抓取数据，形成数据库 > 用户输入检索关键词 > 从库中抽取相应的数据输出，此时根据提示原先设想的数据库对应应该是dict\\r\\n\\r\\n    - 开始愉快地写代码啦，根据阅读材料的提示，第一步就是读取文件，将数据分类，仔细观察所有的数据都用「，」分割好了，那么一定有对应的函数可以使用，检索后发现应该用`split()`，之后再对应起来就形成了dict\\r\\n\\r\\n    - 程序一开始没有想到应该用循环，只是想到用`if`条件判断，实际测试起来发现程序咋不会退回来重新开始呐？于是改用循环语句成功实现loop～\\r\\n\\r\\n    - 如何实现搜索历史功能费了一点脑筋，主要是自己的想法一开始是在dict中将搜索结果存储进去，后来发现这样做的话会破坏dict，后来发现使用list就可以解决这个问题\\r\\n\\r\\n    - 最后由衷地感叹大家速度也太快了吧，刚刚写完以后瞄了瞄大家的代码，还有好多看不懂的地方呐，不说了，去串门了XD\\r\\n\\r\\n    - 最后的最后，一开始我的想法是从网站上爬取数据，刚刚看到有同学已经成功实现了，好厉害呐，同学们都这么厉害压力山大呀TAT'}, {'url': 'https://api.github.com/repos/AIMinder/Py103/issues/comments/272340462', 'html_url': 'https://github.com/AIMinder/Py103/issues/138#issuecomment-272340462', 'issue_url': 'https://api.github.com/repos/AIMinder/Py103/issues/138', 'id': 272340462, 'user': {'login': 'shereb', 'id': 20082311, 'avatar_url': 'https://avatars1.githubusercontent.com/u/20082311?v=3', 'gravatar_id': '', 'url': 'https://api.github.com/users/shereb', 'html_url': 'https://github.com/shereb', 'followers_url': 'https://api.github.com/users/shereb/followers', 'following_url': 'https://api.github.com/users/shereb/following{/other_user}', 'gists_url': 'https://api.github.com/users/shereb/gists{/gist_id}', 'starred_url': 'https://api.github.com/users/shereb/starred{/owner}{/repo}', 'subscriptions_url': 'https://api.github.com/users/shereb/subscriptions', 'organizations_url': 'https://api.github.com/users/shereb/orgs', 'repos_url': 'https://api.github.com/users/shereb/repos', 'events_url': 'https://api.github.com/users/shereb/events{/privacy}', 'received_events_url': 'https://api.github.com/users/shereb/received_events', 'type': 'User', 'site_admin': False}, 'created_at': '2017-01-13T01:57:13Z', 'updated_at': '2017-01-13T01:59:54Z', 'body': '@AIMinder/Py103Stu  shereb（王波）完成 ch1 任务啦\\r\\n\\r\\n- [任务成果](https://github.com/shereb/Py103/blob/master/Chap1/project/ch1.py)\\r\\n- [任务效果截图](https://github.com/shereb/Py103/blob/master/Chap1/project/test.png)\\r\\n- [程序使用说明](https://github.com/shereb/Py103/blob/master/Chap1/project/%E4%BD%BF%E7%94%A8%E8%AF%B4%E6%98%8E.txt)\\r\\n- [个人笔记](https://github.com/shereb/Py103/blob/master/Chap1/note/ch1%E7%AC%94%E8%AE%B0.md)\\r\\n- [个人教程](https://github.com/shereb/Py103/blob/master/Chap1/note/ch1%E6%95%99%E7%A8%8B.md)\\r\\n- 感想：本周的任务初看很有挑战性，仔细思考后却发现并不难，要点在卡包中都有提示，只需要把任务分解一下，然后具体考虑每个功能的实现方法即可。这次是第一次使用python独立编程，真正体会到开智所提倡的方法的优越性：编程就是直接去解决问题，动手编就是最好的方法，不用等所有细节都学会了才编，那样是很低效的学习方法。以前大学了学C语言，学了整整一学期，细节都学了很多，就是很少解决实际的问题。而现在学python，一上手就解决了一个有点接近实际的问题，完成了的成就感非常强烈，这种感觉很美妙。当然，我也很清楚作为新手，写的程序肯定很不美好，所以接下去这两天，我会再看看其他高手写的代码，学习一下更优美的解决方案。'}, {'url': 'https://api.github.com/repos/AIMinder/Py103/issues/comments/272397862', 'html_url': 'https://github.com/AIMinder/Py103/issues/138#issuecomment-272397862', 'issue_url': 'https://api.github.com/repos/AIMinder/Py103/issues/138', 'id': 272397862, 'user': {'login': 'leilayanhui', 'id': 22695882, 'avatar_url': 'https://avatars3.githubusercontent.com/u/22695882?v=3', 'gravatar_id': '', 'url': 'https://api.github.com/users/leilayanhui', 'html_url': 'https://github.com/leilayanhui', 'followers_url': 'https://api.github.com/users/leilayanhui/followers', 'following_url': 'https://api.github.com/users/leilayanhui/following{/other_user}', 'gists_url': 'https://api.github.com/users/leilayanhui/gists{/gist_id}', 'starred_url': 'https://api.github.com/users/leilayanhui/starred{/owner}{/repo}', 'subscriptions_url': 'https://api.github.com/users/leilayanhui/subscriptions', 'organizations_url': 'https://api.github.com/users/leilayanhui/orgs', 'repos_url': 'https://api.github.com/users/leilayanhui/repos', 'events_url': 'https://api.github.com/users/leilayanhui/events{/privacy}', 'received_events_url': 'https://api.github.com/users/leilayanhui/received_events', 'type': 'User', 'site_admin': False}, 'created_at': '2017-01-13T09:24:13Z', 'updated_at': '2017-01-13T09:27:58Z', 'body': '@AIMinder/Py103Stu 严蕙完成 ch1 任务啦\\r\\n\\r\\n- 任务成果地址：[代码](https://github.com/leilayanhui/Py103/blob/master/Chap1/project/chap1.weather.v4.py)\\r\\n- [任务成果截图](https://github.com/leilayanhui/Py103/blob/master/Chap1/project/cha1.weather.png)\\r\\n- [程序使用说明地址](https://github.com/leilayanhui/Py103/blob/master/Chap1/project/help.txt)\\r\\n- [个人笔记地址](https://github.com/leilayanhui/Py103/blob/master/Chap1/note/chap1.record.md)\\r\\n\\r\\n刚接到任务时，就开始看卡包内的提示内容。但真的直到写不出正确的代码时，再回头认真看，而且扩大阅读范围。真的是一步一个坑，不断掉坑填坑。本人太小白了，需要 google ，看别人怎么写代码，才能完成本周的作业。补课路漫漫……'}, {'url': 'https://api.github.com/repos/AIMinder/Py103/issues/comments/272454603', 'html_url': 'https://github.com/AIMinder/Py103/issues/138#issuecomment-272454603', 'issue_url': 'https://api.github.com/repos/AIMinder/Py103/issues/138', 'id': 272454603, 'user': {'login': 'shippomiru', 'id': 24562448, 'avatar_url': 'https://avatars1.githubusercontent.com/u/24562448?v=3', 'gravatar_id': '', 'url': 'https://api.github.com/users/shippomiru', 'html_url': 'https://github.com/shippomiru', 'followers_url': 'https://api.github.com/users/shippomiru/followers', 'following_url': 'https://api.github.com/users/shippomiru/following{/other_user}', 'gists_url': 'https://api.github.com/users/shippomiru/gists{/gist_id}', 'starred_url': 'https://api.github.com/users/shippomiru/starred{/owner}{/repo}', 'subscriptions_url': 'https://api.github.com/users/shippomiru/subscriptions', 'organizations_url': 'https://api.github.com/users/shippomiru/orgs', 'repos_url': 'https://api.github.com/users/shippomiru/repos', 'events_url': 'https://api.github.com/users/shippomiru/events{/privacy}', 'received_events_url': 'https://api.github.com/users/shippomiru/received_events', 'type': 'User', 'site_admin': False}, 'created_at': '2017-01-13T14:25:35Z', 'updated_at': '2017-01-13T14:25:35Z', 'body': '@leiyunhe 今天群里小伙伴也提醒我了……因为运行没问题就一直忽略这个事情，感谢提醒！'}, {'url': 'https://api.github.com/repos/AIMinder/Py103/issues/comments/272604939', 'html_url': 'https://github.com/AIMinder/Py103/issues/138#issuecomment-272604939', 'issue_url': 'https://api.github.com/repos/AIMinder/Py103/issues/138', 'id': 272604939, 'user': {'login': 'chousawa', 'id': 16424679, 'avatar_url': 'https://avatars2.githubusercontent.com/u/16424679?v=3', 'gravatar_id': '', 'url': 'https://api.github.com/users/chousawa', 'html_url': 'https://github.com/chousawa', 'followers_url': 'https://api.github.com/users/chousawa/followers', 'following_url': 'https://api.github.com/users/chousawa/following{/other_user}', 'gists_url': 'https://api.github.com/users/chousawa/gists{/gist_id}', 'starred_url': 'https://api.github.com/users/chousawa/starred{/owner}{/repo}', 'subscriptions_url': 'https://api.github.com/users/chousawa/subscriptions', 'organizations_url': 'https://api.github.com/users/chousawa/orgs', 'repos_url': 'https://api.github.com/users/chousawa/repos', 'events_url': 'https://api.github.com/users/chousawa/events{/privacy}', 'received_events_url': 'https://api.github.com/users/chousawa/received_events', 'type': 'User', 'site_admin': False}, 'created_at': '2017-01-14T06:06:36Z', 'updated_at': '2017-01-14T12:02:34Z', 'body': '@AIMinder/Py103Stu  chousawa完成 ch1 任务啦\\r\\n\\r\\n- [任务成果](https://github.com/chousawa/Py103/blob/master/Chap1/project/weather1.0.py)\\r\\n- 任务成果截图：\\r\\n<img width=\"572\" alt=\"wx20170114-130838 2x\" src=\"https://cloud.githubusercontent.com/assets/16424679/21952535/b6b26244-da5a-11e6-9448-e9061e10923b.png\">  \\r\\n\\r\\n- [程序使用说明地址](https://github.com/chousawa/Py103/blob/master/Chap1/project/help.md)  \\r\\n- 个人教程地址：待完成\\r\\n- 感想：原来用win7系统装不了更新包进而装不了python3，于是一拍桌子从apple store扛回了人生的第一台mac，倒腾了两天晚上终于把基础配置好了，感谢@cicei同学之前的提问和总结，使我这个系统都还不熟悉的人毫无障碍地安装好了python3。\\r\\n接下来就是拆分任务，一开始完全摸不到从哪里开始，于是把卡片上的内容一句句分解出来，慢慢理出了一些头绪，中间卡在了如何不用dict实现目标上，最后还是用了dict，dict的使用也琢磨了很久，终于把输入城市输出结果这一步完成后，总算松了口气，然后遇到了循环、打印历史，感谢先前提交作业同学，给我指出了明路。\\r\\n过去的一个星期每天晚上倒腾到半夜1点，虽然每天都很困，但是从没有这么充实过，还是很弱，得向同学们学习正确高效解决问题的姿势。\\r\\n\\r\\n`xpgeng`: `卡在了如何不用dict实现目标上`, 为什么要不用呢? \\r\\n@xpgeng 误解了卡片里的意思，以为是有基础办法，dict是更高阶的技能，现在回过头看看，原来是自己理解错了'}, {'url': 'https://api.github.com/repos/AIMinder/Py103/issues/comments/272636965', 'html_url': 'https://github.com/AIMinder/Py103/issues/138#issuecomment-272636965', 'issue_url': 'https://api.github.com/repos/AIMinder/Py103/issues/138', 'id': 272636965, 'user': {'login': 'Irene6161', 'id': 22165506, 'avatar_url': 'https://avatars2.githubusercontent.com/u/22165506?v=3', 'gravatar_id': '', 'url': 'https://api.github.com/users/Irene6161', 'html_url': 'https://github.com/Irene6161', 'followers_url': 'https://api.github.com/users/Irene6161/followers', 'following_url': 'https://api.github.com/users/Irene6161/following{/other_user}', 'gists_url': 'https://api.github.com/users/Irene6161/gists{/gist_id}', 'starred_url': 'https://api.github.com/users/Irene6161/starred{/owner}{/repo}', 'subscriptions_url': 'https://api.github.com/users/Irene6161/subscriptions', 'organizations_url': 'https://api.github.com/users/Irene6161/orgs', 'repos_url': 'https://api.github.com/users/Irene6161/repos', 'events_url': 'https://api.github.com/users/Irene6161/events{/privacy}', 'received_events_url': 'https://api.github.com/users/Irene6161/received_events', 'type': 'User', 'site_admin': False}, 'created_at': '2017-01-14T17:01:19Z', 'updated_at': '2017-01-14T17:01:19Z', 'body': '@AIMinder/py103stu   六一Iren 完成ch1任务啦\\r\\n\\r\\n教程先欠着\\r\\n\\r\\n[作业展示](https://github.com/Irene6161/Py103/blob/master/Chap1/project/1w_task_1.0)\\r\\n\\r\\n作业成果展示\\r\\n\\r\\n> ireneliudeMacBook-Pro:~ irene.liu$ cd py103\\r\\n> ireneliudeMacBook-Pro:py103 irene.liu$ python3 1w_task_1.0.py\\r\\n> \\r\\n> 请输入指令或者您要查询的城市名称：上海\\r\\n> 上海 小雨\\r\\n> \\r\\n> 请输入指令或者您要查询的城市名称：长沙\\r\\n> 长沙 中雨\\r\\n> \\r\\n> 请输入指令或者您要查询的城市名称：合  \\r\\n> 请输入指令或者您要查询的城市名称：help\\r\\n> \\r\\n> \\t\\t输入城市名，查询该城市的天气；\\r\\n> \\t\\t输入 help，获取帮助文档；\\r\\n> \\t\\t输入 history，获取查询历史；\\r\\n> \\t\\t输入 quit，退出天气查询系统。\\r\\n> \\r\\n> 请输入指令或者您要查询的城市名称：quit\\r\\n> ireneliudeMacBook-Pro:py103 irene.liu$ \\r\\n> \\r\\n\\r\\n感受：\\r\\n1.基础很重要，基础很重要，基础很重要！！！（LPTHW上的前40个练习不仅要熟悉还要举一反三）\\r\\n2.随时调整心态，不要陷在情绪里！（同侪太优秀，信心严重受打击，觉得自己负基础弱爆了，但是要想想自己学Python得初心，和自己过去比较，进步还是明显的，只能厚皮给自己打气了。）\\r\\n3.方法很重要，任务是路径指导，冲着目标，以终为始，边做边学。\\r\\n4.零基础的话，每周全情投入12小时，远远不够，24起码~\\r\\n'}, {'url': 'https://api.github.com/repos/AIMinder/Py103/issues/comments/272666650', 'html_url': 'https://github.com/AIMinder/Py103/issues/138#issuecomment-272666650', 'issue_url': 'https://api.github.com/repos/AIMinder/Py103/issues/138', 'id': 272666650, 'user': {'login': 'wenyan666', 'id': 24456998, 'avatar_url': 'https://avatars2.githubusercontent.com/u/24456998?v=3', 'gravatar_id': '', 'url': 'https://api.github.com/users/wenyan666', 'html_url': 'https://github.com/wenyan666', 'followers_url': 'https://api.github.com/users/wenyan666/followers', 'following_url': 'https://api.github.com/users/wenyan666/following{/other_user}', 'gists_url': 'https://api.github.com/users/wenyan666/gists{/gist_id}', 'starred_url': 'https://api.github.com/users/wenyan666/starred{/owner}{/repo}', 'subscriptions_url': 'https://api.github.com/users/wenyan666/subscriptions', 'organizations_url': 'https://api.github.com/users/wenyan666/orgs', 'repos_url': 'https://api.github.com/users/wenyan666/repos', 'events_url': 'https://api.github.com/users/wenyan666/events{/privacy}', 'received_events_url': 'https://api.github.com/users/wenyan666/received_events', 'type': 'User', 'site_admin': False}, 'created_at': '2017-01-15T01:28:34Z', 'updated_at': '2017-01-15T01:28:34Z', 'body': '不能赞成更多！！'}, {'url': 'https://api.github.com/repos/AIMinder/Py103/issues/comments/272674890', 'html_url': 'https://github.com/AIMinder/Py103/issues/138#issuecomment-272674890', 'issue_url': 'https://api.github.com/repos/AIMinder/Py103/issues/138', 'id': 272674890, 'user': {'login': 'txytju', 'id': 20982902, 'avatar_url': 'https://avatars0.githubusercontent.com/u/20982902?v=3', 'gravatar_id': '', 'url': 'https://api.github.com/users/txytju', 'html_url': 'https://github.com/txytju', 'followers_url': 'https://api.github.com/users/txytju/followers', 'following_url': 'https://api.github.com/users/txytju/following{/other_user}', 'gists_url': 'https://api.github.com/users/txytju/gists{/gist_id}', 'starred_url': 'https://api.github.com/users/txytju/starred{/owner}{/repo}', 'subscriptions_url': 'https://api.github.com/users/txytju/subscriptions', 'organizations_url': 'https://api.github.com/users/txytju/orgs', 'repos_url': 'https://api.github.com/users/txytju/repos', 'events_url': 'https://api.github.com/users/txytju/events{/privacy}', 'received_events_url': 'https://api.github.com/users/txytju/received_events', 'type': 'User', 'site_admin': False}, 'created_at': '2017-01-15T05:29:50Z', 'updated_at': '2017-01-15T05:33:05Z', 'body': '- [代码](https://github.com/txytju/Py103/blob/master/Chap1/project/weather_inquiry.py)\\r\\n- 程序截图\\r\\n ![程序执行截图](http://i1.piimg.com/4851/5890135916d27b22.png)\\r\\n- [个人教程](https://txytju.gitbooks.io/learningpython/content/Chap1/note/c1.html)'}, {'url': 'https://api.github.com/repos/AIMinder/Py103/issues/comments/272677315', 'html_url': 'https://github.com/AIMinder/Py103/issues/138#issuecomment-272677315', 'issue_url': 'https://api.github.com/repos/AIMinder/Py103/issues/138', 'id': 272677315, 'user': {'login': 'Torrtoy', 'id': 24447665, 'avatar_url': 'https://avatars2.githubusercontent.com/u/24447665?v=3', 'gravatar_id': '', 'url': 'https://api.github.com/users/Torrtoy', 'html_url': 'https://github.com/Torrtoy', 'followers_url': 'https://api.github.com/users/Torrtoy/followers', 'following_url': 'https://api.github.com/users/Torrtoy/following{/other_user}', 'gists_url': 'https://api.github.com/users/Torrtoy/gists{/gist_id}', 'starred_url': 'https://api.github.com/users/Torrtoy/starred{/owner}{/repo}', 'subscriptions_url': 'https://api.github.com/users/Torrtoy/subscriptions', 'organizations_url': 'https://api.github.com/users/Torrtoy/orgs', 'repos_url': 'https://api.github.com/users/Torrtoy/repos', 'events_url': 'https://api.github.com/users/Torrtoy/events{/privacy}', 'received_events_url': 'https://api.github.com/users/Torrtoy/received_events', 'type': 'User', 'site_admin': False}, 'created_at': '2017-01-15T06:38:38Z', 'updated_at': '2017-01-15T06:38:38Z', 'body': '@AIMinder/py103stu   Torrtoy完成ch1任啦\\r\\n- 代码：https://github.com/Torrtoy/Py103/tree/master/Chap1/project\\r\\n- Note：https://github.com/Torrtoy/Py103/tree/master/Chap1/note\\r\\n![1111](https://cloud.githubusercontent.com/assets/24447665/21960742/a24276ca-db2f-11e6-9f4a-f58242c1c01f.png)\\r\\n- 感受：大部分时间都花在python上了，虽然很累，但是觉得蛮充实的，基础还不是很扎实，继续练习lpthw'}, {'url': 'https://api.github.com/repos/AIMinder/Py103/issues/comments/272695261', 'html_url': 'https://github.com/AIMinder/Py103/issues/138#issuecomment-272695261', 'issue_url': 'https://api.github.com/repos/AIMinder/Py103/issues/138', 'id': 272695261, 'user': {'login': 'tcfh2016', 'id': 17757622, 'avatar_url': 'https://avatars1.githubusercontent.com/u/17757622?v=3', 'gravatar_id': '', 'url': 'https://api.github.com/users/tcfh2016', 'html_url': 'https://github.com/tcfh2016', 'followers_url': 'https://api.github.com/users/tcfh2016/followers', 'following_url': 'https://api.github.com/users/tcfh2016/following{/other_user}', 'gists_url': 'https://api.github.com/users/tcfh2016/gists{/gist_id}', 'starred_url': 'https://api.github.com/users/tcfh2016/starred{/owner}{/repo}', 'subscriptions_url': 'https://api.github.com/users/tcfh2016/subscriptions', 'organizations_url': 'https://api.github.com/users/tcfh2016/orgs', 'repos_url': 'https://api.github.com/users/tcfh2016/repos', 'events_url': 'https://api.github.com/users/tcfh2016/events{/privacy}', 'received_events_url': 'https://api.github.com/users/tcfh2016/received_events', 'type': 'User', 'site_admin': False}, 'created_at': '2017-01-15T13:29:55Z', 'updated_at': '2017-01-15T13:29:55Z', 'body': '来提交作业的时候才发现自己漏掉需求了，头大。。'}]\n",
      "[('shippomiru', '2017-01-09T12:17:57Z'), ('yanzhiw', '2017-01-09T12:55:26Z'), ('Davidfupenghao', '2017-01-09T12:58:47Z'), ('tcfh2016', '2017-01-09T14:11:21Z'), ('Leohb', '2017-01-09T16:50:11Z'), ('Yifan127', '2017-01-10T03:53:13Z'), ('leiyunhe', '2017-01-10T07:07:00Z'), ('HerbertAChen', '2017-01-10T08:02:08Z'), ('betterMax', '2017-01-10T16:43:06Z'), ('goldandelion', '2017-01-10T17:47:21Z'), ('NBR-hugh', '2017-01-11T00:38:27Z'), ('chuanwj', '2017-01-11T04:37:36Z'), ('draachen', '2017-01-11T14:37:57Z'), ('leiyunhe', '2017-01-12T02:21:26Z'), ('Yzlovekid', '2017-01-12T03:05:25Z'), ('yanzhiw', '2017-01-12T05:36:46Z'), ('Liumang', '2017-01-12T08:28:03Z'), ('Ricardotang', '2017-01-12T12:46:56Z'), ('VyGiBe', '2017-01-12T12:58:27Z'), ('JonasCynical', '2017-01-12T13:43:14Z'), ('CallingCrab', '2017-01-12T13:46:44Z'), ('shereb', '2017-01-13T01:57:13Z'), ('leilayanhui', '2017-01-13T09:24:13Z'), ('shippomiru', '2017-01-13T14:25:35Z'), ('chousawa', '2017-01-14T06:06:36Z'), ('Irene6161', '2017-01-14T17:01:19Z'), ('wenyan666', '2017-01-15T01:28:34Z'), ('txytju', '2017-01-15T05:29:50Z'), ('Torrtoy', '2017-01-15T06:38:38Z'), ('tcfh2016', '2017-01-15T13:29:55Z')]\n"
     ]
    }
   ],
   "source": [
    "import json\n",
    "import requests\n",
    "\n",
    "USERNAME = 'leiyunhe'\n",
    "PASSWORD = 'he18801730209'\n",
    "\n",
    "CREATOR = 'leiyunhe'\n",
    "TIME = '2017-01-01T00:00:00Z'\n",
    "LABEL = 'task'\n",
    "STATE = 'all'\n",
    "\n",
    "\n",
    "\n",
    "REPO_OWNER = 'AIMinder'\n",
    "REPO_NAME = 'Py103'\n",
    "\n",
    "payload2 = {'labels': LABEL,\n",
    "            'state': STATE}\n",
    "\n",
    "def submit_task_issue(ISSUE_NUMBER):\n",
    "    '''\n",
    "List comments on an issue\n",
    "return: user_name, comments_url, created_at_time\n",
    "DOC  https://developer.github.com/v3/issues/comments/\n",
    "'''\n",
    "    url = 'https://api.github.com/repos/%s/%s/issues/%s/comments' % (REPO_OWNER, REPO_NAME,ISSUE_NUMBER)\n",
    "    s = requests.session()\n",
    "    s.auth = (USERNAME,PASSWORD)\n",
    "    r = s.get(url,params = payload2)\n",
    "    result = json.loads(r.text)\n",
    "    print(result)\n",
    "    ls = []\n",
    "    for x in result:\n",
    "            # m = [x[\"url\"],x[\"created_at\"],x[\"user\"]]\n",
    "#         m = [x[\"url\"],x[\"created_at\"],x[\"user\"][\"login\"]]\n",
    "        m = (x[\"user\"][\"login\"],x[\"created_at\"])\n",
    "        ls.append(m)\n",
    "    return ls\n",
    "s = submit_task_issue(138)\n",
    "print(s)"
   ]
  },
  {
   "cell_type": "code",
   "execution_count": 10,
   "metadata": {
    "collapsed": false,
    "deletable": true,
    "editable": true
   },
   "outputs": [
    {
     "name": "stdout",
     "output_type": "stream",
     "text": [
      "Opened database successfully\n",
      "Table created successfully\n",
      "('Lesley19', None, None, None, None, None, None, None)\n",
      "('fengruibo', None, None, None, None, None, None, None)\n",
      "('leiyunhe', None, None, None, None, None, None, None)\n"
     ]
    }
   ],
   "source": [
    "import sqlite3\n",
    "conn = sqlite3.connect('test5.db')\n",
    "print(\"Opened database successfully\")\n",
    "\n",
    "# conn.execute('CREATE TABLE qw (qttime TEXT, city_name TEXT, weather TEXT, temperature TEXT)')\n",
    "conn.execute('CREATE TABLE submit_issue (github_user_name TEXT, chap1_time TEXT, chap2_time TEXT, chap3_time TEXT, chap4_time TEXT, chap5_time TEXT, chap6_time TEXT,chap7_time TEXT)')\n",
    "print(\"Table created successfully\")\n",
    "\n",
    "c = conn.cursor()\n",
    "for stu in ['leiyunhe','fengruibo','Lesley19']:\n",
    "    c.execute('INSERT INTO submit_issue (github_user_name) VALUES (?)',(stu,))\n",
    "conn.commit()\n",
    "# insert_into_db()\n",
    "\n",
    "for row in c.execute('SELECT * FROM submit_issue ORDER by github_user_name'):\n",
    "    print(row)\n",
    "\n",
    "\n",
    "# print(c.fetchall())\n",
    "conn.commit()\n",
    "conn.close()"
   ]
  },
  {
   "cell_type": "code",
   "execution_count": 33,
   "metadata": {
    "collapsed": false,
    "deletable": true,
    "editable": true
   },
   "outputs": [
    {
     "name": "stdout",
     "output_type": "stream",
     "text": [
      "1 shippomiru 2017-01-09T12:17:57Z\n",
      "1\n",
      "1 yanzhiw 2017-01-09T12:55:26Z\n",
      "1\n",
      "1 Davidfupenghao 2017-01-09T12:58:47Z\n",
      "1\n",
      "1 Leohb 2017-01-09T16:50:11Z\n",
      "1\n",
      "1 Yifan127 2017-01-10T03:53:13Z\n",
      "1\n",
      "1 leiyunhe 2017-01-10T07:07:00Z\n",
      "1\n",
      "1 betterMax 2017-01-10T16:43:06Z\n",
      "1\n",
      "1 goldandelion 2017-01-10T17:47:21Z\n",
      "1\n",
      "1 chuanwj 2017-01-11T04:37:36Z\n",
      "1\n",
      "1 draachen 2017-01-11T14:37:57Z\n",
      "1\n",
      "1 Yzlovekid 2017-01-12T03:05:25Z\n",
      "1\n",
      "1 yanzhiw 2017-01-12T05:36:46Z\n",
      "1\n",
      "1 Liumang 2017-01-12T08:28:03Z\n",
      "1\n",
      "1 Ricardotang 2017-01-12T12:46:56Z\n",
      "1\n",
      "1 VyGiBe 2017-01-12T12:58:27Z\n",
      "1\n",
      "1 JonasCynical 2017-01-12T13:43:14Z\n",
      "1\n",
      "1 CallingCrab 2017-01-12T13:46:44Z\n",
      "1\n",
      "1 shereb 2017-01-13T01:57:13Z\n",
      "1\n",
      "1 leilayanhui 2017-01-13T09:24:13Z\n",
      "1\n",
      "1 chousawa 2017-01-14T06:06:36Z\n",
      "1\n",
      "1 Irene6161 2017-01-14T17:01:19Z\n",
      "1\n",
      "1 txytju 2017-01-15T05:29:50Z\n",
      "1\n",
      "1 Torrtoy 2017-01-15T06:38:38Z\n",
      "1\n"
     ]
    }
   ],
   "source": [
    "import sqlite3\n",
    "import json\n",
    "import requests\n",
    "\n",
    "USERNAME = 'leiyunhe'\n",
    "PASSWORD = 'he18801730209'\n",
    "\n",
    "CREATOR = 'leiyunhe'\n",
    "TIME = '2017-01-01T00:00:00Z'\n",
    "LABEL = 'task'\n",
    "STATE = 'all'\n",
    "\n",
    "\n",
    "\n",
    "REPO_OWNER = 'AIMinder'\n",
    "REPO_NAME = 'Py103'\n",
    "\n",
    "payload2 = {'labels': LABEL,\n",
    "            'state': STATE}\n",
    "\n",
    "def submit_task_issue(ISSUE_NUMBER):\n",
    "    '''\n",
    "List comments on an issue\n",
    "return: user_name, comments_url, created_at_time\n",
    "DOC  https://developer.github.com/v3/issues/comments/\n",
    "'''\n",
    "    url = 'https://api.github.com/repos/%s/%s/issues/%s/comments' % (REPO_OWNER, REPO_NAME,ISSUE_NUMBER)\n",
    "    s = requests.session()\n",
    "    s.auth = (USERNAME,PASSWORD)\n",
    "    r = s.get(url,params = payload2)\n",
    "    result = json.loads(r.text)\n",
    "#     print(result)\n",
    "    ls = []\n",
    "    for x in result:\n",
    "            # m = [x[\"url\"],x[\"created_at\"],x[\"user\"]]\n",
    "#         m = [x[\"url\"],x[\"created_at\"],x[\"user\"][\"login\"]]\n",
    "        m = (x[\"user\"][\"login\"],x[\"created_at\"],x[\"body\"])\n",
    "        ls.append(m)\n",
    "    return ls\n",
    "\n",
    "\n",
    "ch_num = ['ch1']\n",
    "issue_num = '138'\n",
    "if issue_num:\n",
    "    comments =  submit_task_issue(issue_num)\n",
    "\n",
    "for comment in comments:\n",
    "#     print(comment)\n",
    "    conn = sqlite3.connect('test5.db')\n",
    "    c = conn.cursor()\n",
    "    #if 'ch1' in ch_num and (\"完成 ch1\" in comment[2] or \"完成 Ch1\" in comment[2]):\n",
    "    if 'https://github.com/' in comment[2]:\n",
    "        if 'ch1' in ch_num:\n",
    "            print('1',comment[0],comment[1])\n",
    "\n",
    "            c.execute(\"UPDATE submit_issue SET chap1_time = ? WHERE github_user_name = ?\", (comment[1],comment[0]))\n",
    "            print('1')\n",
    "\n",
    "        elif 'ch2' in ch_num and \"完成 ch2\" in comment[2]:\n",
    "            c.execute(\"UPDATE submit_issue SET chap2_time = ? WHERE github_user_name = ?\", (comment[1],comment[0]))\n",
    "            print('2')\n",
    "        elif 'ch3' in ch_num and \"完成 ch3\" in comment[2]:\n",
    "            c.execute(\"UPDATE submit_issue SET chap3_time = ? WHERE github_user_name = ?\", (comment[1],comment[0]))\n",
    "            print('3')\n",
    "        elif 'ch4' in ch_num and \"完成 ch4\" in comment[2]:\n",
    "            c.execute(\"UPDATE submit_issue SET chap4_time = ? WHERE github_user_name = ?\", (comment[1],comment[0]))\n",
    "            print('4')\n",
    "        elif 'ch5' in ch_num and \"完成 ch5\" in comment[2]:\n",
    "            c.execute(\"UPDATE submit_issue SET chap5_time = ? WHERE github_user_name = ?\", (comment[1],comment[0]))\n",
    "            print('5')\n",
    "        elif 'ch6' in ch_num and \"完成 ch6\" in comment[2]:\n",
    "            c.execute(\"UPDATE submit_issue SET chap6_time = ? WHERE github_user_name = ?\", (comment[1],comment[0]))\n",
    "            print('6')\n",
    "        elif 'ch7' in ch_num and \"完成 ch7\" in comment[2]:\n",
    "            c.execute(\"UPDATE submit_issue SET chap7_time = ? WHERE github_user_name = ?\", (comment[1],comment[0]))\n",
    "            print(type(comment))\n",
    "            print('7')\n",
    "        else:\n",
    "            pass\n",
    "        \n",
    "    conn.commit()"
   ]
  },
  {
   "cell_type": "code",
   "execution_count": 34,
   "metadata": {
    "collapsed": false,
    "deletable": true,
    "editable": true
   },
   "outputs": [
    {
     "name": "stdout",
     "output_type": "stream",
     "text": [
      "('Lesley19', None, None, None, None, None, None, None)\n",
      "('fengruibo', None, None, None, None, None, None, None)\n",
      "('leiyunhe', '2017-01-10T07:07:00Z', None, None, None, None, None, None)\n"
     ]
    }
   ],
   "source": [
    "conn = sqlite3.connect('test5.db')\n",
    "c = conn.cursor()\n",
    "for row in c.execute('SELECT * FROM submit_issue ORDER by github_user_name'):\n",
    "    print(row)\n",
    "conn.commit()\n",
    "conn.close()"
   ]
  },
  {
   "cell_type": "code",
   "execution_count": null,
   "metadata": {
    "collapsed": true,
    "deletable": true,
    "editable": true
   },
   "outputs": [],
   "source": []
  }
 ],
 "metadata": {
  "kernelspec": {
   "display_name": "Python 3",
   "language": "python",
   "name": "python3"
  },
  "language_info": {
   "codemirror_mode": {
    "name": "ipython",
    "version": 3
   },
   "file_extension": ".py",
   "mimetype": "text/x-python",
   "name": "python",
   "nbconvert_exporter": "python",
   "pygments_lexer": "ipython3",
   "version": "3.6.0"
  }
 },
 "nbformat": 4,
 "nbformat_minor": 2
}
