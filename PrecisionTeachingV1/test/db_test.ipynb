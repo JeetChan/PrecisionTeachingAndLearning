{
 "cells": [
  {
   "cell_type": "code",
   "execution_count": 1,
   "metadata": {
    "collapsed": true,
    "deletable": true,
    "editable": true
   },
   "outputs": [],
   "source": [
    "import sqlite3\n",
    "conn = sqlite3.connect('example.db')\n",
    "c = conn.cursor()\n",
    "\n",
    "# Create table\n",
    "c.execute('''CREATE TABLE stocks\n",
    "             (date text, trans text, symbol text, qty real, price real)''')\n",
    "\n",
    "# Insert a row of data\n",
    "c.execute(\"INSERT INTO stocks VALUES ('2006-01-05','BUY','RHAT',100,35.14)\")\n",
    "\n",
    "# Save (commit) the changes\n",
    "conn.commit()\n",
    "\n",
    "# We can also close the connection if we are done with it.\n",
    "# Just be sure any changes have been committed or they will be lost.\n",
    "conn.close()"
   ]
  },
  {
   "cell_type": "code",
   "execution_count": null,
   "metadata": {
    "collapsed": true
   },
   "outputs": [],
   "source": []
  },
  {
   "cell_type": "code",
   "execution_count": 2,
   "metadata": {
    "collapsed": false,
    "deletable": true,
    "editable": true
   },
   "outputs": [
    {
     "name": "stdout",
     "output_type": "stream",
     "text": [
      "('2006-01-05', 'BUY', 'RHAT', 100.0, 35.14)\n"
     ]
    }
   ],
   "source": [
    "import sqlite3\n",
    "conn = sqlite3.connect('example.db')\n",
    "c = conn.cursor()\n",
    "# Do this instead\n",
    "t = ('RHAT',)\n",
    "c.execute('SELECT * FROM stocks WHERE symbol=?', t)\n",
    "print(c.fetchone())"
   ]
  },
  {
   "cell_type": "code",
   "execution_count": 3,
   "metadata": {
    "collapsed": false,
    "deletable": true,
    "editable": true
   },
   "outputs": [
    {
     "data": {
      "text/plain": [
       "<sqlite3.Cursor at 0x56c7220>"
      ]
     },
     "execution_count": 3,
     "metadata": {},
     "output_type": "execute_result"
    }
   ],
   "source": [
    "# Larger example that inserts many records at a time\n",
    "purchases = [('2006-03-28', 'BUY', 'IBM', 1000, 45.00),\n",
    "             ('2006-04-05', 'BUY', 'MSFT', 1000, 72.00),\n",
    "             ('2006-04-06', 'SELL', 'IBM', 500, 53.00),\n",
    "            ]\n",
    "c.executemany('INSERT INTO stocks VALUES (?,?,?,?,?)', purchases)"
   ]
  },
  {
   "cell_type": "code",
   "execution_count": 4,
   "metadata": {
    "collapsed": false,
    "deletable": true,
    "editable": true
   },
   "outputs": [
    {
     "name": "stdout",
     "output_type": "stream",
     "text": [
      "('2006-01-05', 'BUY', 'RHAT', 100.0, 35.14)\n",
      "('2006-03-28', 'BUY', 'IBM', 1000.0, 45.0)\n",
      "('2006-04-06', 'SELL', 'IBM', 500.0, 53.0)\n",
      "('2006-04-05', 'BUY', 'MSFT', 1000.0, 72.0)\n"
     ]
    }
   ],
   "source": [
    "for row in c.execute('SELECT * FROM stocks ORDER BY price'):\n",
    "        print(row)"
   ]
  },
  {
   "cell_type": "code",
   "execution_count": null,
   "metadata": {
    "collapsed": true,
    "deletable": true,
    "editable": true
   },
   "outputs": [],
   "source": []
  },
  {
   "cell_type": "code",
   "execution_count": 8,
   "metadata": {
    "collapsed": true,
    "deletable": true,
    "editable": true
   },
   "outputs": [],
   "source": [
    "import sqlite3\n",
    "conn = sqlite3.connect('test1.db')\n",
    "c = conn.cursor()\n",
    "\n",
    "# Create table\n",
    "c.execute('''CREATE TABLE test1\n",
    "             (date text, trans text)''')\n",
    "\n",
    "# Insert a row of data\n",
    "c.execute(\"INSERT INTO test1 VALUES ('2006-01-05','BUY')\")\n",
    "\n",
    "# Save (commit) the changes\n",
    "conn.commit()\n",
    "\n",
    "# We can also close the connection if we are done with it.\n",
    "# Just be sure any changes have been committed or they will be lost.\n",
    "conn.close()"
   ]
  },
  {
   "cell_type": "code",
   "execution_count": 3,
   "metadata": {
    "collapsed": false,
    "deletable": true,
    "editable": true
   },
   "outputs": [
    {
     "name": "stdout",
     "output_type": "stream",
     "text": [
      "('2006-01-05', 'BUY')\n"
     ]
    }
   ],
   "source": [
    "import sqlite3\n",
    "conn = sqlite3.connect('test1.db')\n",
    "c = conn.cursor()\n",
    "c.execute(\"INSERT INTO test1 VALUES ('2007-01-05','BUY')\")\n",
    "c.execute(\"INSERT INTO test1 VALUES ('2008-01-05','BUY')\")\n",
    "t = ('BUY',)\n",
    "c.execute('SELECT * FROM test1 WHERE trans=?', t)\n",
    "conn.commit()\n",
    "print(c.fetchone())"
   ]
  },
  {
   "cell_type": "code",
   "execution_count": 5,
   "metadata": {
    "collapsed": false,
    "deletable": true,
    "editable": true
   },
   "outputs": [
    {
     "name": "stdout",
     "output_type": "stream",
     "text": [
      "('2006-01-05', 'BUY')\n",
      "<class 'tuple'>\n",
      "('2007-01-05', 'SELL')\n",
      "<class 'tuple'>\n",
      "('2007-01-05', 'BUY')\n",
      "<class 'tuple'>\n",
      "('2008-01-05', 'BUY')\n",
      "<class 'tuple'>\n",
      "('2008-01-05', 'BUY')\n",
      "<class 'tuple'>\n"
     ]
    }
   ],
   "source": [
    "for row in c.execute('SELECT * FROM test1 ORDER BY date'):\n",
    "        print(row)\n",
    "        print(type(row))"
   ]
  },
  {
   "cell_type": "code",
   "execution_count": 51,
   "metadata": {
    "collapsed": false,
    "deletable": true,
    "editable": true
   },
   "outputs": [],
   "source": [
    "# c.execute(\"UPDATE submit_issue SET chap1_time = ? WHERE github_user_name = ?\", tuple(comment))\n",
    "import sqlite3\n",
    "conn = sqlite3.connect('test1.db')\n",
    "c = conn.cursor()\n",
    "trans = 'SELL'\n",
    "date = '2007-01-05'\n",
    "c.execute('UPDATE test1 SET trans = ? WHERE date= ? ',(trans,date))\n",
    "conn.commit()"
   ]
  },
  {
   "cell_type": "code",
   "execution_count": 1,
   "metadata": {
    "collapsed": false,
    "deletable": true,
    "editable": true,
    "scrolled": true
   },
   "outputs": [
    {
     "ename": "NameError",
     "evalue": "name 'c' is not defined",
     "output_type": "error",
     "traceback": [
      "\u001b[1;31m---------------------------------------------------------------------------\u001b[0m",
      "\u001b[1;31mNameError\u001b[0m                                 Traceback (most recent call last)",
      "\u001b[1;32m<ipython-input-1-d0f53d8a4526>\u001b[0m in \u001b[0;36m<module>\u001b[1;34m()\u001b[0m\n\u001b[1;32m----> 1\u001b[1;33m \u001b[1;32mfor\u001b[0m \u001b[0mrow\u001b[0m \u001b[1;32min\u001b[0m \u001b[0mc\u001b[0m\u001b[1;33m.\u001b[0m\u001b[0mexecute\u001b[0m\u001b[1;33m(\u001b[0m\u001b[1;34m'SELECT * FROM test1 ORDER BY date'\u001b[0m\u001b[1;33m)\u001b[0m\u001b[1;33m:\u001b[0m\u001b[1;33m\u001b[0m\u001b[0m\n\u001b[0m\u001b[0;32m      2\u001b[0m         \u001b[0mprint\u001b[0m\u001b[1;33m(\u001b[0m\u001b[0mrow\u001b[0m\u001b[1;33m)\u001b[0m\u001b[1;33m\u001b[0m\u001b[0m\n\u001b[0;32m      3\u001b[0m         \u001b[0mprint\u001b[0m\u001b[1;33m(\u001b[0m\u001b[0mtype\u001b[0m\u001b[1;33m(\u001b[0m\u001b[0mrow\u001b[0m\u001b[1;33m)\u001b[0m\u001b[1;33m)\u001b[0m\u001b[1;33m\u001b[0m\u001b[0m\n",
      "\u001b[1;31mNameError\u001b[0m: name 'c' is not defined"
     ]
    }
   ],
   "source": [
    "for row in c.execute('SELECT * FROM test1 ORDER BY date'):\n",
    "        print(row)\n",
    "        print(type(row))"
   ]
  },
  {
   "cell_type": "code",
   "execution_count": 27,
   "metadata": {
    "collapsed": false,
    "deletable": true,
    "editable": true
   },
   "outputs": [
    {
     "name": "stdout",
     "output_type": "stream",
     "text": [
      "[]\n"
     ]
    }
   ],
   "source": [
    "print(c.fetchall())"
   ]
  },
  {
   "cell_type": "code",
   "execution_count": null,
   "metadata": {
    "collapsed": true,
    "deletable": true,
    "editable": true
   },
   "outputs": [],
   "source": [
    "conn = sqlite3.connect('test1.db')\n",
    "c = conn.cursor()\n",
    "update_sql = 'UPDATE student SET name = ? WHERE ID = ? '\n",
    "     data = [('HongtenAA', 1),\n",
    "            ('HongtenBB', 2),\n",
    "             ('HongtenCC', 3),\n",
    "             ('HongtenDD', 4)]"
   ]
  },
  {
   "cell_type": "code",
   "execution_count": 18,
   "metadata": {
    "collapsed": false,
    "scrolled": false
   },
   "outputs": [
    {
     "name": "stdout",
     "output_type": "stream",
     "text": [
      "18\n",
      "12\n",
      "16\n",
      "7\n",
      "5\n",
      "3\n",
      "2\n",
      "20\n",
      "18\n",
      "20\n",
      "14\n",
      "6\n",
      "7\n",
      "2\n",
      "{'长三角': {'ch1': 20, 'ch2': 18, 'ch3': 20, 'ch4': 14, 'ch5': 6, 'ch6': 7, 'ch7': 2}, '珠三角': {'ch1': 18, 'ch2': 12, 'ch3': 16, 'ch4': 7, 'ch5': 5, 'ch6': 3, 'ch7': 2}}\n"
     ]
    }
   ],
   "source": [
    "from utils.const_value import REPO_OWNER, REPO_NAME, USERNAME,PASSWORD,AREA,payload,payload1,payload2,TIME,DATABASE,LABEL,STATE\n",
    "import sqlite3\n",
    "\n",
    "conn = sqlite3.connect(DATABASE)\n",
    "c = conn.cursor()\n",
    "\n",
    "# for row in c.execute('SELECT COUNT(area) FROM submit_issue  WHERE area = \"长三角\" ORDER by github_user_name'):\n",
    "#     print(row)\n",
    "# for row in c.execute('SELECT COUNT(area) FROM submit_issue  WHERE area = \"长三角\"'):\n",
    "#     print(row)\n",
    "\n",
    "AREA=['珠三角','长三角']\n",
    "static = {'长三角':{},'珠三角':{}}\n",
    "for district in AREA:\n",
    "    ls = []\n",
    "    for row in c.execute('SELECT * FROM submit_issue WHERE area = ? and chap1_time != \"None\"',(district,)):\n",
    "#         print(row)\n",
    "        ls.append(row)\n",
    "    print(len(ls))\n",
    "    static[district]['ch1'] = len(ls)\n",
    "    \n",
    "    ls = []\n",
    "    for row in c.execute('SELECT * FROM submit_issue WHERE area = ? and chap2_time != \"None\"',(district,)):\n",
    "#         print(row)\n",
    "        ls.append(row)\n",
    "    print(len(ls))\n",
    "    static[district]['ch2'] = len(ls)\n",
    "    \n",
    "    ls = []\n",
    "    for row in c.execute('SELECT * FROM submit_issue WHERE area = ? and chap3_time != \"None\"',(district,)):\n",
    "#         print(row)\n",
    "        ls.append(row)\n",
    "    print(len(ls))\n",
    "    static[district]['ch3'] = len(ls)\n",
    "    \n",
    "    ls = []\n",
    "    for row in c.execute('SELECT * FROM submit_issue WHERE area = ? and chap4_time != \"None\"',(district,)):\n",
    "#         print(row)\n",
    "        ls.append(row)\n",
    "    print(len(ls))\n",
    "    static[district]['ch4'] = len(ls)\n",
    "\n",
    "    ls = []\n",
    "    for row in c.execute('SELECT * FROM submit_issue WHERE area = ? and chap5_time != \"None\"',(district,)):\n",
    "#         print(row)\n",
    "        ls.append(row)\n",
    "    print(len(ls))\n",
    "    static[district]['ch5'] = len(ls)\n",
    "\n",
    "    ls = []\n",
    "    for row in c.execute('SELECT * FROM submit_issue WHERE area = ? and chap6_time != \"None\"',(district,)):\n",
    "#         print(row)\n",
    "        ls.append(row)\n",
    "    print(len(ls))\n",
    "    static[district]['ch6'] = len(ls)\n",
    "\n",
    "    ls = []\n",
    "    for row in c.execute('SELECT * FROM submit_issue WHERE area = ? and chap7_time != \"None\"',(district,)):\n",
    "#         print(row)\n",
    "        ls.append(row)\n",
    "    print(len(ls))\n",
    "    static[district]['ch7'] = len(ls)\n",
    "\n",
    "print(static)\n",
    "# for d in ['长三角','珠三角','北京','其他']:\n",
    "# \tfor chap_num in ['chap1_time','chap2_time','chap3_time','chap4_time','chap5_time','chap6_time','chap7_time']:\n",
    "# \t\tls = []\n",
    "# \t\tfor row in c.execute('SELECT * FROM submit_issue  WHERE area = ? and ? != \"None\"',(d,chap_num)):\n",
    "# \t\t\tls.append(row)\n",
    "# \t\tprint(d,chap_num,len(ls))\n",
    "\n",
    "\n",
    "conn.commit()\n",
    "conn.close()\n",
    "\n"
   ]
  },
  {
   "cell_type": "code",
   "execution_count": 26,
   "metadata": {
    "collapsed": false
   },
   "outputs": [
    {
     "name": "stdout",
     "output_type": "stream",
     "text": [
      "{'长三角': {'chap1_time': 20, 'chap2_time': 18, 'chap3_time': 20, 'chap4_time': 14, 'chap5_time': 6, 'chap6_time': 7, 'chap7_time': 2}, '珠三角': {'chap1_time': 18, 'chap2_time': 12, 'chap3_time': 16, 'chap4_time': 7, 'chap5_time': 5, 'chap6_time': 3, 'chap7_time': 2}, '北京': {'chap1_time': 20, 'chap2_time': 11, 'chap3_time': 16, 'chap4_time': 14, 'chap5_time': 5, 'chap6_time': 4, 'chap7_time': 1}, '其他': {'chap1_time': 14, 'chap2_time': 11, 'chap3_time': 14, 'chap4_time': 11, 'chap5_time': 5, 'chap6_time': 6, 'chap7_time': 3}}\n"
     ]
    }
   ],
   "source": [
    "from utils.const_value import REPO_OWNER, REPO_NAME, USERNAME,PASSWORD,AREA,payload,payload1,payload2,TIME,DATABASE,LABEL,STATE\n",
    "import sqlite3\n",
    "\n",
    "conn = sqlite3.connect(DATABASE)\n",
    "c = conn.cursor()\n",
    "\n",
    "# for row in c.execute('SELECT COUNT(area) FROM submit_issue  WHERE area = \"长三角\" ORDER by github_user_name'):\n",
    "#     print(row)\n",
    "# for row in c.execute('SELECT COUNT(area) FROM submit_issue  WHERE area = \"长三角\"'):\n",
    "#     print(row)\n",
    "\n",
    "AREA=['珠三角','长三角','北京','其他']\n",
    "\n",
    "\n",
    "def filter_by_area_chap(column):\n",
    "    ls = []\n",
    "    for row in c.execute('SELECT * FROM submit_issue WHERE area = ? and %s != \"None\"' % column ,(district,)):\n",
    "#         print(row)\n",
    "        ls.append(row)\n",
    "#     print(len(ls))\n",
    "    static[district][column] = len(ls)\n",
    "    \n",
    "for area in AREA:\n",
    "    static[area]={}\n",
    "for district in AREA:\n",
    "    for column in ['chap1_time','chap2_time','chap3_time','chap4_time','chap5_time','chap6_time','chap7_time']:\n",
    "        filter_by_area_chap(column)\n",
    "\n",
    "print(static)\n",
    "\n",
    "\n",
    "conn.commit()\n",
    "conn.close()\n",
    "\n"
   ]
  },
  {
   "cell_type": "code",
   "execution_count": null,
   "metadata": {
    "collapsed": true
   },
   "outputs": [],
   "source": []
  },
  {
   "cell_type": "code",
   "execution_count": 31,
   "metadata": {
    "collapsed": false,
    "deletable": true,
    "editable": true
   },
   "outputs": [
    {
     "name": "stdout",
     "output_type": "stream",
     "text": [
      "{'长三角': {'chap1_time': 20, 'chap2_time': 18, 'chap3_time': 20, 'chap4_time': 14, 'chap5_time': 6, 'chap6_time': 7, 'chap7_time': 2}, '珠三角': {'chap1_time': 18, 'chap2_time': 12, 'chap3_time': 16, 'chap4_time': 7, 'chap5_time': 5, 'chap6_time': 3, 'chap7_time': 2}, '北京': {'chap1_time': 20, 'chap2_time': 11, 'chap3_time': 16, 'chap4_time': 14, 'chap5_time': 5, 'chap6_time': 4, 'chap7_time': 1}, '其他': {'chap1_time': 14, 'chap2_time': 11, 'chap3_time': 14, 'chap4_time': 11, 'chap5_time': 5, 'chap6_time': 6, 'chap7_time': 3}}\n"
     ]
    }
   ],
   "source": [
    "from utils.const_value import REPO_OWNER, REPO_NAME, USERNAME,PASSWORD,AREA,payload,payload1,payload2,TIME,DATABASE,LABEL,STATE\n",
    "import sqlite3\n",
    "\n",
    "conn = sqlite3.connect(DATABASE)\n",
    "c = conn.cursor()\n",
    "\n",
    "\n",
    "AREA=['珠三角','长三角','北京','其他']\n",
    "def static_performance():    \n",
    "    for area in AREA:\n",
    "        static[area]={}\n",
    "    for district in AREA:\n",
    "        for column in ['chap1_time','chap2_time','chap3_time','chap4_time','chap5_time','chap6_time','chap7_time']:\n",
    "            ls = []\n",
    "            for row in c.execute('SELECT * FROM submit_issue WHERE area = ? and %s != \"None\"' % column ,(district,)):\n",
    "                ls.append(row)\n",
    "            static[district][column] = len(ls)\n",
    "\n",
    "    return static\n",
    "print(static_performance())\n",
    "conn.commit()\n",
    "conn.close()\n",
    "\n"
   ]
  },
  {
   "cell_type": "code",
   "execution_count": null,
   "metadata": {
    "collapsed": true
   },
   "outputs": [],
   "source": []
  }
 ],
 "metadata": {
  "kernelspec": {
   "display_name": "Python 3",
   "language": "python",
   "name": "python3"
  },
  "language_info": {
   "codemirror_mode": {
    "name": "ipython",
    "version": 3
   },
   "file_extension": ".py",
   "mimetype": "text/x-python",
   "name": "python",
   "nbconvert_exporter": "python",
   "pygments_lexer": "ipython3",
   "version": "3.6.0"
  }
 },
 "nbformat": 4,
 "nbformat_minor": 2
}
